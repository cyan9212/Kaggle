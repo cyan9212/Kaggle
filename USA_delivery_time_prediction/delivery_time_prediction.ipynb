{
 "cells": [
  {
   "cell_type": "code",
   "execution_count": 1,
   "id": "dca58aeb",
   "metadata": {},
   "outputs": [],
   "source": [
    "import numpy as np\n",
    "import pandas as pd\n",
    "import matplotlib.pyplot as plt\n",
    "import seaborn as sns\n",
    "%matplotlib inline"
   ]
  },
  {
   "cell_type": "markdown",
   "id": "236ce58f",
   "metadata": {},
   "source": [
    "## 1. 데이터 확인"
   ]
  },
  {
   "cell_type": "code",
   "execution_count": 13,
   "id": "5c6d603f",
   "metadata": {},
   "outputs": [
    {
     "data": {
      "text/html": [
       "<div>\n",
       "<style scoped>\n",
       "    .dataframe tbody tr th:only-of-type {\n",
       "        vertical-align: middle;\n",
       "    }\n",
       "\n",
       "    .dataframe tbody tr th {\n",
       "        vertical-align: top;\n",
       "    }\n",
       "\n",
       "    .dataframe thead th {\n",
       "        text-align: right;\n",
       "    }\n",
       "</style>\n",
       "<table border=\"1\" class=\"dataframe\">\n",
       "  <thead>\n",
       "    <tr style=\"text-align: right;\">\n",
       "      <th></th>\n",
       "      <th>market_id</th>\n",
       "      <th>created_at</th>\n",
       "      <th>actual_delivery_time</th>\n",
       "      <th>store_id</th>\n",
       "      <th>store_primary_category</th>\n",
       "      <th>order_protocol</th>\n",
       "      <th>total_items</th>\n",
       "      <th>subtotal</th>\n",
       "      <th>num_distinct_items</th>\n",
       "      <th>min_item_price</th>\n",
       "      <th>max_item_price</th>\n",
       "      <th>total_onshift</th>\n",
       "      <th>total_busy</th>\n",
       "      <th>total_outstanding_orders</th>\n",
       "      <th>estimated_order_place_duration</th>\n",
       "      <th>estimated_store_to_consumer_driving_duration</th>\n",
       "    </tr>\n",
       "  </thead>\n",
       "  <tbody>\n",
       "    <tr>\n",
       "      <th>0</th>\n",
       "      <td>1.0</td>\n",
       "      <td>2015-02-06 22:24:17</td>\n",
       "      <td>2015-02-06 23:27:16</td>\n",
       "      <td>1845</td>\n",
       "      <td>american</td>\n",
       "      <td>1.0</td>\n",
       "      <td>4</td>\n",
       "      <td>3441</td>\n",
       "      <td>4</td>\n",
       "      <td>557</td>\n",
       "      <td>1239</td>\n",
       "      <td>33.0</td>\n",
       "      <td>14.0</td>\n",
       "      <td>21.0</td>\n",
       "      <td>446</td>\n",
       "      <td>861.0</td>\n",
       "    </tr>\n",
       "    <tr>\n",
       "      <th>1</th>\n",
       "      <td>2.0</td>\n",
       "      <td>2015-02-10 21:49:25</td>\n",
       "      <td>2015-02-10 22:56:29</td>\n",
       "      <td>5477</td>\n",
       "      <td>mexican</td>\n",
       "      <td>2.0</td>\n",
       "      <td>1</td>\n",
       "      <td>1900</td>\n",
       "      <td>1</td>\n",
       "      <td>1400</td>\n",
       "      <td>1400</td>\n",
       "      <td>1.0</td>\n",
       "      <td>2.0</td>\n",
       "      <td>2.0</td>\n",
       "      <td>446</td>\n",
       "      <td>690.0</td>\n",
       "    </tr>\n",
       "    <tr>\n",
       "      <th>2</th>\n",
       "      <td>3.0</td>\n",
       "      <td>2015-01-22 20:39:28</td>\n",
       "      <td>2015-01-22 21:09:09</td>\n",
       "      <td>5477</td>\n",
       "      <td>NaN</td>\n",
       "      <td>1.0</td>\n",
       "      <td>1</td>\n",
       "      <td>1900</td>\n",
       "      <td>1</td>\n",
       "      <td>1900</td>\n",
       "      <td>1900</td>\n",
       "      <td>1.0</td>\n",
       "      <td>0.0</td>\n",
       "      <td>0.0</td>\n",
       "      <td>446</td>\n",
       "      <td>690.0</td>\n",
       "    </tr>\n",
       "    <tr>\n",
       "      <th>3</th>\n",
       "      <td>3.0</td>\n",
       "      <td>2015-02-03 21:21:45</td>\n",
       "      <td>2015-02-03 22:13:00</td>\n",
       "      <td>5477</td>\n",
       "      <td>NaN</td>\n",
       "      <td>1.0</td>\n",
       "      <td>6</td>\n",
       "      <td>6900</td>\n",
       "      <td>5</td>\n",
       "      <td>600</td>\n",
       "      <td>1800</td>\n",
       "      <td>1.0</td>\n",
       "      <td>1.0</td>\n",
       "      <td>2.0</td>\n",
       "      <td>446</td>\n",
       "      <td>289.0</td>\n",
       "    </tr>\n",
       "    <tr>\n",
       "      <th>4</th>\n",
       "      <td>3.0</td>\n",
       "      <td>2015-02-15 02:40:36</td>\n",
       "      <td>2015-02-15 03:20:26</td>\n",
       "      <td>5477</td>\n",
       "      <td>NaN</td>\n",
       "      <td>1.0</td>\n",
       "      <td>3</td>\n",
       "      <td>3900</td>\n",
       "      <td>3</td>\n",
       "      <td>1100</td>\n",
       "      <td>1600</td>\n",
       "      <td>6.0</td>\n",
       "      <td>6.0</td>\n",
       "      <td>9.0</td>\n",
       "      <td>446</td>\n",
       "      <td>650.0</td>\n",
       "    </tr>\n",
       "  </tbody>\n",
       "</table>\n",
       "</div>"
      ],
      "text/plain": [
       "   market_id           created_at actual_delivery_time  store_id  \\\n",
       "0        1.0  2015-02-06 22:24:17  2015-02-06 23:27:16      1845   \n",
       "1        2.0  2015-02-10 21:49:25  2015-02-10 22:56:29      5477   \n",
       "2        3.0  2015-01-22 20:39:28  2015-01-22 21:09:09      5477   \n",
       "3        3.0  2015-02-03 21:21:45  2015-02-03 22:13:00      5477   \n",
       "4        3.0  2015-02-15 02:40:36  2015-02-15 03:20:26      5477   \n",
       "\n",
       "  store_primary_category  order_protocol  total_items  subtotal  \\\n",
       "0               american             1.0            4      3441   \n",
       "1                mexican             2.0            1      1900   \n",
       "2                    NaN             1.0            1      1900   \n",
       "3                    NaN             1.0            6      6900   \n",
       "4                    NaN             1.0            3      3900   \n",
       "\n",
       "   num_distinct_items  min_item_price  max_item_price  total_onshift  \\\n",
       "0                   4             557            1239           33.0   \n",
       "1                   1            1400            1400            1.0   \n",
       "2                   1            1900            1900            1.0   \n",
       "3                   5             600            1800            1.0   \n",
       "4                   3            1100            1600            6.0   \n",
       "\n",
       "   total_busy  total_outstanding_orders  estimated_order_place_duration  \\\n",
       "0        14.0                      21.0                             446   \n",
       "1         2.0                       2.0                             446   \n",
       "2         0.0                       0.0                             446   \n",
       "3         1.0                       2.0                             446   \n",
       "4         6.0                       9.0                             446   \n",
       "\n",
       "   estimated_store_to_consumer_driving_duration  \n",
       "0                                         861.0  \n",
       "1                                         690.0  \n",
       "2                                         690.0  \n",
       "3                                         289.0  \n",
       "4                                         650.0  "
      ]
     },
     "execution_count": 13,
     "metadata": {},
     "output_type": "execute_result"
    }
   ],
   "source": [
    "delivery_df = pd.read_csv('/jupyter/Data/Delivery/delivery_raw.csv', sep='\\t')\n",
    "delivery_df.head()"
   ]
  },
  {
   "cell_type": "code",
   "execution_count": 14,
   "id": "1ecd0247",
   "metadata": {},
   "outputs": [
    {
     "name": "stdout",
     "output_type": "stream",
     "text": [
      "<class 'pandas.core.frame.DataFrame'>\n",
      "RangeIndex: 197428 entries, 0 to 197427\n",
      "Data columns (total 16 columns):\n",
      " #   Column                                        Non-Null Count   Dtype  \n",
      "---  ------                                        --------------   -----  \n",
      " 0   market_id                                     196441 non-null  float64\n",
      " 1   created_at                                    197428 non-null  object \n",
      " 2   actual_delivery_time                          197421 non-null  object \n",
      " 3   store_id                                      197428 non-null  int64  \n",
      " 4   store_primary_category                        192668 non-null  object \n",
      " 5   order_protocol                                196433 non-null  float64\n",
      " 6   total_items                                   197428 non-null  int64  \n",
      " 7   subtotal                                      197428 non-null  int64  \n",
      " 8   num_distinct_items                            197428 non-null  int64  \n",
      " 9   min_item_price                                197428 non-null  int64  \n",
      " 10  max_item_price                                197428 non-null  int64  \n",
      " 11  total_onshift                                 181166 non-null  float64\n",
      " 12  total_busy                                    181166 non-null  float64\n",
      " 13  total_outstanding_orders                      181166 non-null  float64\n",
      " 14  estimated_order_place_duration                197428 non-null  int64  \n",
      " 15  estimated_store_to_consumer_driving_duration  196902 non-null  float64\n",
      "dtypes: float64(6), int64(7), object(3)\n",
      "memory usage: 24.1+ MB\n"
     ]
    }
   ],
   "source": [
    "delivery_df.info()"
   ]
  },
  {
   "cell_type": "code",
   "execution_count": 15,
   "id": "9a354f0e",
   "metadata": {},
   "outputs": [
    {
     "data": {
      "text/plain": [
       "market_id                                         987\n",
       "created_at                                          0\n",
       "actual_delivery_time                                7\n",
       "store_id                                            0\n",
       "store_primary_category                           4760\n",
       "order_protocol                                    995\n",
       "total_items                                         0\n",
       "subtotal                                            0\n",
       "num_distinct_items                                  0\n",
       "min_item_price                                      0\n",
       "max_item_price                                      0\n",
       "total_onshift                                   16262\n",
       "total_busy                                      16262\n",
       "total_outstanding_orders                        16262\n",
       "estimated_order_place_duration                      0\n",
       "estimated_store_to_consumer_driving_duration      526\n",
       "dtype: int64"
      ]
     },
     "execution_count": 15,
     "metadata": {},
     "output_type": "execute_result"
    }
   ],
   "source": [
    "delivery_df.isnull().sum()"
   ]
  },
  {
   "cell_type": "code",
   "execution_count": 16,
   "id": "d48c0692",
   "metadata": {},
   "outputs": [
    {
     "data": {
      "text/html": [
       "<div>\n",
       "<style scoped>\n",
       "    .dataframe tbody tr th:only-of-type {\n",
       "        vertical-align: middle;\n",
       "    }\n",
       "\n",
       "    .dataframe tbody tr th {\n",
       "        vertical-align: top;\n",
       "    }\n",
       "\n",
       "    .dataframe thead th {\n",
       "        text-align: right;\n",
       "    }\n",
       "</style>\n",
       "<table border=\"1\" class=\"dataframe\">\n",
       "  <thead>\n",
       "    <tr style=\"text-align: right;\">\n",
       "      <th></th>\n",
       "      <th>market_id</th>\n",
       "      <th>store_id</th>\n",
       "      <th>order_protocol</th>\n",
       "      <th>total_items</th>\n",
       "      <th>subtotal</th>\n",
       "      <th>num_distinct_items</th>\n",
       "      <th>min_item_price</th>\n",
       "      <th>max_item_price</th>\n",
       "      <th>total_onshift</th>\n",
       "      <th>total_busy</th>\n",
       "      <th>total_outstanding_orders</th>\n",
       "      <th>estimated_order_place_duration</th>\n",
       "      <th>estimated_store_to_consumer_driving_duration</th>\n",
       "    </tr>\n",
       "  </thead>\n",
       "  <tbody>\n",
       "    <tr>\n",
       "      <th>count</th>\n",
       "      <td>196441.000000</td>\n",
       "      <td>197428.000000</td>\n",
       "      <td>196433.000000</td>\n",
       "      <td>197428.000000</td>\n",
       "      <td>197428.000000</td>\n",
       "      <td>197428.000000</td>\n",
       "      <td>197428.000000</td>\n",
       "      <td>197428.000000</td>\n",
       "      <td>181166.000000</td>\n",
       "      <td>181166.000000</td>\n",
       "      <td>181166.000000</td>\n",
       "      <td>197428.000000</td>\n",
       "      <td>196902.000000</td>\n",
       "    </tr>\n",
       "    <tr>\n",
       "      <th>mean</th>\n",
       "      <td>2.978706</td>\n",
       "      <td>3530.510272</td>\n",
       "      <td>2.882352</td>\n",
       "      <td>3.196391</td>\n",
       "      <td>2682.331402</td>\n",
       "      <td>2.670791</td>\n",
       "      <td>686.218470</td>\n",
       "      <td>1159.588630</td>\n",
       "      <td>44.808093</td>\n",
       "      <td>41.739747</td>\n",
       "      <td>58.050065</td>\n",
       "      <td>308.560179</td>\n",
       "      <td>545.358935</td>\n",
       "    </tr>\n",
       "    <tr>\n",
       "      <th>std</th>\n",
       "      <td>1.524867</td>\n",
       "      <td>2053.496711</td>\n",
       "      <td>1.503771</td>\n",
       "      <td>2.666546</td>\n",
       "      <td>1823.093688</td>\n",
       "      <td>1.630255</td>\n",
       "      <td>522.038648</td>\n",
       "      <td>558.411377</td>\n",
       "      <td>34.526783</td>\n",
       "      <td>32.145733</td>\n",
       "      <td>52.661830</td>\n",
       "      <td>90.139653</td>\n",
       "      <td>219.352902</td>\n",
       "    </tr>\n",
       "    <tr>\n",
       "      <th>min</th>\n",
       "      <td>1.000000</td>\n",
       "      <td>1.000000</td>\n",
       "      <td>1.000000</td>\n",
       "      <td>1.000000</td>\n",
       "      <td>0.000000</td>\n",
       "      <td>1.000000</td>\n",
       "      <td>-86.000000</td>\n",
       "      <td>0.000000</td>\n",
       "      <td>-4.000000</td>\n",
       "      <td>-5.000000</td>\n",
       "      <td>-6.000000</td>\n",
       "      <td>0.000000</td>\n",
       "      <td>0.000000</td>\n",
       "    </tr>\n",
       "    <tr>\n",
       "      <th>25%</th>\n",
       "      <td>2.000000</td>\n",
       "      <td>1686.000000</td>\n",
       "      <td>1.000000</td>\n",
       "      <td>2.000000</td>\n",
       "      <td>1400.000000</td>\n",
       "      <td>1.000000</td>\n",
       "      <td>299.000000</td>\n",
       "      <td>800.000000</td>\n",
       "      <td>17.000000</td>\n",
       "      <td>15.000000</td>\n",
       "      <td>17.000000</td>\n",
       "      <td>251.000000</td>\n",
       "      <td>382.000000</td>\n",
       "    </tr>\n",
       "    <tr>\n",
       "      <th>50%</th>\n",
       "      <td>3.000000</td>\n",
       "      <td>3592.000000</td>\n",
       "      <td>3.000000</td>\n",
       "      <td>3.000000</td>\n",
       "      <td>2200.000000</td>\n",
       "      <td>2.000000</td>\n",
       "      <td>595.000000</td>\n",
       "      <td>1095.000000</td>\n",
       "      <td>37.000000</td>\n",
       "      <td>34.000000</td>\n",
       "      <td>41.000000</td>\n",
       "      <td>251.000000</td>\n",
       "      <td>544.000000</td>\n",
       "    </tr>\n",
       "    <tr>\n",
       "      <th>75%</th>\n",
       "      <td>4.000000</td>\n",
       "      <td>5299.000000</td>\n",
       "      <td>4.000000</td>\n",
       "      <td>4.000000</td>\n",
       "      <td>3395.000000</td>\n",
       "      <td>3.000000</td>\n",
       "      <td>949.000000</td>\n",
       "      <td>1395.000000</td>\n",
       "      <td>65.000000</td>\n",
       "      <td>62.000000</td>\n",
       "      <td>85.000000</td>\n",
       "      <td>446.000000</td>\n",
       "      <td>702.000000</td>\n",
       "    </tr>\n",
       "    <tr>\n",
       "      <th>max</th>\n",
       "      <td>6.000000</td>\n",
       "      <td>6987.000000</td>\n",
       "      <td>7.000000</td>\n",
       "      <td>411.000000</td>\n",
       "      <td>27100.000000</td>\n",
       "      <td>20.000000</td>\n",
       "      <td>14700.000000</td>\n",
       "      <td>14700.000000</td>\n",
       "      <td>171.000000</td>\n",
       "      <td>154.000000</td>\n",
       "      <td>285.000000</td>\n",
       "      <td>2715.000000</td>\n",
       "      <td>2088.000000</td>\n",
       "    </tr>\n",
       "  </tbody>\n",
       "</table>\n",
       "</div>"
      ],
      "text/plain": [
       "           market_id       store_id  order_protocol    total_items  \\\n",
       "count  196441.000000  197428.000000   196433.000000  197428.000000   \n",
       "mean        2.978706    3530.510272        2.882352       3.196391   \n",
       "std         1.524867    2053.496711        1.503771       2.666546   \n",
       "min         1.000000       1.000000        1.000000       1.000000   \n",
       "25%         2.000000    1686.000000        1.000000       2.000000   \n",
       "50%         3.000000    3592.000000        3.000000       3.000000   \n",
       "75%         4.000000    5299.000000        4.000000       4.000000   \n",
       "max         6.000000    6987.000000        7.000000     411.000000   \n",
       "\n",
       "            subtotal  num_distinct_items  min_item_price  max_item_price  \\\n",
       "count  197428.000000       197428.000000   197428.000000   197428.000000   \n",
       "mean     2682.331402            2.670791      686.218470     1159.588630   \n",
       "std      1823.093688            1.630255      522.038648      558.411377   \n",
       "min         0.000000            1.000000      -86.000000        0.000000   \n",
       "25%      1400.000000            1.000000      299.000000      800.000000   \n",
       "50%      2200.000000            2.000000      595.000000     1095.000000   \n",
       "75%      3395.000000            3.000000      949.000000     1395.000000   \n",
       "max     27100.000000           20.000000    14700.000000    14700.000000   \n",
       "\n",
       "       total_onshift     total_busy  total_outstanding_orders  \\\n",
       "count  181166.000000  181166.000000             181166.000000   \n",
       "mean       44.808093      41.739747                 58.050065   \n",
       "std        34.526783      32.145733                 52.661830   \n",
       "min        -4.000000      -5.000000                 -6.000000   \n",
       "25%        17.000000      15.000000                 17.000000   \n",
       "50%        37.000000      34.000000                 41.000000   \n",
       "75%        65.000000      62.000000                 85.000000   \n",
       "max       171.000000     154.000000                285.000000   \n",
       "\n",
       "       estimated_order_place_duration  \\\n",
       "count                   197428.000000   \n",
       "mean                       308.560179   \n",
       "std                         90.139653   \n",
       "min                          0.000000   \n",
       "25%                        251.000000   \n",
       "50%                        251.000000   \n",
       "75%                        446.000000   \n",
       "max                       2715.000000   \n",
       "\n",
       "       estimated_store_to_consumer_driving_duration  \n",
       "count                                 196902.000000  \n",
       "mean                                     545.358935  \n",
       "std                                      219.352902  \n",
       "min                                        0.000000  \n",
       "25%                                      382.000000  \n",
       "50%                                      544.000000  \n",
       "75%                                      702.000000  \n",
       "max                                     2088.000000  "
      ]
     },
     "execution_count": 16,
     "metadata": {},
     "output_type": "execute_result"
    }
   ],
   "source": [
    "delivery_df.describe()"
   ]
  },
  {
   "cell_type": "markdown",
   "id": "02538a32",
   "metadata": {},
   "source": [
    "## 2. EDA & FE"
   ]
  },
  {
   "cell_type": "markdown",
   "id": "324ced2e",
   "metadata": {},
   "source": [
    "### actual_delivery_time"
   ]
  },
  {
   "cell_type": "code",
   "execution_count": 17,
   "id": "6be0ab35",
   "metadata": {},
   "outputs": [
    {
     "data": {
      "text/plain": [
       "0"
      ]
     },
     "execution_count": 17,
     "metadata": {},
     "output_type": "execute_result"
    }
   ],
   "source": [
    "time_nan = delivery_df[delivery_df['actual_delivery_time'].isnull()].index\n",
    "delivery_df.drop(time_nan, axis=0, inplace=True)\n",
    "delivery_df.reset_index(drop=True, inplace=True)\n",
    "delivery_df['actual_delivery_time'].isnull().sum()"
   ]
  },
  {
   "cell_type": "markdown",
   "id": "ea5f855b",
   "metadata": {},
   "source": [
    "actual_delivery_time이 NULL값을 가지게 되면 target label이 없는것이나 다름이 없으므로 해당 데이터를 drop"
   ]
  },
  {
   "cell_type": "code",
   "execution_count": 18,
   "id": "900b73ac",
   "metadata": {},
   "outputs": [],
   "source": [
    "# datetime 형식으로 변경\n",
    "delivery_df['actual_delivery_time'] = pd.to_datetime(delivery_df['actual_delivery_time'])"
   ]
  },
  {
   "cell_type": "markdown",
   "id": "9d0c32f5",
   "metadata": {},
   "source": [
    "### created_at"
   ]
  },
  {
   "cell_type": "code",
   "execution_count": 19,
   "id": "92877be9",
   "metadata": {},
   "outputs": [],
   "source": [
    "# datetime 형식으로 변경\n",
    "delivery_df['created_at'] = pd.to_datetime(delivery_df['created_at'])"
   ]
  },
  {
   "cell_type": "markdown",
   "id": "505204a1",
   "metadata": {},
   "source": [
    "### delivery_time(target label)"
   ]
  },
  {
   "cell_type": "code",
   "execution_count": 20,
   "id": "e7ad79ae",
   "metadata": {},
   "outputs": [
    {
     "data": {
      "text/plain": [
       "0        0 days 01:02:59\n",
       "1        0 days 01:07:04\n",
       "2        0 days 00:29:41\n",
       "3        0 days 00:51:15\n",
       "4        0 days 00:39:50\n",
       "               ...      \n",
       "197416   0 days 01:05:07\n",
       "197417   0 days 00:56:23\n",
       "197418   0 days 00:50:08\n",
       "197419   0 days 01:05:07\n",
       "197420   0 days 00:37:08\n",
       "Name: delivery_time, Length: 197421, dtype: timedelta64[ns]"
      ]
     },
     "execution_count": 20,
     "metadata": {},
     "output_type": "execute_result"
    }
   ],
   "source": [
    "delivery_df['delivery_time'] = delivery_df['actual_delivery_time'] - delivery_df['created_at']\n",
    "delivery_df['delivery_time']"
   ]
  },
  {
   "cell_type": "code",
   "execution_count": 21,
   "id": "a9ad65ed",
   "metadata": {},
   "outputs": [
    {
     "data": {
      "text/plain": [
       "0     197418\n",
       "98         1\n",
       "3          1\n",
       "4          1\n",
       "Name: delivery_time, dtype: int64"
      ]
     },
     "execution_count": 21,
     "metadata": {},
     "output_type": "execute_result"
    }
   ],
   "source": [
    "delivery_df['delivery_time'].dt.days.value_counts()"
   ]
  },
  {
   "cell_type": "code",
   "execution_count": 22,
   "id": "98687c7d",
   "metadata": {},
   "outputs": [
    {
     "data": {
      "text/plain": [
       "Int64Index([2689, 27187, 185543], dtype='int64')"
      ]
     },
     "execution_count": 22,
     "metadata": {},
     "output_type": "execute_result"
    }
   ],
   "source": [
    "# 이상치라고 판단되는 데이터를 제거\n",
    "\n",
    "outlier_idx = delivery_df[\n",
    "    (delivery_df['delivery_time'].dt.days==98) | \n",
    "    (delivery_df['delivery_time'].dt.days==3)  |\n",
    "    (delivery_df['delivery_time'].dt.days==4)\n",
    "].index\n",
    "outlier_idx"
   ]
  },
  {
   "cell_type": "code",
   "execution_count": 23,
   "id": "71d80efe",
   "metadata": {},
   "outputs": [
    {
     "data": {
      "text/plain": [
       "0    197418\n",
       "Name: delivery_time, dtype: int64"
      ]
     },
     "execution_count": 23,
     "metadata": {},
     "output_type": "execute_result"
    }
   ],
   "source": [
    "delivery_df.drop(outlier_idx, axis=0, inplace=True)\n",
    "delivery_df.reset_index(drop=True, inplace=True)\n",
    "delivery_df['delivery_time'].dt.days.value_counts()"
   ]
  },
  {
   "cell_type": "code",
   "execution_count": 24,
   "id": "6e7ed684",
   "metadata": {},
   "outputs": [
    {
     "data": {
      "text/plain": [
       "0         3779\n",
       "1         4024\n",
       "2         1781\n",
       "3         3075\n",
       "4         2390\n",
       "          ... \n",
       "197413    3907\n",
       "197414    3383\n",
       "197415    3008\n",
       "197416    3907\n",
       "197417    2228\n",
       "Name: delivery_time, Length: 197418, dtype: int64"
      ]
     },
     "execution_count": 24,
     "metadata": {},
     "output_type": "execute_result"
    }
   ],
   "source": [
    "# target label을 초단위로 변경\n",
    "def time_to_second(delivery_time):\n",
    "    delivery_time = str(delivery_time)\n",
    "    time = delivery_time.split(':')\n",
    "    time[0] = time[0].split()[-1]\n",
    "    result = int(time[0])*3600 + int(time[1])*60 + int(time[2])\n",
    "    return result\n",
    "\n",
    "delivery_df['delivery_time'] = delivery_df['delivery_time'].apply(time_to_second)\n",
    "delivery_df['delivery_time']"
   ]
  },
  {
   "cell_type": "code",
   "execution_count": 25,
   "id": "da0d50ff",
   "metadata": {},
   "outputs": [
    {
     "data": {
      "image/png": "[encoded data removed]",
      "text/plain": [
       "<Figure size 432x288 with 1 Axes>"
      ]
     },
     "metadata": {
      "needs_background": "light"
     },
     "output_type": "display_data"
    }
   ],
   "source": [
    "# target label 값 분포 확인\n",
    "sns.set_palette(\"husl\", 6)\n",
    "sns.kdeplot(x='delivery_time', data=delivery_df, fill=True)\n",
    "plt.show()"
   ]
  },
  {
   "cell_type": "markdown",
   "id": "5cb3e1d1",
   "metadata": {},
   "source": [
    "그래프가 왼쪽으로 조금 치우쳐 있으므로 로그 변환을 수행"
   ]
  },
  {
   "cell_type": "code",
   "execution_count": 26,
   "id": "880dcae4",
   "metadata": {},
   "outputs": [
    {
     "data": {
      "image/png": "[encoded data removed]",
      "text/plain": [
       "<Figure size 432x288 with 1 Axes>"
      ]
     },
     "metadata": {
      "needs_background": "light"
     },
     "output_type": "display_data"
    }
   ],
   "source": [
    "a = np.log(delivery_df['delivery_time'])\n",
    "sns.kdeplot(a, fill=True)\n",
    "plt.show()"
   ]
  },
  {
   "cell_type": "markdown",
   "id": "7727c5cd",
   "metadata": {},
   "source": [
    "### market_id"
   ]
  },
  {
   "cell_type": "code",
   "execution_count": 27,
   "id": "38fe0aad",
   "metadata": {},
   "outputs": [
    {
     "data": {
      "text/plain": [
       "987"
      ]
     },
     "execution_count": 27,
     "metadata": {},
     "output_type": "execute_result"
    }
   ],
   "source": [
    "delivery_df['market_id'].isnull().sum()"
   ]
  },
  {
   "cell_type": "markdown",
   "id": "53b8d433",
   "metadata": {},
   "source": [
    "987개의 NaN값을 확인할 수 있다."
   ]
  },
  {
   "cell_type": "markdown",
   "id": "7bab8129",
   "metadata": {},
   "source": [
    "**`store_id`로 `market_id`를 유추하는것이 가능하다.**"
   ]
  },
  {
   "cell_type": "code",
   "execution_count": 28,
   "id": "c07e41d1",
   "metadata": {},
   "outputs": [],
   "source": [
    "from collections import defaultdict\n",
    "store_dic = defaultdict(set)\n",
    "\n",
    "# store_id를 market_id 별로 딕셔너리에 분류\n",
    "def cat_store_id(market, store):\n",
    "    if np.isnan(market):\n",
    "         return market\n",
    "    store_dic[market].add(store)\n",
    "    return market"
   ]
  },
  {
   "cell_type": "code",
   "execution_count": 29,
   "id": "2af43d46",
   "metadata": {},
   "outputs": [],
   "source": [
    "delivery_df['market_id'] =  delivery_df.apply(lambda x: cat_store_id(x['market_id'], x['store_id']), axis=1)"
   ]
  },
  {
   "cell_type": "code",
   "execution_count": 30,
   "id": "0706ef9f",
   "metadata": {},
   "outputs": [
    {
     "name": "stdout",
     "output_type": "stream",
     "text": [
      "2925\n",
      "1939\n",
      "2564\n",
      "1818\n",
      "1408\n",
      "1310\n"
     ]
    }
   ],
   "source": [
    "market_col = [1.0, 2.0, 3.0, 4.0, 5.0, 6.0]\n",
    "for market in market_col:\n",
    "    print(len(store_dic[market]))"
   ]
  },
  {
   "cell_type": "code",
   "execution_count": 31,
   "id": "6130ac8c",
   "metadata": {},
   "outputs": [
    {
     "data": {
      "text/plain": [
       "6865    937\n",
       "1311    863\n",
       "314     814\n",
       "1686    765\n",
       "3937    721\n",
       "       ... \n",
       "1258      1\n",
       "974       1\n",
       "4260      1\n",
       "6426      1\n",
       "1845      1\n",
       "Name: store_id, Length: 6743, dtype: int64"
      ]
     },
     "execution_count": 31,
     "metadata": {},
     "output_type": "execute_result"
    }
   ],
   "source": [
    "delivery_df['store_id'].value_counts()"
   ]
  },
  {
   "cell_type": "code",
   "execution_count": 32,
   "id": "88f2c2eb",
   "metadata": {},
   "outputs": [],
   "source": [
    "store_dic[1.0] -= (store_dic[2.0] | store_dic[3.0] | store_dic[4.0] | store_dic[5.0] | store_dic[6.0])\n",
    "store_dic[2.0] -= (store_dic[1.0] | store_dic[3.0] | store_dic[4.0] | store_dic[5.0] | store_dic[6.0])\n",
    "store_dic[3.0] -= (store_dic[1.0] | store_dic[2.0] | store_dic[4.0] | store_dic[5.0] | store_dic[6.0])\n",
    "store_dic[4.0] -= (store_dic[1.0] | store_dic[2.0] | store_dic[3.0] | store_dic[5.0] | store_dic[6.0])\n",
    "store_dic[5.0] -= (store_dic[1.0] | store_dic[2.0] | store_dic[3.0] | store_dic[4.0] | store_dic[6.0])\n",
    "store_dic[6.0] -= (store_dic[1.0] | store_dic[2.0] | store_dic[3.0] | store_dic[4.0] | store_dic[5.0])"
   ]
  },
  {
   "cell_type": "code",
   "execution_count": 33,
   "id": "f0b6e375",
   "metadata": {},
   "outputs": [
    {
     "name": "stdout",
     "output_type": "stream",
     "text": [
      "1243\n",
      "415\n",
      "1644\n",
      "1003\n",
      "1125\n",
      "1310\n"
     ]
    }
   ],
   "source": [
    "market_col = [1.0, 2.0, 3.0, 4.0, 5.0, 6.0]\n",
    "for market in market_col:\n",
    "    print(len(store_dic[market]))"
   ]
  },
  {
   "cell_type": "code",
   "execution_count": 34,
   "id": "51e378e2",
   "metadata": {},
   "outputs": [],
   "source": [
    "def fillna(market, store):\n",
    "    if np.isnan(market):\n",
    "        market_col = [1.0, 2.0, 3.0, 4.0, 5.0, 6.0]\n",
    "        for i in market_col:\n",
    "            if store in store_dic[i]:\n",
    "                return i\n",
    "        return market\n",
    "    return market"
   ]
  },
  {
   "cell_type": "code",
   "execution_count": 35,
   "id": "0265124b",
   "metadata": {},
   "outputs": [],
   "source": [
    "delivery_df['market_id'] = delivery_df.apply(lambda x: fillna(x['market_id'], x['store_id']), axis=1)"
   ]
  },
  {
   "cell_type": "code",
   "execution_count": 36,
   "id": "5f7ec4b5",
   "metadata": {},
   "outputs": [
    {
     "data": {
      "text/plain": [
       "3"
      ]
     },
     "execution_count": 36,
     "metadata": {},
     "output_type": "execute_result"
    }
   ],
   "source": [
    "delivery_df['market_id'].isnull().sum()"
   ]
  },
  {
   "cell_type": "markdown",
   "id": "f973f778",
   "metadata": {},
   "source": [
    "987개의 NaN값을 3개를 제외하고 전부 채워주었다."
   ]
  },
  {
   "cell_type": "code",
   "execution_count": 37,
   "id": "fd2d651e",
   "metadata": {},
   "outputs": [
    {
     "data": {
      "text/html": [
       "<div>\n",
       "<style scoped>\n",
       "    .dataframe tbody tr th:only-of-type {\n",
       "        vertical-align: middle;\n",
       "    }\n",
       "\n",
       "    .dataframe tbody tr th {\n",
       "        vertical-align: top;\n",
       "    }\n",
       "\n",
       "    .dataframe thead th {\n",
       "        text-align: right;\n",
       "    }\n",
       "</style>\n",
       "<table border=\"1\" class=\"dataframe\">\n",
       "  <thead>\n",
       "    <tr style=\"text-align: right;\">\n",
       "      <th></th>\n",
       "      <th>market_id</th>\n",
       "      <th>created_at</th>\n",
       "      <th>actual_delivery_time</th>\n",
       "      <th>store_id</th>\n",
       "      <th>store_primary_category</th>\n",
       "      <th>order_protocol</th>\n",
       "      <th>total_items</th>\n",
       "      <th>subtotal</th>\n",
       "      <th>num_distinct_items</th>\n",
       "      <th>min_item_price</th>\n",
       "      <th>max_item_price</th>\n",
       "      <th>total_onshift</th>\n",
       "      <th>total_busy</th>\n",
       "      <th>total_outstanding_orders</th>\n",
       "      <th>estimated_order_place_duration</th>\n",
       "      <th>estimated_store_to_consumer_driving_duration</th>\n",
       "      <th>delivery_time</th>\n",
       "    </tr>\n",
       "  </thead>\n",
       "  <tbody>\n",
       "    <tr>\n",
       "      <th>120917</th>\n",
       "      <td>NaN</td>\n",
       "      <td>2015-02-08 03:39:46</td>\n",
       "      <td>2015-02-08 04:25:31</td>\n",
       "      <td>3258</td>\n",
       "      <td>NaN</td>\n",
       "      <td>NaN</td>\n",
       "      <td>3</td>\n",
       "      <td>3470</td>\n",
       "      <td>3</td>\n",
       "      <td>725</td>\n",
       "      <td>1795</td>\n",
       "      <td>NaN</td>\n",
       "      <td>NaN</td>\n",
       "      <td>NaN</td>\n",
       "      <td>446</td>\n",
       "      <td>395.0</td>\n",
       "      <td>2745</td>\n",
       "    </tr>\n",
       "    <tr>\n",
       "      <th>152843</th>\n",
       "      <td>NaN</td>\n",
       "      <td>2015-02-08 23:43:19</td>\n",
       "      <td>2015-02-09 00:33:20</td>\n",
       "      <td>4122</td>\n",
       "      <td>pizza</td>\n",
       "      <td>NaN</td>\n",
       "      <td>2</td>\n",
       "      <td>3400</td>\n",
       "      <td>2</td>\n",
       "      <td>1000</td>\n",
       "      <td>1400</td>\n",
       "      <td>3.0</td>\n",
       "      <td>3.0</td>\n",
       "      <td>3.0</td>\n",
       "      <td>446</td>\n",
       "      <td>586.0</td>\n",
       "      <td>3001</td>\n",
       "    </tr>\n",
       "    <tr>\n",
       "      <th>186144</th>\n",
       "      <td>NaN</td>\n",
       "      <td>2015-02-15 23:53:45</td>\n",
       "      <td>2015-02-16 00:25:42</td>\n",
       "      <td>5774</td>\n",
       "      <td>sandwich</td>\n",
       "      <td>NaN</td>\n",
       "      <td>3</td>\n",
       "      <td>1550</td>\n",
       "      <td>2</td>\n",
       "      <td>250</td>\n",
       "      <td>900</td>\n",
       "      <td>14.0</td>\n",
       "      <td>14.0</td>\n",
       "      <td>18.0</td>\n",
       "      <td>446</td>\n",
       "      <td>261.0</td>\n",
       "      <td>1917</td>\n",
       "    </tr>\n",
       "  </tbody>\n",
       "</table>\n",
       "</div>"
      ],
      "text/plain": [
       "        market_id          created_at actual_delivery_time  store_id  \\\n",
       "120917        NaN 2015-02-08 03:39:46  2015-02-08 04:25:31      3258   \n",
       "152843        NaN 2015-02-08 23:43:19  2015-02-09 00:33:20      4122   \n",
       "186144        NaN 2015-02-15 23:53:45  2015-02-16 00:25:42      5774   \n",
       "\n",
       "       store_primary_category  order_protocol  total_items  subtotal  \\\n",
       "120917                    NaN             NaN            3      3470   \n",
       "152843                  pizza             NaN            2      3400   \n",
       "186144               sandwich             NaN            3      1550   \n",
       "\n",
       "        num_distinct_items  min_item_price  max_item_price  total_onshift  \\\n",
       "120917                   3             725            1795            NaN   \n",
       "152843                   2            1000            1400            3.0   \n",
       "186144                   2             250             900           14.0   \n",
       "\n",
       "        total_busy  total_outstanding_orders  estimated_order_place_duration  \\\n",
       "120917         NaN                       NaN                             446   \n",
       "152843         3.0                       3.0                             446   \n",
       "186144        14.0                      18.0                             446   \n",
       "\n",
       "        estimated_store_to_consumer_driving_duration  delivery_time  \n",
       "120917                                         395.0           2745  \n",
       "152843                                         586.0           3001  \n",
       "186144                                         261.0           1917  "
      ]
     },
     "execution_count": 37,
     "metadata": {},
     "output_type": "execute_result"
    }
   ],
   "source": [
    "delivery_df[delivery_df['market_id'].isnull()]"
   ]
  },
  {
   "cell_type": "code",
   "execution_count": 38,
   "id": "3905c4fd",
   "metadata": {},
   "outputs": [
    {
     "data": {
      "text/html": [
       "<div>\n",
       "<style scoped>\n",
       "    .dataframe tbody tr th:only-of-type {\n",
       "        vertical-align: middle;\n",
       "    }\n",
       "\n",
       "    .dataframe tbody tr th {\n",
       "        vertical-align: top;\n",
       "    }\n",
       "\n",
       "    .dataframe thead th {\n",
       "        text-align: right;\n",
       "    }\n",
       "</style>\n",
       "<table border=\"1\" class=\"dataframe\">\n",
       "  <thead>\n",
       "    <tr style=\"text-align: right;\">\n",
       "      <th></th>\n",
       "      <th>market_id</th>\n",
       "      <th>created_at</th>\n",
       "      <th>actual_delivery_time</th>\n",
       "      <th>store_id</th>\n",
       "      <th>store_primary_category</th>\n",
       "      <th>order_protocol</th>\n",
       "      <th>total_items</th>\n",
       "      <th>subtotal</th>\n",
       "      <th>num_distinct_items</th>\n",
       "      <th>min_item_price</th>\n",
       "      <th>max_item_price</th>\n",
       "      <th>total_onshift</th>\n",
       "      <th>total_busy</th>\n",
       "      <th>total_outstanding_orders</th>\n",
       "      <th>estimated_order_place_duration</th>\n",
       "      <th>estimated_store_to_consumer_driving_duration</th>\n",
       "      <th>delivery_time</th>\n",
       "    </tr>\n",
       "  </thead>\n",
       "  <tbody>\n",
       "    <tr>\n",
       "      <th>120917</th>\n",
       "      <td>NaN</td>\n",
       "      <td>2015-02-08 03:39:46</td>\n",
       "      <td>2015-02-08 04:25:31</td>\n",
       "      <td>3258</td>\n",
       "      <td>NaN</td>\n",
       "      <td>NaN</td>\n",
       "      <td>3</td>\n",
       "      <td>3470</td>\n",
       "      <td>3</td>\n",
       "      <td>725</td>\n",
       "      <td>1795</td>\n",
       "      <td>NaN</td>\n",
       "      <td>NaN</td>\n",
       "      <td>NaN</td>\n",
       "      <td>446</td>\n",
       "      <td>395.0</td>\n",
       "      <td>2745</td>\n",
       "    </tr>\n",
       "    <tr>\n",
       "      <th>152843</th>\n",
       "      <td>NaN</td>\n",
       "      <td>2015-02-08 23:43:19</td>\n",
       "      <td>2015-02-09 00:33:20</td>\n",
       "      <td>4122</td>\n",
       "      <td>pizza</td>\n",
       "      <td>NaN</td>\n",
       "      <td>2</td>\n",
       "      <td>3400</td>\n",
       "      <td>2</td>\n",
       "      <td>1000</td>\n",
       "      <td>1400</td>\n",
       "      <td>3.0</td>\n",
       "      <td>3.0</td>\n",
       "      <td>3.0</td>\n",
       "      <td>446</td>\n",
       "      <td>586.0</td>\n",
       "      <td>3001</td>\n",
       "    </tr>\n",
       "    <tr>\n",
       "      <th>186144</th>\n",
       "      <td>NaN</td>\n",
       "      <td>2015-02-15 23:53:45</td>\n",
       "      <td>2015-02-16 00:25:42</td>\n",
       "      <td>5774</td>\n",
       "      <td>sandwich</td>\n",
       "      <td>NaN</td>\n",
       "      <td>3</td>\n",
       "      <td>1550</td>\n",
       "      <td>2</td>\n",
       "      <td>250</td>\n",
       "      <td>900</td>\n",
       "      <td>14.0</td>\n",
       "      <td>14.0</td>\n",
       "      <td>18.0</td>\n",
       "      <td>446</td>\n",
       "      <td>261.0</td>\n",
       "      <td>1917</td>\n",
       "    </tr>\n",
       "  </tbody>\n",
       "</table>\n",
       "</div>"
      ],
      "text/plain": [
       "        market_id          created_at actual_delivery_time  store_id  \\\n",
       "120917        NaN 2015-02-08 03:39:46  2015-02-08 04:25:31      3258   \n",
       "152843        NaN 2015-02-08 23:43:19  2015-02-09 00:33:20      4122   \n",
       "186144        NaN 2015-02-15 23:53:45  2015-02-16 00:25:42      5774   \n",
       "\n",
       "       store_primary_category  order_protocol  total_items  subtotal  \\\n",
       "120917                    NaN             NaN            3      3470   \n",
       "152843                  pizza             NaN            2      3400   \n",
       "186144               sandwich             NaN            3      1550   \n",
       "\n",
       "        num_distinct_items  min_item_price  max_item_price  total_onshift  \\\n",
       "120917                   3             725            1795            NaN   \n",
       "152843                   2            1000            1400            3.0   \n",
       "186144                   2             250             900           14.0   \n",
       "\n",
       "        total_busy  total_outstanding_orders  estimated_order_place_duration  \\\n",
       "120917         NaN                       NaN                             446   \n",
       "152843         3.0                       3.0                             446   \n",
       "186144        14.0                      18.0                             446   \n",
       "\n",
       "        estimated_store_to_consumer_driving_duration  delivery_time  \n",
       "120917                                         395.0           2745  \n",
       "152843                                         586.0           3001  \n",
       "186144                                         261.0           1917  "
      ]
     },
     "execution_count": 38,
     "metadata": {},
     "output_type": "execute_result"
    }
   ],
   "source": [
    "delivery_df[(delivery_df['store_id']==3258) | (delivery_df['store_id']==4122) | (delivery_df['store_id']==5774)]"
   ]
  },
  {
   "cell_type": "code",
   "execution_count": 39,
   "id": "9de32bb3",
   "metadata": {},
   "outputs": [],
   "source": [
    "market_id_nan = delivery_df[delivery_df['market_id'].isnull()].index\n",
    "delivery_df.drop(market_id_nan, axis=0, inplace=True)\n",
    "delivery_df.reset_index(drop=True, inplace=True)"
   ]
  },
  {
   "cell_type": "code",
   "execution_count": 40,
   "id": "ceb3e7e1",
   "metadata": {},
   "outputs": [
    {
     "data": {
      "text/plain": [
       "0"
      ]
     },
     "execution_count": 40,
     "metadata": {},
     "output_type": "execute_result"
    }
   ],
   "source": [
    "delivery_df['market_id'].isnull().sum()"
   ]
  },
  {
   "cell_type": "markdown",
   "id": "c89d475b",
   "metadata": {},
   "source": [
    "### order protocol"
   ]
  },
  {
   "cell_type": "code",
   "execution_count": 41,
   "id": "57777a75",
   "metadata": {},
   "outputs": [
    {
     "data": {
      "text/plain": [
       "992"
      ]
     },
     "execution_count": 41,
     "metadata": {},
     "output_type": "execute_result"
    }
   ],
   "source": [
    "delivery_df['order_protocol'].isnull().sum()"
   ]
  },
  {
   "cell_type": "code",
   "execution_count": 42,
   "id": "fb1b28a4",
   "metadata": {},
   "outputs": [
    {
     "data": {
      "text/plain": [
       "1.0    54722\n",
       "3.0    53196\n",
       "5.0    44288\n",
       "2.0    24051\n",
       "4.0    19353\n",
       "6.0      794\n",
       "7.0       19\n",
       "Name: order_protocol, dtype: int64"
      ]
     },
     "execution_count": 42,
     "metadata": {},
     "output_type": "execute_result"
    }
   ],
   "source": [
    "delivery_df['order_protocol'].value_counts()"
   ]
  },
  {
   "cell_type": "code",
   "execution_count": 43,
   "id": "d4aa6b8b",
   "metadata": {},
   "outputs": [],
   "source": [
    "def fillna_order_protocol(store_id, order_protocol):\n",
    "    if np.isnan(order_protocol):\n",
    "        return delivery_df[delivery_df['store_id'] == store_id]['order_protocol'].value_counts().sort_values(ascending=False).index[0]\n",
    "    else:\n",
    "        return order_protocol"
   ]
  },
  {
   "cell_type": "code",
   "execution_count": 44,
   "id": "7aa72a2a",
   "metadata": {},
   "outputs": [],
   "source": [
    "delivery_df['order_protocol'] = delivery_df.apply(lambda x: fillna_order_protocol(x['store_id'], x['order_protocol']), axis=1)"
   ]
  },
  {
   "cell_type": "code",
   "execution_count": 45,
   "id": "6227b7d4",
   "metadata": {},
   "outputs": [
    {
     "data": {
      "text/plain": [
       "0"
      ]
     },
     "execution_count": 45,
     "metadata": {},
     "output_type": "execute_result"
    }
   ],
   "source": [
    "delivery_df['order_protocol'].isnull().sum()"
   ]
  },
  {
   "cell_type": "markdown",
   "id": "71deb064",
   "metadata": {},
   "source": [
    "### total_items"
   ]
  },
  {
   "cell_type": "code",
   "execution_count": 46,
   "id": "3d93fafb",
   "metadata": {},
   "outputs": [
    {
     "data": {
      "text/plain": [
       "<AxesSubplot:xlabel='total_items', ylabel='Density'>"
      ]
     },
     "execution_count": 46,
     "metadata": {},
     "output_type": "execute_result"
    },
    {
     "data": {
      "image/png": "[encoded data removed]",
      "text/plain": [
       "<Figure size 432x288 with 1 Axes>"
      ]
     },
     "metadata": {
      "needs_background": "light"
     },
     "output_type": "display_data"
    }
   ],
   "source": [
    "sns.kdeplot(x='total_items', data=delivery_df, fill=True)"
   ]
  },
  {
   "cell_type": "code",
   "execution_count": 36,
   "id": "431120be",
   "metadata": {},
   "outputs": [
    {
     "data": {
      "text/plain": [
       "count    197415.000000\n",
       "mean          3.196383\n",
       "std           2.666585\n",
       "min           1.000000\n",
       "25%           2.000000\n",
       "50%           3.000000\n",
       "75%           4.000000\n",
       "max         411.000000\n",
       "Name: total_items, dtype: float64"
      ]
     },
     "execution_count": 36,
     "metadata": {},
     "output_type": "execute_result"
    }
   ],
   "source": [
    "delivery_df['total_items'].describe()"
   ]
  },
  {
   "cell_type": "code",
   "execution_count": 37,
   "id": "3afa904a",
   "metadata": {},
   "outputs": [
    {
     "data": {
      "text/plain": [
       "<AxesSubplot:xlabel='total_items', ylabel='subtotal'>"
      ]
     },
     "execution_count": 37,
     "metadata": {},
     "output_type": "execute_result"
    },
    {
     "data": {
      "image/png": "[encoded data removed]",
      "text/plain": [
       "<Figure size 432x288 with 1 Axes>"
      ]
     },
     "metadata": {
      "needs_background": "light"
     },
     "output_type": "display_data"
    }
   ],
   "source": [
    "sns.scatterplot(x='total_items',y='subtotal',data=delivery_df)"
   ]
  },
  {
   "cell_type": "markdown",
   "id": "1523cc88",
   "metadata": {},
   "source": [
    "이상치라고 판단되는 값을 제거한다."
   ]
  },
  {
   "cell_type": "code",
   "execution_count": 47,
   "id": "be1bde8b",
   "metadata": {},
   "outputs": [],
   "source": [
    "outlier_idx = delivery_df[delivery_df['total_items'] == 411].index"
   ]
  },
  {
   "cell_type": "code",
   "execution_count": 48,
   "id": "fb33b4b5",
   "metadata": {},
   "outputs": [],
   "source": [
    "delivery_df.drop(outlier_idx, axis=0, inplace=True)"
   ]
  },
  {
   "cell_type": "code",
   "execution_count": 49,
   "id": "e110bfcc",
   "metadata": {},
   "outputs": [
    {
     "data": {
      "text/plain": [
       "<AxesSubplot:xlabel='total_items', ylabel='Density'>"
      ]
     },
     "execution_count": 49,
     "metadata": {},
     "output_type": "execute_result"
    },
    {
     "data": {
      "image/png": "[encoded data removed]",
      "text/plain": [
       "<Figure size 432x288 with 1 Axes>"
      ]
     },
     "metadata": {
      "needs_background": "light"
     },
     "output_type": "display_data"
    }
   ],
   "source": [
    "sns.kdeplot(x='total_items', data=delivery_df, fill=True)"
   ]
  },
  {
   "cell_type": "markdown",
   "id": "e86c93bb",
   "metadata": {},
   "source": [
    "### subtotal"
   ]
  },
  {
   "cell_type": "code",
   "execution_count": 41,
   "id": "ef5ee36d",
   "metadata": {},
   "outputs": [
    {
     "data": {
      "text/plain": [
       "<AxesSubplot:xlabel='subtotal', ylabel='Density'>"
      ]
     },
     "execution_count": 41,
     "metadata": {},
     "output_type": "execute_result"
    },
    {
     "data": {
      "image/png": "[encoded data removed]",
      "text/plain": [
       "<Figure size 432x288 with 1 Axes>"
      ]
     },
     "metadata": {
      "needs_background": "light"
     },
     "output_type": "display_data"
    }
   ],
   "source": [
    "sns.kdeplot(x='subtotal', data=delivery_df, fill=True)"
   ]
  },
  {
   "cell_type": "markdown",
   "id": "764bf09b",
   "metadata": {},
   "source": [
    "### num_distinct_items"
   ]
  },
  {
   "cell_type": "code",
   "execution_count": 42,
   "id": "36e4b2ff",
   "metadata": {},
   "outputs": [
    {
     "data": {
      "text/plain": [
       "<AxesSubplot:>"
      ]
     },
     "execution_count": 42,
     "metadata": {},
     "output_type": "execute_result"
    },
    {
     "data": {
      "image/png": "[encoded data removed]",
      "text/plain": [
       "<Figure size 432x288 with 1 Axes>"
      ]
     },
     "metadata": {
      "needs_background": "light"
     },
     "output_type": "display_data"
    }
   ],
   "source": [
    "delivery_df['num_distinct_items'].hist()"
   ]
  },
  {
   "cell_type": "markdown",
   "id": "81e0f300",
   "metadata": {},
   "source": [
    "### item_price"
   ]
  },
  {
   "cell_type": "code",
   "execution_count": 43,
   "id": "b87dc595",
   "metadata": {},
   "outputs": [
    {
     "data": {
      "text/plain": [
       "<AxesSubplot:>"
      ]
     },
     "execution_count": 43,
     "metadata": {},
     "output_type": "execute_result"
    },
    {
     "data": {
      "image/png": "[encoded data removed]",
      "text/plain": [
       "<Figure size 432x288 with 1 Axes>"
      ]
     },
     "metadata": {
      "needs_background": "light"
     },
     "output_type": "display_data"
    }
   ],
   "source": [
    "delivery_df['min_item_price'].hist()"
   ]
  },
  {
   "cell_type": "code",
   "execution_count": 44,
   "id": "43a55390",
   "metadata": {},
   "outputs": [
    {
     "data": {
      "text/plain": [
       "<AxesSubplot:>"
      ]
     },
     "execution_count": 44,
     "metadata": {},
     "output_type": "execute_result"
    },
    {
     "data": {
      "image/png": "[encoded data removed]",
      "text/plain": [
       "<Figure size 432x288 with 1 Axes>"
      ]
     },
     "metadata": {
      "needs_background": "light"
     },
     "output_type": "display_data"
    }
   ],
   "source": [
    "delivery_df['max_item_price'].hist()"
   ]
  },
  {
   "cell_type": "code",
   "execution_count": 45,
   "id": "d26378ce",
   "metadata": {},
   "outputs": [
    {
     "data": {
      "image/png": "[encoded data removed]",
      "text/plain": [
       "<Figure size 720x576 with 1 Axes>"
      ]
     },
     "metadata": {
      "needs_background": "light"
     },
     "output_type": "display_data"
    }
   ],
   "source": [
    "delivery_df.plot(kind='scatter', x='max_item_price', y='subtotal', alpha=0.4, figsize=(10,8), c='num_distinct_items', cmap=plt.get_cmap(\"jet\"), colorbar=False)\n",
    "plt.xlabel('max_item_price', size=15)\n",
    "plt.ylabel('subtotal', size=15)\n",
    "plt.show()"
   ]
  },
  {
   "cell_type": "code",
   "execution_count": 46,
   "id": "549a20e8",
   "metadata": {},
   "outputs": [
    {
     "data": {
      "text/plain": [
       "1     324\n",
       "2     107\n",
       "3      49\n",
       "4      27\n",
       "5      16\n",
       "7       5\n",
       "6       4\n",
       "9       3\n",
       "8       3\n",
       "14      1\n",
       "15      1\n",
       "13      1\n",
       "11      1\n",
       "Name: total_items, dtype: int64"
      ]
     },
     "execution_count": 46,
     "metadata": {},
     "output_type": "execute_result"
    }
   ],
   "source": [
    "delivery_df[delivery_df['max_item_price'] > delivery_df['subtotal']]['total_items'].value_counts()"
   ]
  },
  {
   "cell_type": "markdown",
   "id": "650ce794",
   "metadata": {},
   "source": [
    "전체 가격이 주문에 포함된 아이템 중 가장 비싼 아이템의 가격보다 낮은 데이터들을 확인할 수 있다.  "
   ]
  },
  {
   "cell_type": "markdown",
   "id": "8e026be2",
   "metadata": {},
   "source": [
    "### weekday"
   ]
  },
  {
   "cell_type": "code",
   "execution_count": 50,
   "id": "48093b3a",
   "metadata": {},
   "outputs": [],
   "source": [
    "import datetime\n",
    "def weekday(date):\n",
    "    wd = pd.Timestamp(date)\n",
    "    return wd.dayofweek"
   ]
  },
  {
   "cell_type": "code",
   "execution_count": 51,
   "id": "b00e6201",
   "metadata": {},
   "outputs": [
    {
     "data": {
      "text/html": [
       "<div>\n",
       "<style scoped>\n",
       "    .dataframe tbody tr th:only-of-type {\n",
       "        vertical-align: middle;\n",
       "    }\n",
       "\n",
       "    .dataframe tbody tr th {\n",
       "        vertical-align: top;\n",
       "    }\n",
       "\n",
       "    .dataframe thead th {\n",
       "        text-align: right;\n",
       "    }\n",
       "</style>\n",
       "<table border=\"1\" class=\"dataframe\">\n",
       "  <thead>\n",
       "    <tr style=\"text-align: right;\">\n",
       "      <th></th>\n",
       "      <th>created_at</th>\n",
       "      <th>weekday</th>\n",
       "    </tr>\n",
       "  </thead>\n",
       "  <tbody>\n",
       "    <tr>\n",
       "      <th>0</th>\n",
       "      <td>2015-02-06 22:24:17</td>\n",
       "      <td>4</td>\n",
       "    </tr>\n",
       "    <tr>\n",
       "      <th>1</th>\n",
       "      <td>2015-02-10 21:49:25</td>\n",
       "      <td>1</td>\n",
       "    </tr>\n",
       "    <tr>\n",
       "      <th>2</th>\n",
       "      <td>2015-01-22 20:39:28</td>\n",
       "      <td>3</td>\n",
       "    </tr>\n",
       "    <tr>\n",
       "      <th>3</th>\n",
       "      <td>2015-02-03 21:21:45</td>\n",
       "      <td>1</td>\n",
       "    </tr>\n",
       "    <tr>\n",
       "      <th>4</th>\n",
       "      <td>2015-02-15 02:40:36</td>\n",
       "      <td>6</td>\n",
       "    </tr>\n",
       "    <tr>\n",
       "      <th>...</th>\n",
       "      <td>...</td>\n",
       "      <td>...</td>\n",
       "    </tr>\n",
       "    <tr>\n",
       "      <th>197410</th>\n",
       "      <td>2015-02-17 00:19:41</td>\n",
       "      <td>1</td>\n",
       "    </tr>\n",
       "    <tr>\n",
       "      <th>197411</th>\n",
       "      <td>2015-02-13 00:01:59</td>\n",
       "      <td>4</td>\n",
       "    </tr>\n",
       "    <tr>\n",
       "      <th>197412</th>\n",
       "      <td>2015-01-24 04:46:08</td>\n",
       "      <td>5</td>\n",
       "    </tr>\n",
       "    <tr>\n",
       "      <th>197413</th>\n",
       "      <td>2015-02-01 18:18:15</td>\n",
       "      <td>6</td>\n",
       "    </tr>\n",
       "    <tr>\n",
       "      <th>197414</th>\n",
       "      <td>2015-02-08 19:24:33</td>\n",
       "      <td>6</td>\n",
       "    </tr>\n",
       "  </tbody>\n",
       "</table>\n",
       "<p>197414 rows × 2 columns</p>\n",
       "</div>"
      ],
      "text/plain": [
       "                created_at  weekday\n",
       "0      2015-02-06 22:24:17        4\n",
       "1      2015-02-10 21:49:25        1\n",
       "2      2015-01-22 20:39:28        3\n",
       "3      2015-02-03 21:21:45        1\n",
       "4      2015-02-15 02:40:36        6\n",
       "...                    ...      ...\n",
       "197410 2015-02-17 00:19:41        1\n",
       "197411 2015-02-13 00:01:59        4\n",
       "197412 2015-01-24 04:46:08        5\n",
       "197413 2015-02-01 18:18:15        6\n",
       "197414 2015-02-08 19:24:33        6\n",
       "\n",
       "[197414 rows x 2 columns]"
      ]
     },
     "execution_count": 51,
     "metadata": {},
     "output_type": "execute_result"
    }
   ],
   "source": [
    "delivery_df['weekday'] = delivery_df['created_at'].apply(weekday)\n",
    "delivery_df[['created_at', 'weekday']]"
   ]
  },
  {
   "cell_type": "markdown",
   "id": "0d582cc5",
   "metadata": {},
   "source": [
    "### is_weekend"
   ]
  },
  {
   "cell_type": "code",
   "execution_count": 52,
   "id": "92f8dfd3",
   "metadata": {},
   "outputs": [],
   "source": [
    "def is_weekend(weekday):\n",
    "    if weekday in [5,6]:\n",
    "        return 1\n",
    "    else:\n",
    "        return 0"
   ]
  },
  {
   "cell_type": "code",
   "execution_count": 53,
   "id": "bddd0510",
   "metadata": {},
   "outputs": [],
   "source": [
    "delivery_df['is_weekend'] = delivery_df['weekday'].apply(is_weekend)"
   ]
  },
  {
   "cell_type": "markdown",
   "id": "90d7ac6b",
   "metadata": {},
   "source": [
    "### is_holiday"
   ]
  },
  {
   "cell_type": "code",
   "execution_count": 54,
   "id": "fe624f61",
   "metadata": {},
   "outputs": [
    {
     "data": {
      "text/plain": [
       "0         2015-02-06\n",
       "1         2015-02-10\n",
       "2         2015-01-22\n",
       "3         2015-02-03\n",
       "4         2015-02-15\n",
       "             ...    \n",
       "197410    2015-02-17\n",
       "197411    2015-02-13\n",
       "197412    2015-01-24\n",
       "197413    2015-02-01\n",
       "197414    2015-02-08\n",
       "Name: date, Length: 197414, dtype: object"
      ]
     },
     "execution_count": 54,
     "metadata": {},
     "output_type": "execute_result"
    }
   ],
   "source": [
    "def date_split(date):\n",
    "    year = str(date.year)\n",
    "    month = str(date.month)\n",
    "    if len(month)<2:\n",
    "        month = '0'+month\n",
    "    day = str(date.day)\n",
    "    if len(day)<2:\n",
    "        day = '0'+day\n",
    "    return year+'-'+month+'-'+day\n",
    "delivery_df['date'] = delivery_df['created_at'].apply(date_split)\n",
    "delivery_df['date']"
   ]
  },
  {
   "cell_type": "code",
   "execution_count": 55,
   "id": "128e53d7",
   "metadata": {},
   "outputs": [
    {
     "name": "stdout",
     "output_type": "stream",
     "text": [
      "holiday_list: DatetimeIndex(['2015-02-16'], dtype='datetime64[ns]', freq=None)\n",
      "mean deilvery_time at holiday: 3153.84\n",
      "mean delivery_time: 2861.59\n"
     ]
    }
   ],
   "source": [
    "from pandas.tseries.holiday import USFederalHolidayCalendar as calendar\n",
    "\n",
    "cal = calendar()\n",
    "holidays = cal.holidays(start=delivery_df.date.min(), end=delivery_df.date.max())\n",
    "delivery_df['date'] = pd.to_datetime(delivery_df['date'])\n",
    "delivery_df['is_holiday'] = delivery_df['date'].isin(holidays)\n",
    "print('holiday_list:', holidays)\n",
    "print('mean deilvery_time at holiday: {0:.2f}'.format(delivery_df[delivery_df['date'] == '2015-02-16']['delivery_time'].mean()))\n",
    "print('mean delivery_time: {0:.2f}'.format(delivery_df['delivery_time'].mean()))"
   ]
  },
  {
   "cell_type": "markdown",
   "id": "871c95b5",
   "metadata": {},
   "source": [
    "### month & day"
   ]
  },
  {
   "cell_type": "code",
   "execution_count": 56,
   "id": "a0504d99",
   "metadata": {},
   "outputs": [
    {
     "data": {
      "text/plain": [
       "(Timestamp('2015-01-21 00:00:00'), Timestamp('2015-02-18 00:00:00'))"
      ]
     },
     "execution_count": 56,
     "metadata": {},
     "output_type": "execute_result"
    }
   ],
   "source": [
    "delivery_df['date'].min(), delivery_df['date'].max()"
   ]
  },
  {
   "cell_type": "code",
   "execution_count": 57,
   "id": "3b906620",
   "metadata": {},
   "outputs": [],
   "source": [
    "delivery_df['month'] = delivery_df['date'].dt.month\n",
    "delivery_df['day'] = delivery_df['date'].dt.day"
   ]
  },
  {
   "cell_type": "markdown",
   "id": "bdb7dbe6",
   "metadata": {},
   "source": [
    "### hour"
   ]
  },
  {
   "cell_type": "code",
   "execution_count": 58,
   "id": "8ea83030",
   "metadata": {},
   "outputs": [
    {
     "data": {
      "text/html": [
       "<div>\n",
       "<style scoped>\n",
       "    .dataframe tbody tr th:only-of-type {\n",
       "        vertical-align: middle;\n",
       "    }\n",
       "\n",
       "    .dataframe tbody tr th {\n",
       "        vertical-align: top;\n",
       "    }\n",
       "\n",
       "    .dataframe thead th {\n",
       "        text-align: right;\n",
       "    }\n",
       "</style>\n",
       "<table border=\"1\" class=\"dataframe\">\n",
       "  <thead>\n",
       "    <tr style=\"text-align: right;\">\n",
       "      <th></th>\n",
       "      <th>hour</th>\n",
       "      <th>created_at</th>\n",
       "    </tr>\n",
       "  </thead>\n",
       "  <tbody>\n",
       "    <tr>\n",
       "      <th>0</th>\n",
       "      <td>22.404722</td>\n",
       "      <td>2015-02-06 22:24:17</td>\n",
       "    </tr>\n",
       "    <tr>\n",
       "      <th>1</th>\n",
       "      <td>21.823611</td>\n",
       "      <td>2015-02-10 21:49:25</td>\n",
       "    </tr>\n",
       "    <tr>\n",
       "      <th>2</th>\n",
       "      <td>20.657778</td>\n",
       "      <td>2015-01-22 20:39:28</td>\n",
       "    </tr>\n",
       "    <tr>\n",
       "      <th>3</th>\n",
       "      <td>21.362500</td>\n",
       "      <td>2015-02-03 21:21:45</td>\n",
       "    </tr>\n",
       "    <tr>\n",
       "      <th>4</th>\n",
       "      <td>2.676667</td>\n",
       "      <td>2015-02-15 02:40:36</td>\n",
       "    </tr>\n",
       "  </tbody>\n",
       "</table>\n",
       "</div>"
      ],
      "text/plain": [
       "        hour          created_at\n",
       "0  22.404722 2015-02-06 22:24:17\n",
       "1  21.823611 2015-02-10 21:49:25\n",
       "2  20.657778 2015-01-22 20:39:28\n",
       "3  21.362500 2015-02-03 21:21:45\n",
       "4   2.676667 2015-02-15 02:40:36"
      ]
     },
     "execution_count": 58,
     "metadata": {},
     "output_type": "execute_result"
    }
   ],
   "source": [
    "delivery_df['hour'] = delivery_df['created_at'].dt.hour + (delivery_df['created_at'].dt.minute)/60 + (delivery_df['created_at'].dt.second)/3600\n",
    "delivery_df[['hour', 'created_at']].head()"
   ]
  },
  {
   "cell_type": "markdown",
   "id": "2b6f9244",
   "metadata": {},
   "source": [
    "### estimated_store_to_consumer_driving_duration"
   ]
  },
  {
   "cell_type": "code",
   "execution_count": 59,
   "id": "06103c09",
   "metadata": {},
   "outputs": [
    {
     "data": {
      "text/plain": [
       "526"
      ]
     },
     "execution_count": 59,
     "metadata": {},
     "output_type": "execute_result"
    }
   ],
   "source": [
    "delivery_df['estimated_store_to_consumer_driving_duration'].isnull().sum()"
   ]
  },
  {
   "cell_type": "code",
   "execution_count": 60,
   "id": "17ce77b0",
   "metadata": {},
   "outputs": [],
   "source": [
    "delivery_df['estimated_time'] = delivery_df['estimated_store_to_consumer_driving_duration']\n",
    "delivery_df.drop('estimated_store_to_consumer_driving_duration', axis=1, inplace=True)"
   ]
  },
  {
   "cell_type": "code",
   "execution_count": 61,
   "id": "40403e27",
   "metadata": {},
   "outputs": [
    {
     "data": {
      "text/plain": [
       "<AxesSubplot:xlabel='estimated_time', ylabel='delivery_time'>"
      ]
     },
     "execution_count": 61,
     "metadata": {},
     "output_type": "execute_result"
    },
    {
     "data": {
      "image/png": "[encoded data removed]",
      "text/plain": [
       "<Figure size 432x288 with 1 Axes>"
      ]
     },
     "metadata": {
      "needs_background": "light"
     },
     "output_type": "display_data"
    }
   ],
   "source": [
    "sns.scatterplot(y=delivery_df['delivery_time'], x=delivery_df['estimated_time'], alpha=0.4)"
   ]
  },
  {
   "cell_type": "code",
   "execution_count": 63,
   "id": "3207681c",
   "metadata": {},
   "outputs": [],
   "source": [
    "from sklearn.linear_model import LinearRegression\n",
    "\n",
    "delivery_time_df = pd.DataFrame()\n",
    "delivery_time_df['delivery_time'] = delivery_df.loc[:,'delivery_time']\n",
    "delivery_time_df['estimated_time'] = delivery_df.loc[:, 'estimated_time']\n",
    "\n",
    "train = delivery_time_df[~delivery_time_df['estimated_time'].isnull()]\n",
    "test = delivery_time_df[delivery_time_df['estimated_time'].isnull()]\n",
    "\n",
    "lr = LinearRegression()\n",
    "lr.fit(train[['delivery_time']], train[['estimated_time']])\n",
    "prediction = lr.predict(test[['delivery_time']])"
   ]
  },
  {
   "cell_type": "code",
   "execution_count": 65,
   "id": "e209d771",
   "metadata": {},
   "outputs": [
    {
     "data": {
      "text/plain": [
       "545.3588537645768"
      ]
     },
     "execution_count": 65,
     "metadata": {},
     "output_type": "execute_result"
    }
   ],
   "source": [
    "delivery_df['estimated_time'].mean()"
   ]
  },
  {
   "cell_type": "code",
   "execution_count": 66,
   "id": "813e7610",
   "metadata": {},
   "outputs": [
    {
     "data": {
      "text/plain": [
       "0"
      ]
     },
     "execution_count": 66,
     "metadata": {},
     "output_type": "execute_result"
    }
   ],
   "source": [
    "counter=-1\n",
    "\n",
    "def fillna_estimated_time(estimated_time):\n",
    "    if np.isnan(estimated_time):\n",
    "        global counter\n",
    "        counter+=1\n",
    "        return prediction[counter]\n",
    "    else:\n",
    "        return estimated_time\n",
    "\n",
    "delivery_df['estimated_time'] = delivery_df['estimated_time'].apply(fillna_estimated_time)\n",
    "delivery_df['estimated_time'].isnull().sum()"
   ]
  },
  {
   "cell_type": "code",
   "execution_count": 67,
   "id": "f1aa8968",
   "metadata": {},
   "outputs": [
    {
     "data": {
      "text/plain": [
       "<AxesSubplot:>"
      ]
     },
     "execution_count": 67,
     "metadata": {},
     "output_type": "execute_result"
    },
    {
     "data": {
      "image/png": "[encoded data removed]",
      "text/plain": [
       "<Figure size 864x648 with 2 Axes>"
      ]
     },
     "metadata": {
      "needs_background": "light"
     },
     "output_type": "display_data"
    }
   ],
   "source": [
    "plt.figure(figsize=(12,9))\n",
    "sns.heatmap(delivery_df.corr(), annot=True)"
   ]
  },
  {
   "cell_type": "markdown",
   "id": "da0507a2",
   "metadata": {},
   "source": [
    "### store_primary_category"
   ]
  },
  {
   "cell_type": "code",
   "execution_count": 68,
   "id": "a36cf8a5",
   "metadata": {},
   "outputs": [
    {
     "data": {
      "text/plain": [
       "4759"
      ]
     },
     "execution_count": 68,
     "metadata": {},
     "output_type": "execute_result"
    }
   ],
   "source": [
    "delivery_df['store_primary_category'].isnull().sum()"
   ]
  },
  {
   "cell_type": "code",
   "execution_count": 69,
   "id": "c1212470",
   "metadata": {},
   "outputs": [],
   "source": [
    "store_category_dic = defaultdict(list)\n",
    "\n",
    "def cat_store(store_id, store_primary_category):\n",
    "    if type(store_primary_category) == float:\n",
    "        return store_primary_category\n",
    "    else:\n",
    "        store_category_dic[store_id].append(store_primary_category)\n",
    "        return store_primary_category"
   ]
  },
  {
   "cell_type": "code",
   "execution_count": 70,
   "id": "8cc89970",
   "metadata": {},
   "outputs": [],
   "source": [
    "delivery_df['store_primary_category'] = delivery_df.apply(lambda x: cat_store(x['store_id'], x['store_primary_category']), axis=1)"
   ]
  },
  {
   "cell_type": "code",
   "execution_count": 71,
   "id": "ca8010ed",
   "metadata": {},
   "outputs": [],
   "source": [
    "for store_id in store_category_dic:\n",
    "    temp = defaultdict(int)\n",
    "    maximum = ['default',0]\n",
    "    for category in store_category_dic[store_id]:\n",
    "        temp[category]+=1\n",
    "        if temp[category] > maximum[1]:\n",
    "            maximum = [category, temp[category]]\n",
    "    store_category_dic[store_id] = maximum[0]"
   ]
  },
  {
   "cell_type": "code",
   "execution_count": 72,
   "id": "85911fc5",
   "metadata": {},
   "outputs": [],
   "source": [
    "def fillna_store_primary_category(store_id, store_primary_category):\n",
    "    if type(store_primary_category) == float:\n",
    "        if store_category_dic[store_id]:\n",
    "            return store_category_dic[store_id]\n",
    "    return store_primary_category"
   ]
  },
  {
   "cell_type": "code",
   "execution_count": 73,
   "id": "2e3b9ae1",
   "metadata": {},
   "outputs": [],
   "source": [
    "delivery_df['store_primary_category'] = delivery_df.apply(lambda x: fillna_store_primary_category(x['store_id'], x['store_primary_category']), axis=1)"
   ]
  },
  {
   "cell_type": "code",
   "execution_count": 74,
   "id": "0a9f4a7d",
   "metadata": {},
   "outputs": [
    {
     "data": {
      "text/html": [
       "<div>\n",
       "<style scoped>\n",
       "    .dataframe tbody tr th:only-of-type {\n",
       "        vertical-align: middle;\n",
       "    }\n",
       "\n",
       "    .dataframe tbody tr th {\n",
       "        vertical-align: top;\n",
       "    }\n",
       "\n",
       "    .dataframe thead th {\n",
       "        text-align: right;\n",
       "    }\n",
       "</style>\n",
       "<table border=\"1\" class=\"dataframe\">\n",
       "  <thead>\n",
       "    <tr style=\"text-align: right;\">\n",
       "      <th></th>\n",
       "      <th>market_id</th>\n",
       "      <th>created_at</th>\n",
       "      <th>actual_delivery_time</th>\n",
       "      <th>store_id</th>\n",
       "      <th>store_primary_category</th>\n",
       "      <th>order_protocol</th>\n",
       "      <th>total_items</th>\n",
       "      <th>subtotal</th>\n",
       "      <th>num_distinct_items</th>\n",
       "      <th>min_item_price</th>\n",
       "      <th>...</th>\n",
       "      <th>estimated_order_place_duration</th>\n",
       "      <th>delivery_time</th>\n",
       "      <th>weekday</th>\n",
       "      <th>is_weekend</th>\n",
       "      <th>date</th>\n",
       "      <th>is_holiday</th>\n",
       "      <th>month</th>\n",
       "      <th>day</th>\n",
       "      <th>hour</th>\n",
       "      <th>estimated_time</th>\n",
       "    </tr>\n",
       "  </thead>\n",
       "  <tbody>\n",
       "    <tr>\n",
       "      <th>317</th>\n",
       "      <td>3.0</td>\n",
       "      <td>2015-01-23 19:22:18</td>\n",
       "      <td>2015-01-23 19:48:50</td>\n",
       "      <td>3879</td>\n",
       "      <td>NaN</td>\n",
       "      <td>4.0</td>\n",
       "      <td>3</td>\n",
       "      <td>582</td>\n",
       "      <td>1</td>\n",
       "      <td>194</td>\n",
       "      <td>...</td>\n",
       "      <td>251</td>\n",
       "      <td>1592</td>\n",
       "      <td>4</td>\n",
       "      <td>0</td>\n",
       "      <td>2015-01-23</td>\n",
       "      <td>False</td>\n",
       "      <td>1</td>\n",
       "      <td>23</td>\n",
       "      <td>19.371667</td>\n",
       "      <td>245.0</td>\n",
       "    </tr>\n",
       "    <tr>\n",
       "      <th>318</th>\n",
       "      <td>3.0</td>\n",
       "      <td>2015-02-01 17:26:45</td>\n",
       "      <td>2015-02-01 18:24:13</td>\n",
       "      <td>3879</td>\n",
       "      <td>NaN</td>\n",
       "      <td>4.0</td>\n",
       "      <td>5</td>\n",
       "      <td>980</td>\n",
       "      <td>2</td>\n",
       "      <td>194</td>\n",
       "      <td>...</td>\n",
       "      <td>251</td>\n",
       "      <td>3448</td>\n",
       "      <td>6</td>\n",
       "      <td>1</td>\n",
       "      <td>2015-02-01</td>\n",
       "      <td>False</td>\n",
       "      <td>2</td>\n",
       "      <td>1</td>\n",
       "      <td>17.445833</td>\n",
       "      <td>344.0</td>\n",
       "    </tr>\n",
       "    <tr>\n",
       "      <th>1282</th>\n",
       "      <td>3.0</td>\n",
       "      <td>2015-02-07 03:02:56</td>\n",
       "      <td>2015-02-07 03:55:30</td>\n",
       "      <td>3469</td>\n",
       "      <td>NaN</td>\n",
       "      <td>4.0</td>\n",
       "      <td>4</td>\n",
       "      <td>1246</td>\n",
       "      <td>2</td>\n",
       "      <td>194</td>\n",
       "      <td>...</td>\n",
       "      <td>251</td>\n",
       "      <td>3154</td>\n",
       "      <td>5</td>\n",
       "      <td>1</td>\n",
       "      <td>2015-02-07</td>\n",
       "      <td>False</td>\n",
       "      <td>2</td>\n",
       "      <td>7</td>\n",
       "      <td>3.048889</td>\n",
       "      <td>182.0</td>\n",
       "    </tr>\n",
       "    <tr>\n",
       "      <th>1597</th>\n",
       "      <td>3.0</td>\n",
       "      <td>2015-02-02 00:34:04</td>\n",
       "      <td>2015-02-02 01:21:03</td>\n",
       "      <td>5550</td>\n",
       "      <td>NaN</td>\n",
       "      <td>1.0</td>\n",
       "      <td>1</td>\n",
       "      <td>1799</td>\n",
       "      <td>1</td>\n",
       "      <td>1799</td>\n",
       "      <td>...</td>\n",
       "      <td>446</td>\n",
       "      <td>2819</td>\n",
       "      <td>0</td>\n",
       "      <td>0</td>\n",
       "      <td>2015-02-02</td>\n",
       "      <td>False</td>\n",
       "      <td>2</td>\n",
       "      <td>2</td>\n",
       "      <td>0.567778</td>\n",
       "      <td>697.0</td>\n",
       "    </tr>\n",
       "    <tr>\n",
       "      <th>1598</th>\n",
       "      <td>3.0</td>\n",
       "      <td>2015-02-13 21:05:28</td>\n",
       "      <td>2015-02-13 21:36:56</td>\n",
       "      <td>5550</td>\n",
       "      <td>NaN</td>\n",
       "      <td>1.0</td>\n",
       "      <td>1</td>\n",
       "      <td>999</td>\n",
       "      <td>1</td>\n",
       "      <td>999</td>\n",
       "      <td>...</td>\n",
       "      <td>446</td>\n",
       "      <td>1888</td>\n",
       "      <td>4</td>\n",
       "      <td>0</td>\n",
       "      <td>2015-02-13</td>\n",
       "      <td>False</td>\n",
       "      <td>2</td>\n",
       "      <td>13</td>\n",
       "      <td>21.091111</td>\n",
       "      <td>834.0</td>\n",
       "    </tr>\n",
       "  </tbody>\n",
       "</table>\n",
       "<p>5 rows × 24 columns</p>\n",
       "</div>"
      ],
      "text/plain": [
       "      market_id          created_at actual_delivery_time  store_id  \\\n",
       "317         3.0 2015-01-23 19:22:18  2015-01-23 19:48:50      3879   \n",
       "318         3.0 2015-02-01 17:26:45  2015-02-01 18:24:13      3879   \n",
       "1282        3.0 2015-02-07 03:02:56  2015-02-07 03:55:30      3469   \n",
       "1597        3.0 2015-02-02 00:34:04  2015-02-02 01:21:03      5550   \n",
       "1598        3.0 2015-02-13 21:05:28  2015-02-13 21:36:56      5550   \n",
       "\n",
       "     store_primary_category  order_protocol  total_items  subtotal  \\\n",
       "317                     NaN             4.0            3       582   \n",
       "318                     NaN             4.0            5       980   \n",
       "1282                    NaN             4.0            4      1246   \n",
       "1597                    NaN             1.0            1      1799   \n",
       "1598                    NaN             1.0            1       999   \n",
       "\n",
       "      num_distinct_items  min_item_price  ...  estimated_order_place_duration  \\\n",
       "317                    1             194  ...                             251   \n",
       "318                    2             194  ...                             251   \n",
       "1282                   2             194  ...                             251   \n",
       "1597                   1            1799  ...                             446   \n",
       "1598                   1             999  ...                             446   \n",
       "\n",
       "      delivery_time  weekday  is_weekend       date  is_holiday  month  day  \\\n",
       "317            1592        4           0 2015-01-23       False      1   23   \n",
       "318            3448        6           1 2015-02-01       False      2    1   \n",
       "1282           3154        5           1 2015-02-07       False      2    7   \n",
       "1597           2819        0           0 2015-02-02       False      2    2   \n",
       "1598           1888        4           0 2015-02-13       False      2   13   \n",
       "\n",
       "           hour  estimated_time  \n",
       "317   19.371667           245.0  \n",
       "318   17.445833           344.0  \n",
       "1282   3.048889           182.0  \n",
       "1597   0.567778           697.0  \n",
       "1598  21.091111           834.0  \n",
       "\n",
       "[5 rows x 24 columns]"
      ]
     },
     "execution_count": 74,
     "metadata": {},
     "output_type": "execute_result"
    }
   ],
   "source": [
    "store_cat_null_idx = delivery_df[delivery_df['store_primary_category'].isnull()].index\n",
    "delivery_df[delivery_df['store_primary_category'].isnull()].head()"
   ]
  },
  {
   "cell_type": "code",
   "execution_count": 75,
   "id": "2d092ac9",
   "metadata": {},
   "outputs": [
    {
     "data": {
      "text/html": [
       "<div>\n",
       "<style scoped>\n",
       "    .dataframe tbody tr th:only-of-type {\n",
       "        vertical-align: middle;\n",
       "    }\n",
       "\n",
       "    .dataframe tbody tr th {\n",
       "        vertical-align: top;\n",
       "    }\n",
       "\n",
       "    .dataframe thead th {\n",
       "        text-align: right;\n",
       "    }\n",
       "</style>\n",
       "<table border=\"1\" class=\"dataframe\">\n",
       "  <thead>\n",
       "    <tr style=\"text-align: right;\">\n",
       "      <th></th>\n",
       "      <th>store_cat</th>\n",
       "      <th>store_primary_category</th>\n",
       "    </tr>\n",
       "  </thead>\n",
       "  <tbody>\n",
       "    <tr>\n",
       "      <th>317</th>\n",
       "      <td>74</td>\n",
       "      <td>NaN</td>\n",
       "    </tr>\n",
       "    <tr>\n",
       "      <th>318</th>\n",
       "      <td>74</td>\n",
       "      <td>NaN</td>\n",
       "    </tr>\n",
       "    <tr>\n",
       "      <th>1282</th>\n",
       "      <td>74</td>\n",
       "      <td>NaN</td>\n",
       "    </tr>\n",
       "    <tr>\n",
       "      <th>1597</th>\n",
       "      <td>74</td>\n",
       "      <td>NaN</td>\n",
       "    </tr>\n",
       "    <tr>\n",
       "      <th>1598</th>\n",
       "      <td>74</td>\n",
       "      <td>NaN</td>\n",
       "    </tr>\n",
       "  </tbody>\n",
       "</table>\n",
       "</div>"
      ],
      "text/plain": [
       "      store_cat store_primary_category\n",
       "317          74                    NaN\n",
       "318          74                    NaN\n",
       "1282         74                    NaN\n",
       "1597         74                    NaN\n",
       "1598         74                    NaN"
      ]
     },
     "execution_count": 75,
     "metadata": {},
     "output_type": "execute_result"
    }
   ],
   "source": [
    "from sklearn.preprocessing import LabelEncoder\n",
    "\n",
    "encoder = LabelEncoder()\n",
    "delivery_df['store_cat'] = encoder.fit_transform(delivery_df['store_primary_category'])\n",
    "delivery_df.iloc[store_cat_null_idx][['store_cat', 'store_primary_category']].head()"
   ]
  },
  {
   "cell_type": "markdown",
   "id": "475b7fa8",
   "metadata": {},
   "source": [
    "NaN값이 74로 분류됨을 확인"
   ]
  },
  {
   "cell_type": "code",
   "execution_count": 76,
   "id": "cafd4a97",
   "metadata": {},
   "outputs": [
    {
     "data": {
      "text/plain": [
       "RandomForestClassifier(n_jobs=1)"
      ]
     },
     "execution_count": 76,
     "metadata": {},
     "output_type": "execute_result"
    }
   ],
   "source": [
    "from sklearn.ensemble import RandomForestClassifier\n",
    "\n",
    "train_store_cat = delivery_df[delivery_df['store_cat']!=74]\n",
    "test_store_cat = delivery_df[delivery_df['store_cat']==74]\n",
    "\n",
    "drop_cols = ['store_cat', 'created_at', 'actual_delivery_time', 'store_primary_category', 'date', 'total_onshift', 'total_busy', 'total_outstanding_orders']\n",
    "train_data = train_store_cat.drop(drop_cols, axis=1)\n",
    "target = train_store_cat['store_cat']\n",
    "test_data = test_store_cat.drop(drop_cols, axis=1)\n",
    "\n",
    "rf = RandomForestClassifier(n_jobs=1)\n",
    "rf.fit(train_data, target)"
   ]
  },
  {
   "cell_type": "code",
   "execution_count": 77,
   "id": "5cd6cbeb",
   "metadata": {},
   "outputs": [],
   "source": [
    "prediction = rf.predict(test_data)\n",
    "counter = -1\n",
    "def fillna_store_cat(store_cat):\n",
    "    if store_cat == 74:\n",
    "        global counter\n",
    "        counter+=1\n",
    "        return prediction[counter]\n",
    "    else:\n",
    "        return store_cat"
   ]
  },
  {
   "cell_type": "code",
   "execution_count": 78,
   "id": "2452b3bf",
   "metadata": {},
   "outputs": [
    {
     "data": {
      "text/html": [
       "<div>\n",
       "<style scoped>\n",
       "    .dataframe tbody tr th:only-of-type {\n",
       "        vertical-align: middle;\n",
       "    }\n",
       "\n",
       "    .dataframe tbody tr th {\n",
       "        vertical-align: top;\n",
       "    }\n",
       "\n",
       "    .dataframe thead th {\n",
       "        text-align: right;\n",
       "    }\n",
       "</style>\n",
       "<table border=\"1\" class=\"dataframe\">\n",
       "  <thead>\n",
       "    <tr style=\"text-align: right;\">\n",
       "      <th></th>\n",
       "      <th>market_id</th>\n",
       "      <th>created_at</th>\n",
       "      <th>actual_delivery_time</th>\n",
       "      <th>store_id</th>\n",
       "      <th>order_protocol</th>\n",
       "      <th>total_items</th>\n",
       "      <th>subtotal</th>\n",
       "      <th>num_distinct_items</th>\n",
       "      <th>min_item_price</th>\n",
       "      <th>max_item_price</th>\n",
       "      <th>...</th>\n",
       "      <th>delivery_time</th>\n",
       "      <th>weekday</th>\n",
       "      <th>is_weekend</th>\n",
       "      <th>date</th>\n",
       "      <th>is_holiday</th>\n",
       "      <th>month</th>\n",
       "      <th>day</th>\n",
       "      <th>hour</th>\n",
       "      <th>estimated_time</th>\n",
       "      <th>store_cat</th>\n",
       "    </tr>\n",
       "  </thead>\n",
       "  <tbody>\n",
       "  </tbody>\n",
       "</table>\n",
       "<p>0 rows × 24 columns</p>\n",
       "</div>"
      ],
      "text/plain": [
       "Empty DataFrame\n",
       "Columns: [market_id, created_at, actual_delivery_time, store_id, order_protocol, total_items, subtotal, num_distinct_items, min_item_price, max_item_price, total_onshift, total_busy, total_outstanding_orders, estimated_order_place_duration, delivery_time, weekday, is_weekend, date, is_holiday, month, day, hour, estimated_time, store_cat]\n",
       "Index: []\n",
       "\n",
       "[0 rows x 24 columns]"
      ]
     },
     "execution_count": 78,
     "metadata": {},
     "output_type": "execute_result"
    }
   ],
   "source": [
    "delivery_df['store_cat'] = delivery_df['store_cat'].apply(fillna_store_cat)\n",
    "delivery_df.drop('store_primary_category', axis=1, inplace=True)\n",
    "delivery_df[delivery_df['store_cat']==74]"
   ]
  },
  {
   "cell_type": "code",
   "execution_count": 79,
   "id": "960fb6cd",
   "metadata": {},
   "outputs": [],
   "source": [
    "delivery_df.to_csv('delivery_df.csv')"
   ]
  },
  {
   "cell_type": "code",
   "execution_count": 11,
   "id": "eeab9774",
   "metadata": {},
   "outputs": [
    {
     "data": {
      "text/html": [
       "<div>\n",
       "<style scoped>\n",
       "    .dataframe tbody tr th:only-of-type {\n",
       "        vertical-align: middle;\n",
       "    }\n",
       "\n",
       "    .dataframe tbody tr th {\n",
       "        vertical-align: top;\n",
       "    }\n",
       "\n",
       "    .dataframe thead th {\n",
       "        text-align: right;\n",
       "    }\n",
       "</style>\n",
       "<table border=\"1\" class=\"dataframe\">\n",
       "  <thead>\n",
       "    <tr style=\"text-align: right;\">\n",
       "      <th></th>\n",
       "      <th>market_id</th>\n",
       "      <th>created_at</th>\n",
       "      <th>actual_delivery_time</th>\n",
       "      <th>store_id</th>\n",
       "      <th>order_protocol</th>\n",
       "      <th>total_items</th>\n",
       "      <th>subtotal</th>\n",
       "      <th>num_distinct_items</th>\n",
       "      <th>min_item_price</th>\n",
       "      <th>max_item_price</th>\n",
       "      <th>...</th>\n",
       "      <th>delivery_time</th>\n",
       "      <th>weekday</th>\n",
       "      <th>is_weekend</th>\n",
       "      <th>date</th>\n",
       "      <th>is_holiday</th>\n",
       "      <th>month</th>\n",
       "      <th>day</th>\n",
       "      <th>hour</th>\n",
       "      <th>estimated_time</th>\n",
       "      <th>store_cat</th>\n",
       "    </tr>\n",
       "  </thead>\n",
       "  <tbody>\n",
       "    <tr>\n",
       "      <th>0</th>\n",
       "      <td>1.0</td>\n",
       "      <td>2015-02-06 22:24:17</td>\n",
       "      <td>2015-02-06 23:27:16</td>\n",
       "      <td>1845</td>\n",
       "      <td>1.0</td>\n",
       "      <td>4</td>\n",
       "      <td>3441</td>\n",
       "      <td>4</td>\n",
       "      <td>557</td>\n",
       "      <td>1239</td>\n",
       "      <td>...</td>\n",
       "      <td>3779</td>\n",
       "      <td>4</td>\n",
       "      <td>0</td>\n",
       "      <td>2015-02-06 00:00:00</td>\n",
       "      <td>False</td>\n",
       "      <td>2</td>\n",
       "      <td>6</td>\n",
       "      <td>22.404722</td>\n",
       "      <td>861.0</td>\n",
       "      <td>4</td>\n",
       "    </tr>\n",
       "    <tr>\n",
       "      <th>1</th>\n",
       "      <td>2.0</td>\n",
       "      <td>2015-02-10 21:49:25</td>\n",
       "      <td>2015-02-10 22:56:29</td>\n",
       "      <td>5477</td>\n",
       "      <td>2.0</td>\n",
       "      <td>1</td>\n",
       "      <td>1900</td>\n",
       "      <td>1</td>\n",
       "      <td>1400</td>\n",
       "      <td>1400</td>\n",
       "      <td>...</td>\n",
       "      <td>4024</td>\n",
       "      <td>1</td>\n",
       "      <td>0</td>\n",
       "      <td>2015-02-10 00:00:00</td>\n",
       "      <td>False</td>\n",
       "      <td>2</td>\n",
       "      <td>10</td>\n",
       "      <td>21.823611</td>\n",
       "      <td>690.0</td>\n",
       "      <td>47</td>\n",
       "    </tr>\n",
       "    <tr>\n",
       "      <th>2</th>\n",
       "      <td>3.0</td>\n",
       "      <td>2015-01-22 20:39:28</td>\n",
       "      <td>2015-01-22 21:09:09</td>\n",
       "      <td>5477</td>\n",
       "      <td>1.0</td>\n",
       "      <td>1</td>\n",
       "      <td>1900</td>\n",
       "      <td>1</td>\n",
       "      <td>1900</td>\n",
       "      <td>1900</td>\n",
       "      <td>...</td>\n",
       "      <td>1781</td>\n",
       "      <td>3</td>\n",
       "      <td>0</td>\n",
       "      <td>2015-01-22 00:00:00</td>\n",
       "      <td>False</td>\n",
       "      <td>1</td>\n",
       "      <td>22</td>\n",
       "      <td>20.657778</td>\n",
       "      <td>690.0</td>\n",
       "      <td>47</td>\n",
       "    </tr>\n",
       "  </tbody>\n",
       "</table>\n",
       "<p>3 rows × 24 columns</p>\n",
       "</div>"
      ],
      "text/plain": [
       "   market_id           created_at actual_delivery_time  store_id  \\\n",
       "0        1.0  2015-02-06 22:24:17  2015-02-06 23:27:16      1845   \n",
       "1        2.0  2015-02-10 21:49:25  2015-02-10 22:56:29      5477   \n",
       "2        3.0  2015-01-22 20:39:28  2015-01-22 21:09:09      5477   \n",
       "\n",
       "   order_protocol  total_items  subtotal  num_distinct_items  min_item_price  \\\n",
       "0             1.0            4      3441                   4             557   \n",
       "1             2.0            1      1900                   1            1400   \n",
       "2             1.0            1      1900                   1            1900   \n",
       "\n",
       "   max_item_price  ...  delivery_time  weekday  is_weekend  \\\n",
       "0            1239  ...           3779        4           0   \n",
       "1            1400  ...           4024        1           0   \n",
       "2            1900  ...           1781        3           0   \n",
       "\n",
       "                  date  is_holiday  month  day       hour  estimated_time  \\\n",
       "0  2015-02-06 00:00:00       False      2    6  22.404722           861.0   \n",
       "1  2015-02-10 00:00:00       False      2   10  21.823611           690.0   \n",
       "2  2015-01-22 00:00:00       False      1   22  20.657778           690.0   \n",
       "\n",
       "   store_cat  \n",
       "0          4  \n",
       "1         47  \n",
       "2         47  \n",
       "\n",
       "[3 rows x 24 columns]"
      ]
     },
     "execution_count": 11,
     "metadata": {},
     "output_type": "execute_result"
    }
   ],
   "source": [
    "delivery_df = pd.read_csv('delivery_df.csv')\n",
    "delivery_df.drop('Unnamed: 0', axis=1, inplace=True)\n",
    "sns.set_palette(\"husl\", 6)\n",
    "delivery_df.head(3)"
   ]
  },
  {
   "cell_type": "markdown",
   "id": "e48f41cb",
   "metadata": {},
   "source": [
    "### total_onshift & total_busy & total_outstanding_orders"
   ]
  },
  {
   "cell_type": "code",
   "execution_count": 12,
   "id": "75558c57",
   "metadata": {},
   "outputs": [
    {
     "name": "stdout",
     "output_type": "stream",
     "text": [
      "<class 'pandas.core.frame.DataFrame'>\n",
      "Int64Index: 16260 entries, 159 to 197407\n",
      "Data columns (total 3 columns):\n",
      " #   Column                    Non-Null Count  Dtype  \n",
      "---  ------                    --------------  -----  \n",
      " 0   total_onshift             0 non-null      float64\n",
      " 1   total_busy                0 non-null      float64\n",
      " 2   total_outstanding_orders  0 non-null      float64\n",
      "dtypes: float64(3)\n",
      "memory usage: 508.1 KB\n"
     ]
    }
   ],
   "source": [
    "delivery_df[delivery_df['total_onshift'].isnull()][['total_onshift', 'total_busy',  'total_outstanding_orders']].info()"
   ]
  },
  {
   "cell_type": "code",
   "execution_count": 13,
   "id": "c1952d28",
   "metadata": {},
   "outputs": [
    {
     "data": {
      "text/plain": [
       "<AxesSubplot:>"
      ]
     },
     "execution_count": 13,
     "metadata": {},
     "output_type": "execute_result"
    },
    {
     "data": {
      "image/png": "[encoded data removed]",
      "text/plain": [
       "<Figure size 432x288 with 1 Axes>"
      ]
     },
     "metadata": {
      "needs_background": "light"
     },
     "output_type": "display_data"
    }
   ],
   "source": [
    "delivery_df['total_onshift'].hist()"
   ]
  },
  {
   "cell_type": "code",
   "execution_count": 14,
   "id": "a8d775eb",
   "metadata": {},
   "outputs": [
    {
     "data": {
      "text/plain": [
       "<AxesSubplot:>"
      ]
     },
     "execution_count": 14,
     "metadata": {},
     "output_type": "execute_result"
    },
    {
     "data": {
      "image/png": "[encoded data removed]",
      "text/plain": [
       "<Figure size 432x288 with 1 Axes>"
      ]
     },
     "metadata": {
      "needs_background": "light"
     },
     "output_type": "display_data"
    }
   ],
   "source": [
    "delivery_df['total_busy'].hist()"
   ]
  },
  {
   "cell_type": "code",
   "execution_count": 15,
   "id": "d3aa654f",
   "metadata": {},
   "outputs": [
    {
     "data": {
      "text/plain": [
       "<AxesSubplot:>"
      ]
     },
     "execution_count": 15,
     "metadata": {},
     "output_type": "execute_result"
    },
    {
     "data": {
      "image/png": "[encoded data removed]",
      "text/plain": [
       "<Figure size 432x288 with 1 Axes>"
      ]
     },
     "metadata": {
      "needs_background": "light"
     },
     "output_type": "display_data"
    }
   ],
   "source": [
    "delivery_df['total_outstanding_orders'].hist()"
   ]
  },
  {
   "cell_type": "code",
   "execution_count": 16,
   "id": "bbc3e7b9",
   "metadata": {},
   "outputs": [],
   "source": [
    "def fix_estimated_time(estimated_time):\n",
    "    if estimated_time[0] == '[':\n",
    "        return estimated_time[1:-1]\n",
    "    else:\n",
    "        return estimated_time\n",
    "\n",
    "delivery_df['estimated_time'] = delivery_df['estimated_time'].apply(fix_estimated_time)\n",
    "delivery_df['estimated_time'] = delivery_df['estimated_time'].astype(float)"
   ]
  },
  {
   "cell_type": "code",
   "execution_count": 17,
   "id": "088f7831",
   "metadata": {},
   "outputs": [
    {
     "data": {
      "text/plain": [
       "545.3373856275301"
      ]
     },
     "execution_count": 17,
     "metadata": {},
     "output_type": "execute_result"
    }
   ],
   "source": [
    "delivery_df['estimated_time'].mean()"
   ]
  },
  {
   "cell_type": "code",
   "execution_count": 19,
   "id": "b36c8cc8",
   "metadata": {},
   "outputs": [],
   "source": [
    "from sklearn.ensemble import RandomForestRegressor\n",
    "\n",
    "drop_cols = ['created_at', 'actual_delivery_time', 'date', 'total_onshift', 'total_busy', 'total_outstanding_orders']\n",
    "train = delivery_df[~delivery_df['total_onshift'].isnull()]\n",
    "test = delivery_df[delivery_df['total_onshift'].isnull()]\n",
    "target = train[['total_onshift', 'total_busy', 'total_outstanding_orders']]\n",
    "train_data = train.drop(drop_cols, axis=1)\n",
    "test_data = test.drop(drop_cols, axis=1)"
   ]
  },
  {
   "cell_type": "code",
   "execution_count": 20,
   "id": "b152a806",
   "metadata": {},
   "outputs": [
    {
     "data": {
      "text/plain": [
       "RandomForestRegressor()"
      ]
     },
     "execution_count": 20,
     "metadata": {},
     "output_type": "execute_result"
    }
   ],
   "source": [
    "rf = RandomForestRegressor()\n",
    "rf.fit(train_data, target)"
   ]
  },
  {
   "cell_type": "code",
   "execution_count": 21,
   "id": "6fe5f1a2",
   "metadata": {},
   "outputs": [
    {
     "data": {
      "text/plain": [
       "array([[ 45.31,  36.59,  44.29],\n",
       "       [ 87.81,  77.66, 125.15],\n",
       "       [ 23.98,  22.57,  22.66],\n",
       "       ...,\n",
       "       [ 26.3 ,  22.93,  26.68],\n",
       "       [ 38.45,  36.3 ,  45.59],\n",
       "       [ 30.61,  31.05,  41.84]])"
      ]
     },
     "execution_count": 21,
     "metadata": {},
     "output_type": "execute_result"
    }
   ],
   "source": [
    "prediction = rf.predict(test_data)\n",
    "prediction"
   ]
  },
  {
   "cell_type": "code",
   "execution_count": 22,
   "id": "19ac0465",
   "metadata": {},
   "outputs": [],
   "source": [
    "counter=-1\n",
    "def fillna_total_onshift(total_onshift):\n",
    "    if np.isnan(total_onshift):\n",
    "        global counter\n",
    "        counter+=1\n",
    "        return prediction[counter][0]\n",
    "    else:\n",
    "        return total_onshift"
   ]
  },
  {
   "cell_type": "code",
   "execution_count": 23,
   "id": "baef3bee",
   "metadata": {},
   "outputs": [
    {
     "data": {
      "text/plain": [
       "0"
      ]
     },
     "execution_count": 23,
     "metadata": {},
     "output_type": "execute_result"
    }
   ],
   "source": [
    "delivery_df['total_onshift']= delivery_df['total_onshift'].apply(fillna_total_onshift)\n",
    "delivery_df['total_onshift'].isnull().sum()"
   ]
  },
  {
   "cell_type": "code",
   "execution_count": 24,
   "id": "791a5d2c",
   "metadata": {},
   "outputs": [],
   "source": [
    "counter=-1\n",
    "def fillna_total_busy(total_busy):\n",
    "    if np.isnan(total_busy):\n",
    "        global counter\n",
    "        counter+=1\n",
    "        return prediction[counter][1]\n",
    "    else:\n",
    "        return total_busy"
   ]
  },
  {
   "cell_type": "code",
   "execution_count": 25,
   "id": "f85a3a25",
   "metadata": {},
   "outputs": [
    {
     "data": {
      "text/plain": [
       "0"
      ]
     },
     "execution_count": 25,
     "metadata": {},
     "output_type": "execute_result"
    }
   ],
   "source": [
    "delivery_df['total_busy']= delivery_df['total_busy'].apply(fillna_total_busy)\n",
    "delivery_df['total_busy'].isnull().sum()"
   ]
  },
  {
   "cell_type": "code",
   "execution_count": 26,
   "id": "c81520ea",
   "metadata": {},
   "outputs": [],
   "source": [
    "counter=-1\n",
    "def fillna_total_outstanding_orders(total_outstanding_orders):\n",
    "    if np.isnan(total_outstanding_orders):\n",
    "        global counter\n",
    "        counter+=1\n",
    "        return prediction[counter][2]\n",
    "    else:\n",
    "        return total_outstanding_orders"
   ]
  },
  {
   "cell_type": "code",
   "execution_count": 27,
   "id": "288f477f",
   "metadata": {},
   "outputs": [
    {
     "data": {
      "text/plain": [
       "0"
      ]
     },
     "execution_count": 27,
     "metadata": {},
     "output_type": "execute_result"
    }
   ],
   "source": [
    "delivery_df['total_outstanding_orders']= delivery_df['total_outstanding_orders'].apply(fillna_total_outstanding_orders)\n",
    "delivery_df['total_outstanding_orders'].isnull().sum()"
   ]
  },
  {
   "cell_type": "code",
   "execution_count": 28,
   "id": "5eb1febe",
   "metadata": {},
   "outputs": [],
   "source": [
    "delivery_df.to_csv('delivery_df.csv')"
   ]
  },
  {
   "cell_type": "code",
   "execution_count": 2,
   "id": "272a8582",
   "metadata": {},
   "outputs": [
    {
     "data": {
      "text/html": [
       "<div>\n",
       "<style scoped>\n",
       "    .dataframe tbody tr th:only-of-type {\n",
       "        vertical-align: middle;\n",
       "    }\n",
       "\n",
       "    .dataframe tbody tr th {\n",
       "        vertical-align: top;\n",
       "    }\n",
       "\n",
       "    .dataframe thead th {\n",
       "        text-align: right;\n",
       "    }\n",
       "</style>\n",
       "<table border=\"1\" class=\"dataframe\">\n",
       "  <thead>\n",
       "    <tr style=\"text-align: right;\">\n",
       "      <th></th>\n",
       "      <th>market_id</th>\n",
       "      <th>created_at</th>\n",
       "      <th>actual_delivery_time</th>\n",
       "      <th>store_id</th>\n",
       "      <th>order_protocol</th>\n",
       "      <th>total_items</th>\n",
       "      <th>subtotal</th>\n",
       "      <th>num_distinct_items</th>\n",
       "      <th>min_item_price</th>\n",
       "      <th>max_item_price</th>\n",
       "      <th>...</th>\n",
       "      <th>delivery_time</th>\n",
       "      <th>weekday</th>\n",
       "      <th>is_weekend</th>\n",
       "      <th>date</th>\n",
       "      <th>is_holiday</th>\n",
       "      <th>month</th>\n",
       "      <th>day</th>\n",
       "      <th>hour</th>\n",
       "      <th>estimated_time</th>\n",
       "      <th>store_cat</th>\n",
       "    </tr>\n",
       "  </thead>\n",
       "  <tbody>\n",
       "    <tr>\n",
       "      <th>0</th>\n",
       "      <td>1.0</td>\n",
       "      <td>2015-02-06 22:24:17</td>\n",
       "      <td>2015-02-06 23:27:16</td>\n",
       "      <td>1845</td>\n",
       "      <td>1.0</td>\n",
       "      <td>4</td>\n",
       "      <td>3441</td>\n",
       "      <td>4</td>\n",
       "      <td>557</td>\n",
       "      <td>1239</td>\n",
       "      <td>...</td>\n",
       "      <td>3779</td>\n",
       "      <td>4</td>\n",
       "      <td>0</td>\n",
       "      <td>2015-02-06 00:00:00</td>\n",
       "      <td>False</td>\n",
       "      <td>2</td>\n",
       "      <td>6</td>\n",
       "      <td>22.404722</td>\n",
       "      <td>861.0</td>\n",
       "      <td>4</td>\n",
       "    </tr>\n",
       "    <tr>\n",
       "      <th>1</th>\n",
       "      <td>2.0</td>\n",
       "      <td>2015-02-10 21:49:25</td>\n",
       "      <td>2015-02-10 22:56:29</td>\n",
       "      <td>5477</td>\n",
       "      <td>2.0</td>\n",
       "      <td>1</td>\n",
       "      <td>1900</td>\n",
       "      <td>1</td>\n",
       "      <td>1400</td>\n",
       "      <td>1400</td>\n",
       "      <td>...</td>\n",
       "      <td>4024</td>\n",
       "      <td>1</td>\n",
       "      <td>0</td>\n",
       "      <td>2015-02-10 00:00:00</td>\n",
       "      <td>False</td>\n",
       "      <td>2</td>\n",
       "      <td>10</td>\n",
       "      <td>21.823611</td>\n",
       "      <td>690.0</td>\n",
       "      <td>47</td>\n",
       "    </tr>\n",
       "    <tr>\n",
       "      <th>2</th>\n",
       "      <td>3.0</td>\n",
       "      <td>2015-01-22 20:39:28</td>\n",
       "      <td>2015-01-22 21:09:09</td>\n",
       "      <td>5477</td>\n",
       "      <td>1.0</td>\n",
       "      <td>1</td>\n",
       "      <td>1900</td>\n",
       "      <td>1</td>\n",
       "      <td>1900</td>\n",
       "      <td>1900</td>\n",
       "      <td>...</td>\n",
       "      <td>1781</td>\n",
       "      <td>3</td>\n",
       "      <td>0</td>\n",
       "      <td>2015-01-22 00:00:00</td>\n",
       "      <td>False</td>\n",
       "      <td>1</td>\n",
       "      <td>22</td>\n",
       "      <td>20.657778</td>\n",
       "      <td>690.0</td>\n",
       "      <td>47</td>\n",
       "    </tr>\n",
       "  </tbody>\n",
       "</table>\n",
       "<p>3 rows × 24 columns</p>\n",
       "</div>"
      ],
      "text/plain": [
       "   market_id           created_at actual_delivery_time  store_id  \\\n",
       "0        1.0  2015-02-06 22:24:17  2015-02-06 23:27:16      1845   \n",
       "1        2.0  2015-02-10 21:49:25  2015-02-10 22:56:29      5477   \n",
       "2        3.0  2015-01-22 20:39:28  2015-01-22 21:09:09      5477   \n",
       "\n",
       "   order_protocol  total_items  subtotal  num_distinct_items  min_item_price  \\\n",
       "0             1.0            4      3441                   4             557   \n",
       "1             2.0            1      1900                   1            1400   \n",
       "2             1.0            1      1900                   1            1900   \n",
       "\n",
       "   max_item_price  ...  delivery_time  weekday  is_weekend  \\\n",
       "0            1239  ...           3779        4           0   \n",
       "1            1400  ...           4024        1           0   \n",
       "2            1900  ...           1781        3           0   \n",
       "\n",
       "                  date  is_holiday  month  day       hour  estimated_time  \\\n",
       "0  2015-02-06 00:00:00       False      2    6  22.404722           861.0   \n",
       "1  2015-02-10 00:00:00       False      2   10  21.823611           690.0   \n",
       "2  2015-01-22 00:00:00       False      1   22  20.657778           690.0   \n",
       "\n",
       "   store_cat  \n",
       "0          4  \n",
       "1         47  \n",
       "2         47  \n",
       "\n",
       "[3 rows x 24 columns]"
      ]
     },
     "execution_count": 2,
     "metadata": {},
     "output_type": "execute_result"
    }
   ],
   "source": [
    "delivery_df = pd.read_csv('delivery_df.csv')\n",
    "delivery_df.drop('Unnamed: 0', axis=1, inplace=True)\n",
    "delivery_df.head(3)"
   ]
  },
  {
   "cell_type": "markdown",
   "id": "3e498981",
   "metadata": {},
   "source": [
    "## 3. Data split"
   ]
  },
  {
   "cell_type": "code",
   "execution_count": 6,
   "id": "9b916a03",
   "metadata": {},
   "outputs": [
    {
     "data": {
      "text/html": [
       "<div>\n",
       "<style scoped>\n",
       "    .dataframe tbody tr th:only-of-type {\n",
       "        vertical-align: middle;\n",
       "    }\n",
       "\n",
       "    .dataframe tbody tr th {\n",
       "        vertical-align: top;\n",
       "    }\n",
       "\n",
       "    .dataframe thead th {\n",
       "        text-align: right;\n",
       "    }\n",
       "</style>\n",
       "<table border=\"1\" class=\"dataframe\">\n",
       "  <thead>\n",
       "    <tr style=\"text-align: right;\">\n",
       "      <th></th>\n",
       "      <th>market_id</th>\n",
       "      <th>store_id</th>\n",
       "      <th>order_protocol</th>\n",
       "      <th>total_items</th>\n",
       "      <th>subtotal</th>\n",
       "      <th>num_distinct_items</th>\n",
       "      <th>min_item_price</th>\n",
       "      <th>max_item_price</th>\n",
       "      <th>total_onshift</th>\n",
       "      <th>total_busy</th>\n",
       "      <th>total_outstanding_orders</th>\n",
       "      <th>delivery_time</th>\n",
       "      <th>weekday</th>\n",
       "      <th>is_weekend</th>\n",
       "      <th>is_holiday</th>\n",
       "      <th>month</th>\n",
       "      <th>day</th>\n",
       "      <th>hour</th>\n",
       "      <th>estimated_time</th>\n",
       "      <th>store_cat</th>\n",
       "    </tr>\n",
       "  </thead>\n",
       "  <tbody>\n",
       "    <tr>\n",
       "      <th>0</th>\n",
       "      <td>1.0</td>\n",
       "      <td>1845</td>\n",
       "      <td>1.0</td>\n",
       "      <td>4</td>\n",
       "      <td>3441</td>\n",
       "      <td>4</td>\n",
       "      <td>557</td>\n",
       "      <td>1239</td>\n",
       "      <td>33.0</td>\n",
       "      <td>14.0</td>\n",
       "      <td>21.0</td>\n",
       "      <td>3779</td>\n",
       "      <td>4</td>\n",
       "      <td>0</td>\n",
       "      <td>False</td>\n",
       "      <td>2</td>\n",
       "      <td>6</td>\n",
       "      <td>22.404722</td>\n",
       "      <td>861.0</td>\n",
       "      <td>4</td>\n",
       "    </tr>\n",
       "    <tr>\n",
       "      <th>1</th>\n",
       "      <td>2.0</td>\n",
       "      <td>5477</td>\n",
       "      <td>2.0</td>\n",
       "      <td>1</td>\n",
       "      <td>1900</td>\n",
       "      <td>1</td>\n",
       "      <td>1400</td>\n",
       "      <td>1400</td>\n",
       "      <td>1.0</td>\n",
       "      <td>2.0</td>\n",
       "      <td>2.0</td>\n",
       "      <td>4024</td>\n",
       "      <td>1</td>\n",
       "      <td>0</td>\n",
       "      <td>False</td>\n",
       "      <td>2</td>\n",
       "      <td>10</td>\n",
       "      <td>21.823611</td>\n",
       "      <td>690.0</td>\n",
       "      <td>47</td>\n",
       "    </tr>\n",
       "    <tr>\n",
       "      <th>2</th>\n",
       "      <td>3.0</td>\n",
       "      <td>5477</td>\n",
       "      <td>1.0</td>\n",
       "      <td>1</td>\n",
       "      <td>1900</td>\n",
       "      <td>1</td>\n",
       "      <td>1900</td>\n",
       "      <td>1900</td>\n",
       "      <td>1.0</td>\n",
       "      <td>0.0</td>\n",
       "      <td>0.0</td>\n",
       "      <td>1781</td>\n",
       "      <td>3</td>\n",
       "      <td>0</td>\n",
       "      <td>False</td>\n",
       "      <td>1</td>\n",
       "      <td>22</td>\n",
       "      <td>20.657778</td>\n",
       "      <td>690.0</td>\n",
       "      <td>47</td>\n",
       "    </tr>\n",
       "  </tbody>\n",
       "</table>\n",
       "</div>"
      ],
      "text/plain": [
       "   market_id  store_id  order_protocol  total_items  subtotal  \\\n",
       "0        1.0      1845             1.0            4      3441   \n",
       "1        2.0      5477             2.0            1      1900   \n",
       "2        3.0      5477             1.0            1      1900   \n",
       "\n",
       "   num_distinct_items  min_item_price  max_item_price  total_onshift  \\\n",
       "0                   4             557            1239           33.0   \n",
       "1                   1            1400            1400            1.0   \n",
       "2                   1            1900            1900            1.0   \n",
       "\n",
       "   total_busy  total_outstanding_orders  delivery_time  weekday  is_weekend  \\\n",
       "0        14.0                      21.0           3779        4           0   \n",
       "1         2.0                       2.0           4024        1           0   \n",
       "2         0.0                       0.0           1781        3           0   \n",
       "\n",
       "   is_holiday  month  day       hour  estimated_time  store_cat  \n",
       "0       False      2    6  22.404722           861.0          4  \n",
       "1       False      2   10  21.823611           690.0         47  \n",
       "2       False      1   22  20.657778           690.0         47  "
      ]
     },
     "execution_count": 6,
     "metadata": {},
     "output_type": "execute_result"
    }
   ],
   "source": [
    "drop_col = ['created_at', 'actual_delivery_time', 'estimated_order_place_duration', 'date']\n",
    "new_delivery_df = delivery_df.drop(drop_col, axis=1)\n",
    "\n",
    "new_delivery_df.head(3)"
   ]
  },
  {
   "cell_type": "code",
   "execution_count": 206,
   "id": "0da21235",
   "metadata": {},
   "outputs": [
    {
     "data": {
      "text/plain": [
       "((177672, 19), (19742, 19), (177672,), (19742,))"
      ]
     },
     "execution_count": 206,
     "metadata": {},
     "output_type": "execute_result"
    }
   ],
   "source": [
    "from sklearn.model_selection import train_test_split\n",
    "\n",
    "\n",
    "X = new_delivery_df.drop('delivery_time', axis=1)\n",
    "Y = new_delivery_df['delivery_time']\n",
    "\n",
    "X_train, X_test, Y_train, Y_test = train_test_split(X, Y, test_size=0.1, random_state=42)\n",
    "Y_train = np.log(Y_train)\n",
    "X_train.shape, X_test.shape, Y_train.shape, Y_test.shape"
   ]
  },
  {
   "cell_type": "markdown",
   "id": "ee27e2bd",
   "metadata": {},
   "source": [
    "## 4. Model"
   ]
  },
  {
   "cell_type": "code",
   "execution_count": 207,
   "id": "b6d56c14",
   "metadata": {},
   "outputs": [],
   "source": [
    "# under 비율 출력 함수\n",
    "def under_ratio(Y_test, prediction):\n",
    "    under_count = 0\n",
    "    total = Y_test.shape[0]\n",
    "    for ans, pred in zip(Y_test, prediction):\n",
    "        if pred<ans:\n",
    "            under_count+=1\n",
    "    return np.round((under_count/total), 3)"
   ]
  },
  {
   "cell_type": "markdown",
   "id": "a7d45d77",
   "metadata": {},
   "source": [
    "### XGBoost"
   ]
  },
  {
   "cell_type": "code",
   "execution_count": 218,
   "id": "c0683449",
   "metadata": {},
   "outputs": [
    {
     "data": {
      "text/plain": [
       "XGBRegressor(base_score=0.5, booster='gbtree', colsample_bylevel=1,\n",
       "             colsample_bynode=1, colsample_bytree=1, enable_categorical=False,\n",
       "             gamma=0, gpu_id=-1, importance_type=None,\n",
       "             interaction_constraints='', learning_rate=0.300000012,\n",
       "             max_delta_step=0, max_depth=7, min_child_weight=1, missing=nan,\n",
       "             monotone_constraints='()', n_estimators=100, n_jobs=6,\n",
       "             num_parallel_tree=1, predictor='auto', random_state=0, reg_alpha=0,\n",
       "             reg_lambda=1, scale_pos_weight=1, subsample=1, tree_method='exact',\n",
       "             validate_parameters=1, verbosity=None)"
      ]
     },
     "execution_count": 218,
     "metadata": {},
     "output_type": "execute_result"
    }
   ],
   "source": [
    "from xgboost import XGBRegressor\n",
    "\n",
    "xgb = XGBRegressor(max_depth=7, random_state=0)\n",
    "xgb.fit(X_train, Y_train)"
   ]
  },
  {
   "cell_type": "code",
   "execution_count": 219,
   "id": "96ec6221",
   "metadata": {},
   "outputs": [],
   "source": [
    "prediction = xgb.predict(X_test)\n",
    "prediction = np.exp(prediction)"
   ]
  },
  {
   "cell_type": "code",
   "execution_count": 220,
   "id": "2a7be3e0",
   "metadata": {},
   "outputs": [
    {
     "data": {
      "text/plain": [
       "982.648427622762"
      ]
     },
     "execution_count": 220,
     "metadata": {},
     "output_type": "execute_result"
    }
   ],
   "source": [
    "from sklearn.metrics import mean_squared_error\n",
    "\n",
    "prediction+=300\n",
    "RMSE = np.sqrt(mean_squared_error(Y_test, prediction))\n",
    "RMSE"
   ]
  },
  {
   "cell_type": "code",
   "execution_count": 221,
   "id": "ac6d023e",
   "metadata": {},
   "outputs": [
    {
     "data": {
      "text/plain": [
       "0.329"
      ]
     },
     "execution_count": 221,
     "metadata": {},
     "output_type": "execute_result"
    }
   ],
   "source": [
    "under_ratio(Y_test, prediction)"
   ]
  },
  {
   "cell_type": "markdown",
   "id": "5dc0b40c",
   "metadata": {},
   "source": [
    "### RandomForest"
   ]
  },
  {
   "cell_type": "code",
   "execution_count": 37,
   "id": "07f2873d",
   "metadata": {},
   "outputs": [
    {
     "data": {
      "text/plain": [
       "RandomForestRegressor(random_state=42)"
      ]
     },
     "execution_count": 37,
     "metadata": {},
     "output_type": "execute_result"
    }
   ],
   "source": [
    "from sklearn.ensemble import RandomForestRegressor, GradientBoostingRegressor\n",
    "\n",
    "rf = RandomForestRegressor(random_state=42)\n",
    "rf.fit(X_train, Y_train)"
   ]
  },
  {
   "cell_type": "code",
   "execution_count": 38,
   "id": "f12e0543",
   "metadata": {},
   "outputs": [
    {
     "data": {
      "text/plain": [
       "1019.66361037281"
      ]
     },
     "execution_count": 38,
     "metadata": {},
     "output_type": "execute_result"
    }
   ],
   "source": [
    "prediction = rf.predict(X_test)\n",
    "prediction = np.exp(prediction)\n",
    "RMSE = np.sqrt(mean_squared_error(Y_test, prediction))\n",
    "RMSE"
   ]
  },
  {
   "cell_type": "code",
   "execution_count": 39,
   "id": "9c31bd62",
   "metadata": {},
   "outputs": [
    {
     "data": {
      "text/plain": [
       "0.407"
      ]
     },
     "execution_count": 39,
     "metadata": {},
     "output_type": "execute_result"
    }
   ],
   "source": [
    "under_ratio(Y_test, prediction)"
   ]
  },
  {
   "cell_type": "markdown",
   "id": "06c25cc2",
   "metadata": {},
   "source": [
    "### LGBM"
   ]
  },
  {
   "cell_type": "code",
   "execution_count": 229,
   "id": "fe1e73ae",
   "metadata": {},
   "outputs": [
    {
     "data": {
      "text/plain": [
       "LGBMRegressor(learning_rate=0.4, random_state=42)"
      ]
     },
     "execution_count": 229,
     "metadata": {},
     "output_type": "execute_result"
    }
   ],
   "source": [
    "from lightgbm import LGBMRegressor\n",
    "\n",
    "lgbm = LGBMRegressor(learning_rate=0.4, random_state=42)\n",
    "lgbm.fit(X_train, Y_train)"
   ]
  },
  {
   "cell_type": "code",
   "execution_count": 230,
   "id": "232b573f",
   "metadata": {},
   "outputs": [
    {
     "data": {
      "text/plain": [
       "989.4103806921191"
      ]
     },
     "execution_count": 230,
     "metadata": {},
     "output_type": "execute_result"
    }
   ],
   "source": [
    "prediction = lgbm.predict(X_test)\n",
    "prediction = np.exp(prediction)\n",
    "prediction+=300\n",
    "RMSE = np.sqrt(mean_squared_error(Y_test, prediction))\n",
    "RMSE"
   ]
  },
  {
   "cell_type": "code",
   "execution_count": 231,
   "id": "79711dbb",
   "metadata": {},
   "outputs": [
    {
     "data": {
      "text/plain": [
       "0.33"
      ]
     },
     "execution_count": 231,
     "metadata": {},
     "output_type": "execute_result"
    }
   ],
   "source": [
    "under_ratio(Y_test, prediction)"
   ]
  },
  {
   "cell_type": "markdown",
   "id": "099a66a7",
   "metadata": {},
   "source": [
    "### GradientBoost"
   ]
  },
  {
   "cell_type": "code",
   "execution_count": 192,
   "id": "12c2aeb9",
   "metadata": {},
   "outputs": [
    {
     "data": {
      "text/plain": [
       "GradientBoostingRegressor(learning_rate=0.01, random_state=42)"
      ]
     },
     "execution_count": 192,
     "metadata": {},
     "output_type": "execute_result"
    }
   ],
   "source": [
    "gb = GradientBoostingRegressor(learning_rate=0.01, random_state=42)\n",
    "gb.fit(X_train, Y_train)"
   ]
  },
  {
   "cell_type": "code",
   "execution_count": 193,
   "id": "bf0d0e69",
   "metadata": {},
   "outputs": [
    {
     "data": {
      "text/plain": [
       "1122.7114074118892"
      ]
     },
     "execution_count": 193,
     "metadata": {},
     "output_type": "execute_result"
    }
   ],
   "source": [
    "prediction = gb.predict(X_test)\n",
    "prediction = np.exp(prediction)\n",
    "RMSE = np.sqrt(mean_squared_error(Y_test, prediction))\n",
    "RMSE"
   ]
  },
  {
   "cell_type": "code",
   "execution_count": 194,
   "id": "95eb016c",
   "metadata": {},
   "outputs": [
    {
     "data": {
      "text/plain": [
       "0.415"
      ]
     },
     "execution_count": 194,
     "metadata": {},
     "output_type": "execute_result"
    }
   ],
   "source": [
    "under_ratio(Y_test, prediction)"
   ]
  },
  {
   "cell_type": "code",
   "execution_count": null,
   "id": "b94f278f",
   "metadata": {},
   "outputs": [],
   "source": []
  }
 ],
 "metadata": {
  "kernelspec": {
   "display_name": "Python 3 (ipykernel)",
   "language": "python",
   "name": "python3"
  },
  "language_info": {
   "codemirror_mode": {
    "name": "ipython",
    "version": 3
   },
   "file_extension": ".py",
   "mimetype": "text/x-python",
   "name": "python",
   "nbconvert_exporter": "python",
   "pygments_lexer": "ipython3",
   "version": "3.9.4"
  }
 },
 "nbformat": 4,
 "nbformat_minor": 5
}
  
