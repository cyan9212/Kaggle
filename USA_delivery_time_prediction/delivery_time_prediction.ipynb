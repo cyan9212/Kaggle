{
 "cells": [
  {
   "cell_type": "code",
   "execution_count": 131,
   "id": "dca58aeb",
   "metadata": {},
   "outputs": [],
   "source": [
    "import numpy as np\n",
    "import pandas as pd\n",
    "import matplotlib.pyplot as plt\n",
    "import seaborn as sns\n",
    "%matplotlib inline"
   ]
  },
  {
   "cell_type": "markdown",
   "id": "236ce58f",
   "metadata": {},
   "source": [
    "## 1. 데이터 확인"
   ]
  },
  {
   "cell_type": "code",
   "execution_count": 132,
   "id": "5c6d603f",
   "metadata": {},
   "outputs": [
    {
     "data": {
      "text/html": [
       "<div>\n",
       "<style scoped>\n",
       "    .dataframe tbody tr th:only-of-type {\n",
       "        vertical-align: middle;\n",
       "    }\n",
       "\n",
       "    .dataframe tbody tr th {\n",
       "        vertical-align: top;\n",
       "    }\n",
       "\n",
       "    .dataframe thead th {\n",
       "        text-align: right;\n",
       "    }\n",
       "</style>\n",
       "<table border=\"1\" class=\"dataframe\">\n",
       "  <thead>\n",
       "    <tr style=\"text-align: right;\">\n",
       "      <th></th>\n",
       "      <th>market_id</th>\n",
       "      <th>created_at</th>\n",
       "      <th>actual_delivery_time</th>\n",
       "      <th>store_id</th>\n",
       "      <th>store_primary_category</th>\n",
       "      <th>order_protocol</th>\n",
       "      <th>total_items</th>\n",
       "      <th>subtotal</th>\n",
       "      <th>num_distinct_items</th>\n",
       "      <th>min_item_price</th>\n",
       "      <th>max_item_price</th>\n",
       "      <th>total_onshift</th>\n",
       "      <th>total_busy</th>\n",
       "      <th>total_outstanding_orders</th>\n",
       "      <th>estimated_order_place_duration</th>\n",
       "      <th>estimated_store_to_consumer_driving_duration</th>\n",
       "    </tr>\n",
       "  </thead>\n",
       "  <tbody>\n",
       "    <tr>\n",
       "      <th>0</th>\n",
       "      <td>1.0</td>\n",
       "      <td>2015-02-06 22:24:17</td>\n",
       "      <td>2015-02-06 23:27:16</td>\n",
       "      <td>1845</td>\n",
       "      <td>american</td>\n",
       "      <td>1.0</td>\n",
       "      <td>4</td>\n",
       "      <td>3441</td>\n",
       "      <td>4</td>\n",
       "      <td>557</td>\n",
       "      <td>1239</td>\n",
       "      <td>33.0</td>\n",
       "      <td>14.0</td>\n",
       "      <td>21.0</td>\n",
       "      <td>446</td>\n",
       "      <td>861.0</td>\n",
       "    </tr>\n",
       "    <tr>\n",
       "      <th>1</th>\n",
       "      <td>2.0</td>\n",
       "      <td>2015-02-10 21:49:25</td>\n",
       "      <td>2015-02-10 22:56:29</td>\n",
       "      <td>5477</td>\n",
       "      <td>mexican</td>\n",
       "      <td>2.0</td>\n",
       "      <td>1</td>\n",
       "      <td>1900</td>\n",
       "      <td>1</td>\n",
       "      <td>1400</td>\n",
       "      <td>1400</td>\n",
       "      <td>1.0</td>\n",
       "      <td>2.0</td>\n",
       "      <td>2.0</td>\n",
       "      <td>446</td>\n",
       "      <td>690.0</td>\n",
       "    </tr>\n",
       "    <tr>\n",
       "      <th>2</th>\n",
       "      <td>3.0</td>\n",
       "      <td>2015-01-22 20:39:28</td>\n",
       "      <td>2015-01-22 21:09:09</td>\n",
       "      <td>5477</td>\n",
       "      <td>NaN</td>\n",
       "      <td>1.0</td>\n",
       "      <td>1</td>\n",
       "      <td>1900</td>\n",
       "      <td>1</td>\n",
       "      <td>1900</td>\n",
       "      <td>1900</td>\n",
       "      <td>1.0</td>\n",
       "      <td>0.0</td>\n",
       "      <td>0.0</td>\n",
       "      <td>446</td>\n",
       "      <td>690.0</td>\n",
       "    </tr>\n",
       "    <tr>\n",
       "      <th>3</th>\n",
       "      <td>3.0</td>\n",
       "      <td>2015-02-03 21:21:45</td>\n",
       "      <td>2015-02-03 22:13:00</td>\n",
       "      <td>5477</td>\n",
       "      <td>NaN</td>\n",
       "      <td>1.0</td>\n",
       "      <td>6</td>\n",
       "      <td>6900</td>\n",
       "      <td>5</td>\n",
       "      <td>600</td>\n",
       "      <td>1800</td>\n",
       "      <td>1.0</td>\n",
       "      <td>1.0</td>\n",
       "      <td>2.0</td>\n",
       "      <td>446</td>\n",
       "      <td>289.0</td>\n",
       "    </tr>\n",
       "    <tr>\n",
       "      <th>4</th>\n",
       "      <td>3.0</td>\n",
       "      <td>2015-02-15 02:40:36</td>\n",
       "      <td>2015-02-15 03:20:26</td>\n",
       "      <td>5477</td>\n",
       "      <td>NaN</td>\n",
       "      <td>1.0</td>\n",
       "      <td>3</td>\n",
       "      <td>3900</td>\n",
       "      <td>3</td>\n",
       "      <td>1100</td>\n",
       "      <td>1600</td>\n",
       "      <td>6.0</td>\n",
       "      <td>6.0</td>\n",
       "      <td>9.0</td>\n",
       "      <td>446</td>\n",
       "      <td>650.0</td>\n",
       "    </tr>\n",
       "  </tbody>\n",
       "</table>\n",
       "</div>"
      ],
      "text/plain": [
       "   market_id           created_at actual_delivery_time  store_id  \\\n",
       "0        1.0  2015-02-06 22:24:17  2015-02-06 23:27:16      1845   \n",
       "1        2.0  2015-02-10 21:49:25  2015-02-10 22:56:29      5477   \n",
       "2        3.0  2015-01-22 20:39:28  2015-01-22 21:09:09      5477   \n",
       "3        3.0  2015-02-03 21:21:45  2015-02-03 22:13:00      5477   \n",
       "4        3.0  2015-02-15 02:40:36  2015-02-15 03:20:26      5477   \n",
       "\n",
       "  store_primary_category  order_protocol  total_items  subtotal  \\\n",
       "0               american             1.0            4      3441   \n",
       "1                mexican             2.0            1      1900   \n",
       "2                    NaN             1.0            1      1900   \n",
       "3                    NaN             1.0            6      6900   \n",
       "4                    NaN             1.0            3      3900   \n",
       "\n",
       "   num_distinct_items  min_item_price  max_item_price  total_onshift  \\\n",
       "0                   4             557            1239           33.0   \n",
       "1                   1            1400            1400            1.0   \n",
       "2                   1            1900            1900            1.0   \n",
       "3                   5             600            1800            1.0   \n",
       "4                   3            1100            1600            6.0   \n",
       "\n",
       "   total_busy  total_outstanding_orders  estimated_order_place_duration  \\\n",
       "0        14.0                      21.0                             446   \n",
       "1         2.0                       2.0                             446   \n",
       "2         0.0                       0.0                             446   \n",
       "3         1.0                       2.0                             446   \n",
       "4         6.0                       9.0                             446   \n",
       "\n",
       "   estimated_store_to_consumer_driving_duration  \n",
       "0                                         861.0  \n",
       "1                                         690.0  \n",
       "2                                         690.0  \n",
       "3                                         289.0  \n",
       "4                                         650.0  "
      ]
     },
     "execution_count": 132,
     "metadata": {},
     "output_type": "execute_result"
    }
   ],
   "source": [
    "delivery_df = pd.read_csv('/jupyter/Data/Delivery/delivery_raw.csv', sep='\\t')\n",
    "delivery_df.head()"
   ]
  },
  {
   "cell_type": "code",
   "execution_count": 133,
   "id": "1ecd0247",
   "metadata": {},
   "outputs": [
    {
     "name": "stdout",
     "output_type": "stream",
     "text": [
      "<class 'pandas.core.frame.DataFrame'>\n",
      "RangeIndex: 197428 entries, 0 to 197427\n",
      "Data columns (total 16 columns):\n",
      " #   Column                                        Non-Null Count   Dtype  \n",
      "---  ------                                        --------------   -----  \n",
      " 0   market_id                                     196441 non-null  float64\n",
      " 1   created_at                                    197428 non-null  object \n",
      " 2   actual_delivery_time                          197421 non-null  object \n",
      " 3   store_id                                      197428 non-null  int64  \n",
      " 4   store_primary_category                        192668 non-null  object \n",
      " 5   order_protocol                                196433 non-null  float64\n",
      " 6   total_items                                   197428 non-null  int64  \n",
      " 7   subtotal                                      197428 non-null  int64  \n",
      " 8   num_distinct_items                            197428 non-null  int64  \n",
      " 9   min_item_price                                197428 non-null  int64  \n",
      " 10  max_item_price                                197428 non-null  int64  \n",
      " 11  total_onshift                                 181166 non-null  float64\n",
      " 12  total_busy                                    181166 non-null  float64\n",
      " 13  total_outstanding_orders                      181166 non-null  float64\n",
      " 14  estimated_order_place_duration                197428 non-null  int64  \n",
      " 15  estimated_store_to_consumer_driving_duration  196902 non-null  float64\n",
      "dtypes: float64(6), int64(7), object(3)\n",
      "memory usage: 24.1+ MB\n"
     ]
    }
   ],
   "source": [
    "delivery_df.info()"
   ]
  },
  {
   "cell_type": "code",
   "execution_count": 134,
   "id": "9a354f0e",
   "metadata": {},
   "outputs": [
    {
     "data": {
      "text/plain": [
       "market_id                                         987\n",
       "created_at                                          0\n",
       "actual_delivery_time                                7\n",
       "store_id                                            0\n",
       "store_primary_category                           4760\n",
       "order_protocol                                    995\n",
       "total_items                                         0\n",
       "subtotal                                            0\n",
       "num_distinct_items                                  0\n",
       "min_item_price                                      0\n",
       "max_item_price                                      0\n",
       "total_onshift                                   16262\n",
       "total_busy                                      16262\n",
       "total_outstanding_orders                        16262\n",
       "estimated_order_place_duration                      0\n",
       "estimated_store_to_consumer_driving_duration      526\n",
       "dtype: int64"
      ]
     },
     "execution_count": 134,
     "metadata": {},
     "output_type": "execute_result"
    }
   ],
   "source": [
    "delivery_df.isnull().sum()"
   ]
  },
  {
   "cell_type": "code",
   "execution_count": 135,
   "id": "d48c0692",
   "metadata": {},
   "outputs": [
    {
     "data": {
      "text/html": [
       "<div>\n",
       "<style scoped>\n",
       "    .dataframe tbody tr th:only-of-type {\n",
       "        vertical-align: middle;\n",
       "    }\n",
       "\n",
       "    .dataframe tbody tr th {\n",
       "        vertical-align: top;\n",
       "    }\n",
       "\n",
       "    .dataframe thead th {\n",
       "        text-align: right;\n",
       "    }\n",
       "</style>\n",
       "<table border=\"1\" class=\"dataframe\">\n",
       "  <thead>\n",
       "    <tr style=\"text-align: right;\">\n",
       "      <th></th>\n",
       "      <th>market_id</th>\n",
       "      <th>store_id</th>\n",
       "      <th>order_protocol</th>\n",
       "      <th>total_items</th>\n",
       "      <th>subtotal</th>\n",
       "      <th>num_distinct_items</th>\n",
       "      <th>min_item_price</th>\n",
       "      <th>max_item_price</th>\n",
       "      <th>total_onshift</th>\n",
       "      <th>total_busy</th>\n",
       "      <th>total_outstanding_orders</th>\n",
       "      <th>estimated_order_place_duration</th>\n",
       "      <th>estimated_store_to_consumer_driving_duration</th>\n",
       "    </tr>\n",
       "  </thead>\n",
       "  <tbody>\n",
       "    <tr>\n",
       "      <th>count</th>\n",
       "      <td>196441.000000</td>\n",
       "      <td>197428.000000</td>\n",
       "      <td>196433.000000</td>\n",
       "      <td>197428.000000</td>\n",
       "      <td>197428.000000</td>\n",
       "      <td>197428.000000</td>\n",
       "      <td>197428.000000</td>\n",
       "      <td>197428.000000</td>\n",
       "      <td>181166.000000</td>\n",
       "      <td>181166.000000</td>\n",
       "      <td>181166.000000</td>\n",
       "      <td>197428.000000</td>\n",
       "      <td>196902.000000</td>\n",
       "    </tr>\n",
       "    <tr>\n",
       "      <th>mean</th>\n",
       "      <td>2.978706</td>\n",
       "      <td>3530.510272</td>\n",
       "      <td>2.882352</td>\n",
       "      <td>3.196391</td>\n",
       "      <td>2682.331402</td>\n",
       "      <td>2.670791</td>\n",
       "      <td>686.218470</td>\n",
       "      <td>1159.588630</td>\n",
       "      <td>44.808093</td>\n",
       "      <td>41.739747</td>\n",
       "      <td>58.050065</td>\n",
       "      <td>308.560179</td>\n",
       "      <td>545.358935</td>\n",
       "    </tr>\n",
       "    <tr>\n",
       "      <th>std</th>\n",
       "      <td>1.524867</td>\n",
       "      <td>2053.496711</td>\n",
       "      <td>1.503771</td>\n",
       "      <td>2.666546</td>\n",
       "      <td>1823.093688</td>\n",
       "      <td>1.630255</td>\n",
       "      <td>522.038648</td>\n",
       "      <td>558.411377</td>\n",
       "      <td>34.526783</td>\n",
       "      <td>32.145733</td>\n",
       "      <td>52.661830</td>\n",
       "      <td>90.139653</td>\n",
       "      <td>219.352902</td>\n",
       "    </tr>\n",
       "    <tr>\n",
       "      <th>min</th>\n",
       "      <td>1.000000</td>\n",
       "      <td>1.000000</td>\n",
       "      <td>1.000000</td>\n",
       "      <td>1.000000</td>\n",
       "      <td>0.000000</td>\n",
       "      <td>1.000000</td>\n",
       "      <td>-86.000000</td>\n",
       "      <td>0.000000</td>\n",
       "      <td>-4.000000</td>\n",
       "      <td>-5.000000</td>\n",
       "      <td>-6.000000</td>\n",
       "      <td>0.000000</td>\n",
       "      <td>0.000000</td>\n",
       "    </tr>\n",
       "    <tr>\n",
       "      <th>25%</th>\n",
       "      <td>2.000000</td>\n",
       "      <td>1686.000000</td>\n",
       "      <td>1.000000</td>\n",
       "      <td>2.000000</td>\n",
       "      <td>1400.000000</td>\n",
       "      <td>1.000000</td>\n",
       "      <td>299.000000</td>\n",
       "      <td>800.000000</td>\n",
       "      <td>17.000000</td>\n",
       "      <td>15.000000</td>\n",
       "      <td>17.000000</td>\n",
       "      <td>251.000000</td>\n",
       "      <td>382.000000</td>\n",
       "    </tr>\n",
       "    <tr>\n",
       "      <th>50%</th>\n",
       "      <td>3.000000</td>\n",
       "      <td>3592.000000</td>\n",
       "      <td>3.000000</td>\n",
       "      <td>3.000000</td>\n",
       "      <td>2200.000000</td>\n",
       "      <td>2.000000</td>\n",
       "      <td>595.000000</td>\n",
       "      <td>1095.000000</td>\n",
       "      <td>37.000000</td>\n",
       "      <td>34.000000</td>\n",
       "      <td>41.000000</td>\n",
       "      <td>251.000000</td>\n",
       "      <td>544.000000</td>\n",
       "    </tr>\n",
       "    <tr>\n",
       "      <th>75%</th>\n",
       "      <td>4.000000</td>\n",
       "      <td>5299.000000</td>\n",
       "      <td>4.000000</td>\n",
       "      <td>4.000000</td>\n",
       "      <td>3395.000000</td>\n",
       "      <td>3.000000</td>\n",
       "      <td>949.000000</td>\n",
       "      <td>1395.000000</td>\n",
       "      <td>65.000000</td>\n",
       "      <td>62.000000</td>\n",
       "      <td>85.000000</td>\n",
       "      <td>446.000000</td>\n",
       "      <td>702.000000</td>\n",
       "    </tr>\n",
       "    <tr>\n",
       "      <th>max</th>\n",
       "      <td>6.000000</td>\n",
       "      <td>6987.000000</td>\n",
       "      <td>7.000000</td>\n",
       "      <td>411.000000</td>\n",
       "      <td>27100.000000</td>\n",
       "      <td>20.000000</td>\n",
       "      <td>14700.000000</td>\n",
       "      <td>14700.000000</td>\n",
       "      <td>171.000000</td>\n",
       "      <td>154.000000</td>\n",
       "      <td>285.000000</td>\n",
       "      <td>2715.000000</td>\n",
       "      <td>2088.000000</td>\n",
       "    </tr>\n",
       "  </tbody>\n",
       "</table>\n",
       "</div>"
      ],
      "text/plain": [
       "           market_id       store_id  order_protocol    total_items  \\\n",
       "count  196441.000000  197428.000000   196433.000000  197428.000000   \n",
       "mean        2.978706    3530.510272        2.882352       3.196391   \n",
       "std         1.524867    2053.496711        1.503771       2.666546   \n",
       "min         1.000000       1.000000        1.000000       1.000000   \n",
       "25%         2.000000    1686.000000        1.000000       2.000000   \n",
       "50%         3.000000    3592.000000        3.000000       3.000000   \n",
       "75%         4.000000    5299.000000        4.000000       4.000000   \n",
       "max         6.000000    6987.000000        7.000000     411.000000   \n",
       "\n",
       "            subtotal  num_distinct_items  min_item_price  max_item_price  \\\n",
       "count  197428.000000       197428.000000   197428.000000   197428.000000   \n",
       "mean     2682.331402            2.670791      686.218470     1159.588630   \n",
       "std      1823.093688            1.630255      522.038648      558.411377   \n",
       "min         0.000000            1.000000      -86.000000        0.000000   \n",
       "25%      1400.000000            1.000000      299.000000      800.000000   \n",
       "50%      2200.000000            2.000000      595.000000     1095.000000   \n",
       "75%      3395.000000            3.000000      949.000000     1395.000000   \n",
       "max     27100.000000           20.000000    14700.000000    14700.000000   \n",
       "\n",
       "       total_onshift     total_busy  total_outstanding_orders  \\\n",
       "count  181166.000000  181166.000000             181166.000000   \n",
       "mean       44.808093      41.739747                 58.050065   \n",
       "std        34.526783      32.145733                 52.661830   \n",
       "min        -4.000000      -5.000000                 -6.000000   \n",
       "25%        17.000000      15.000000                 17.000000   \n",
       "50%        37.000000      34.000000                 41.000000   \n",
       "75%        65.000000      62.000000                 85.000000   \n",
       "max       171.000000     154.000000                285.000000   \n",
       "\n",
       "       estimated_order_place_duration  \\\n",
       "count                   197428.000000   \n",
       "mean                       308.560179   \n",
       "std                         90.139653   \n",
       "min                          0.000000   \n",
       "25%                        251.000000   \n",
       "50%                        251.000000   \n",
       "75%                        446.000000   \n",
       "max                       2715.000000   \n",
       "\n",
       "       estimated_store_to_consumer_driving_duration  \n",
       "count                                 196902.000000  \n",
       "mean                                     545.358935  \n",
       "std                                      219.352902  \n",
       "min                                        0.000000  \n",
       "25%                                      382.000000  \n",
       "50%                                      544.000000  \n",
       "75%                                      702.000000  \n",
       "max                                     2088.000000  "
      ]
     },
     "execution_count": 135,
     "metadata": {},
     "output_type": "execute_result"
    }
   ],
   "source": [
    "delivery_df.describe()"
   ]
  },
  {
   "cell_type": "markdown",
   "id": "02538a32",
   "metadata": {},
   "source": [
    "## 2. EDA & FE"
   ]
  },
  {
   "cell_type": "markdown",
   "id": "324ced2e",
   "metadata": {},
   "source": [
    "### actual_delivery_time"
   ]
  },
  {
   "cell_type": "code",
   "execution_count": 136,
   "id": "6be0ab35",
   "metadata": {},
   "outputs": [
    {
     "data": {
      "text/plain": [
       "0"
      ]
     },
     "execution_count": 136,
     "metadata": {},
     "output_type": "execute_result"
    }
   ],
   "source": [
    "time_nan = delivery_df[delivery_df['actual_delivery_time'].isnull()].index\n",
    "delivery_df.drop(time_nan, axis=0, inplace=True)\n",
    "delivery_df['actual_delivery_time'].isnull().sum()"
   ]
  },
  {
   "cell_type": "markdown",
   "id": "ea5f855b",
   "metadata": {},
   "source": [
    "actual_delivery_time이 NULL값을 가지게 되면 target label이 없는것이나 다름이 없으므로 해당 데이터를 drop"
   ]
  },
  {
   "cell_type": "code",
   "execution_count": 137,
   "id": "900b73ac",
   "metadata": {},
   "outputs": [],
   "source": [
    "# datetime 형식으로 변경\n",
    "delivery_df['actual_delivery_time'] = pd.to_datetime(delivery_df['actual_delivery_time'])"
   ]
  },
  {
   "cell_type": "markdown",
   "id": "9d0c32f5",
   "metadata": {},
   "source": [
    "### created_at"
   ]
  },
  {
   "cell_type": "code",
   "execution_count": 138,
   "id": "92877be9",
   "metadata": {},
   "outputs": [],
   "source": [
    "# datetime 형식으로 변경\n",
    "delivery_df['created_at'] = pd.to_datetime(delivery_df['created_at'])"
   ]
  },
  {
   "cell_type": "markdown",
   "id": "505204a1",
   "metadata": {},
   "source": [
    "### delivery_time(target label)"
   ]
  },
  {
   "cell_type": "code",
   "execution_count": 139,
   "id": "e7ad79ae",
   "metadata": {},
   "outputs": [
    {
     "data": {
      "text/plain": [
       "0        0 days 01:02:59\n",
       "1        0 days 01:07:04\n",
       "2        0 days 00:29:41\n",
       "3        0 days 00:51:15\n",
       "4        0 days 00:39:50\n",
       "               ...      \n",
       "197423   0 days 01:05:07\n",
       "197424   0 days 00:56:23\n",
       "197425   0 days 00:50:08\n",
       "197426   0 days 01:05:07\n",
       "197427   0 days 00:37:08\n",
       "Name: delivery_time, Length: 197421, dtype: timedelta64[ns]"
      ]
     },
     "execution_count": 139,
     "metadata": {},
     "output_type": "execute_result"
    }
   ],
   "source": [
    "delivery_df['delivery_time'] = delivery_df['actual_delivery_time'] - delivery_df['created_at']\n",
    "delivery_df['delivery_time']"
   ]
  },
  {
   "cell_type": "code",
   "execution_count": 140,
   "id": "a9ad65ed",
   "metadata": {},
   "outputs": [
    {
     "data": {
      "text/plain": [
       "0     197418\n",
       "98         1\n",
       "3          1\n",
       "4          1\n",
       "Name: delivery_time, dtype: int64"
      ]
     },
     "execution_count": 140,
     "metadata": {},
     "output_type": "execute_result"
    }
   ],
   "source": [
    "delivery_df['delivery_time'].dt.days.value_counts()"
   ]
  },
  {
   "cell_type": "code",
   "execution_count": 141,
   "id": "98687c7d",
   "metadata": {},
   "outputs": [
    {
     "data": {
      "text/plain": [
       "Int64Index([2690, 27189, 185550], dtype='int64')"
      ]
     },
     "execution_count": 141,
     "metadata": {},
     "output_type": "execute_result"
    }
   ],
   "source": [
    "# 이상치라고 판단되는 데이터를 제거\n",
    "\n",
    "outlier_idx = delivery_df[\n",
    "    (delivery_df['delivery_time'].dt.days==98) | \n",
    "    (delivery_df['delivery_time'].dt.days==3)  |\n",
    "    (delivery_df['delivery_time'].dt.days==4)\n",
    "].index\n",
    "outlier_idx"
   ]
  },
  {
   "cell_type": "code",
   "execution_count": 142,
   "id": "71d80efe",
   "metadata": {},
   "outputs": [
    {
     "data": {
      "text/plain": [
       "0    197418\n",
       "Name: delivery_time, dtype: int64"
      ]
     },
     "execution_count": 142,
     "metadata": {},
     "output_type": "execute_result"
    }
   ],
   "source": [
    "delivery_df.drop(outlier_idx, axis=0, inplace=True)\n",
    "delivery_df['delivery_time'].dt.days.value_counts()"
   ]
  },
  {
   "cell_type": "code",
   "execution_count": 143,
   "id": "6e7ed684",
   "metadata": {},
   "outputs": [
    {
     "data": {
      "text/plain": [
       "0         3779\n",
       "1         4024\n",
       "2         1781\n",
       "3         3075\n",
       "4         2390\n",
       "          ... \n",
       "197423    3907\n",
       "197424    3383\n",
       "197425    3008\n",
       "197426    3907\n",
       "197427    2228\n",
       "Name: delivery_time, Length: 197418, dtype: int64"
      ]
     },
     "execution_count": 143,
     "metadata": {},
     "output_type": "execute_result"
    }
   ],
   "source": [
    "# target label을 초단위로 변경\n",
    "def time_to_second(delivery_time):\n",
    "    delivery_time = str(delivery_time)\n",
    "    time = delivery_time.split(':')\n",
    "    time[0] = time[0].split()[-1]\n",
    "    result = int(time[0])*3600 + int(time[1])*60 + int(time[2])\n",
    "    return result\n",
    "\n",
    "delivery_df['delivery_time'] = delivery_df['delivery_time'].apply(time_to_second)\n",
    "delivery_df['delivery_time']"
   ]
  },
  {
   "cell_type": "code",
   "execution_count": 144,
   "id": "da0d50ff",
   "metadata": {},
   "outputs": [
    {
     "data": {
      "image/png": "[encoded data removed]",
      "text/plain": [
       "<Figure size 432x288 with 1 Axes>"
      ]
     },
     "metadata": {
      "needs_background": "light"
     },
     "output_type": "display_data"
    }
   ],
   "source": [
    "# target label 값 분포 확인\n",
    "sns.set_palette(\"husl\", 6)\n",
    "sns.kdeplot(x='delivery_time', data=delivery_df, fill=True)\n",
    "plt.show()"
   ]
  },
  {
   "cell_type": "markdown",
   "id": "5cb3e1d1",
   "metadata": {},
   "source": [
    "그래프가 왼쪽으로 조금 치우쳐 있으므로 로그 변환을 수행"
   ]
  },
  {
   "cell_type": "code",
   "execution_count": 145,
   "id": "880dcae4",
   "metadata": {},
   "outputs": [
    {
     "data": {
      "image/png": "[encoded data removed]",
      "text/plain": [
       "<Figure size 432x288 with 1 Axes>"
      ]
     },
     "metadata": {
      "needs_background": "light"
     },
     "output_type": "display_data"
    }
   ],
   "source": [
    "a = np.log(delivery_df['delivery_time'])\n",
    "sns.kdeplot(a, fill=True)\n",
    "plt.show()"
   ]
  },
  {
   "cell_type": "markdown",
   "id": "7727c5cd",
   "metadata": {},
   "source": [
    "### market_id"
   ]
  },
  {
   "cell_type": "code",
   "execution_count": 146,
   "id": "38fe0aad",
   "metadata": {},
   "outputs": [
    {
     "data": {
      "text/plain": [
       "987"
      ]
     },
     "execution_count": 146,
     "metadata": {},
     "output_type": "execute_result"
    }
   ],
   "source": [
    "delivery_df['market_id'].isnull().sum()"
   ]
  },
  {
   "cell_type": "markdown",
   "id": "53b8d433",
   "metadata": {},
   "source": [
    "987개의 NaN값을 확인할 수 있다."
   ]
  },
  {
   "cell_type": "markdown",
   "id": "7bab8129",
   "metadata": {},
   "source": [
    "**`store_id`로 `market_id`를 유추하는것이 가능하다.**"
   ]
  },
  {
   "cell_type": "code",
   "execution_count": 147,
   "id": "c07e41d1",
   "metadata": {},
   "outputs": [],
   "source": [
    "from collections import defaultdict\n",
    "store_dic = defaultdict(set)\n",
    "\n",
    "# store_id를 market_id 별로 딕셔너리에 분류\n",
    "def cat_store_id(market, store):\n",
    "    if np.isnan(market):\n",
    "         return market\n",
    "    store_dic[market].add(store)\n",
    "    return market"
   ]
  },
  {
   "cell_type": "code",
   "execution_count": 148,
   "id": "2af43d46",
   "metadata": {},
   "outputs": [],
   "source": [
    "delivery_df['market_id'] =  delivery_df.apply(lambda x: cat_store_id(x['market_id'], x['store_id']), axis=1)"
   ]
  },
  {
   "cell_type": "code",
   "execution_count": 149,
   "id": "0706ef9f",
   "metadata": {},
   "outputs": [
    {
     "name": "stdout",
     "output_type": "stream",
     "text": [
      "2925\n",
      "1939\n",
      "2564\n",
      "1818\n",
      "1408\n",
      "1310\n"
     ]
    }
   ],
   "source": [
    "market_col = [1.0, 2.0, 3.0, 4.0, 5.0, 6.0]\n",
    "for market in market_col:\n",
    "    print(len(store_dic[market]))"
   ]
  },
  {
   "cell_type": "code",
   "execution_count": 150,
   "id": "6130ac8c",
   "metadata": {},
   "outputs": [
    {
     "data": {
      "text/plain": [
       "6865    937\n",
       "1311    863\n",
       "314     814\n",
       "1686    765\n",
       "3937    721\n",
       "       ... \n",
       "1258      1\n",
       "974       1\n",
       "4260      1\n",
       "6426      1\n",
       "1845      1\n",
       "Name: store_id, Length: 6743, dtype: int64"
      ]
     },
     "execution_count": 150,
     "metadata": {},
     "output_type": "execute_result"
    }
   ],
   "source": [
    "delivery_df['store_id'].value_counts()"
   ]
  },
  {
   "cell_type": "code",
   "execution_count": 151,
   "id": "88f2c2eb",
   "metadata": {},
   "outputs": [],
   "source": [
    "store_dic[1.0] -= (store_dic[2.0] | store_dic[3.0] | store_dic[4.0] | store_dic[5.0] | store_dic[6.0])\n",
    "store_dic[2.0] -= (store_dic[1.0] | store_dic[3.0] | store_dic[4.0] | store_dic[5.0] | store_dic[6.0])\n",
    "store_dic[3.0] -= (store_dic[1.0] | store_dic[2.0] | store_dic[4.0] | store_dic[5.0] | store_dic[6.0])\n",
    "store_dic[4.0] -= (store_dic[1.0] | store_dic[2.0] | store_dic[3.0] | store_dic[5.0] | store_dic[6.0])\n",
    "store_dic[5.0] -= (store_dic[1.0] | store_dic[2.0] | store_dic[3.0] | store_dic[4.0] | store_dic[6.0])\n",
    "store_dic[6.0] -= (store_dic[1.0] | store_dic[2.0] | store_dic[3.0] | store_dic[4.0] | store_dic[5.0])"
   ]
  },
  {
   "cell_type": "code",
   "execution_count": 152,
   "id": "f0b6e375",
   "metadata": {},
   "outputs": [
    {
     "name": "stdout",
     "output_type": "stream",
     "text": [
      "1243\n",
      "415\n",
      "1644\n",
      "1003\n",
      "1125\n",
      "1310\n"
     ]
    }
   ],
   "source": [
    "market_col = [1.0, 2.0, 3.0, 4.0, 5.0, 6.0]\n",
    "for market in market_col:\n",
    "    print(len(store_dic[market]))"
   ]
  },
  {
   "cell_type": "code",
   "execution_count": 153,
   "id": "51e378e2",
   "metadata": {},
   "outputs": [],
   "source": [
    "def fillna(market, store):\n",
    "    if np.isnan(market):\n",
    "        market_col = [1.0, 2.0, 3.0, 4.0, 5.0, 6.0]\n",
    "        for i in market_col:\n",
    "            if store in store_dic[i]:\n",
    "                return i\n",
    "        return market\n",
    "    return market"
   ]
  },
  {
   "cell_type": "code",
   "execution_count": 154,
   "id": "0265124b",
   "metadata": {},
   "outputs": [],
   "source": [
    "delivery_df['market_id'] = delivery_df.apply(lambda x: fillna(x['market_id'], x['store_id']), axis=1)"
   ]
  },
  {
   "cell_type": "code",
   "execution_count": 155,
   "id": "5f7ec4b5",
   "metadata": {},
   "outputs": [
    {
     "data": {
      "text/plain": [
       "3"
      ]
     },
     "execution_count": 155,
     "metadata": {},
     "output_type": "execute_result"
    }
   ],
   "source": [
    "delivery_df['market_id'].isnull().sum()"
   ]
  },
  {
   "cell_type": "markdown",
   "id": "f973f778",
   "metadata": {},
   "source": [
    "987개의 NaN값을 3개를 제외하고 전부 채워주었다."
   ]
  },
  {
   "cell_type": "code",
   "execution_count": 156,
   "id": "fd2d651e",
   "metadata": {},
   "outputs": [
    {
     "data": {
      "text/html": [
       "<div>\n",
       "<style scoped>\n",
       "    .dataframe tbody tr th:only-of-type {\n",
       "        vertical-align: middle;\n",
       "    }\n",
       "\n",
       "    .dataframe tbody tr th {\n",
       "        vertical-align: top;\n",
       "    }\n",
       "\n",
       "    .dataframe thead th {\n",
       "        text-align: right;\n",
       "    }\n",
       "</style>\n",
       "<table border=\"1\" class=\"dataframe\">\n",
       "  <thead>\n",
       "    <tr style=\"text-align: right;\">\n",
       "      <th></th>\n",
       "      <th>market_id</th>\n",
       "      <th>created_at</th>\n",
       "      <th>actual_delivery_time</th>\n",
       "      <th>store_id</th>\n",
       "      <th>store_primary_category</th>\n",
       "      <th>order_protocol</th>\n",
       "      <th>total_items</th>\n",
       "      <th>subtotal</th>\n",
       "      <th>num_distinct_items</th>\n",
       "      <th>min_item_price</th>\n",
       "      <th>max_item_price</th>\n",
       "      <th>total_onshift</th>\n",
       "      <th>total_busy</th>\n",
       "      <th>total_outstanding_orders</th>\n",
       "      <th>estimated_order_place_duration</th>\n",
       "      <th>estimated_store_to_consumer_driving_duration</th>\n",
       "      <th>delivery_time</th>\n",
       "    </tr>\n",
       "  </thead>\n",
       "  <tbody>\n",
       "    <tr>\n",
       "      <th>120923</th>\n",
       "      <td>NaN</td>\n",
       "      <td>2015-02-08 03:39:46</td>\n",
       "      <td>2015-02-08 04:25:31</td>\n",
       "      <td>3258</td>\n",
       "      <td>NaN</td>\n",
       "      <td>NaN</td>\n",
       "      <td>3</td>\n",
       "      <td>3470</td>\n",
       "      <td>3</td>\n",
       "      <td>725</td>\n",
       "      <td>1795</td>\n",
       "      <td>NaN</td>\n",
       "      <td>NaN</td>\n",
       "      <td>NaN</td>\n",
       "      <td>446</td>\n",
       "      <td>395.0</td>\n",
       "      <td>2745</td>\n",
       "    </tr>\n",
       "    <tr>\n",
       "      <th>152850</th>\n",
       "      <td>NaN</td>\n",
       "      <td>2015-02-08 23:43:19</td>\n",
       "      <td>2015-02-09 00:33:20</td>\n",
       "      <td>4122</td>\n",
       "      <td>pizza</td>\n",
       "      <td>NaN</td>\n",
       "      <td>2</td>\n",
       "      <td>3400</td>\n",
       "      <td>2</td>\n",
       "      <td>1000</td>\n",
       "      <td>1400</td>\n",
       "      <td>3.0</td>\n",
       "      <td>3.0</td>\n",
       "      <td>3.0</td>\n",
       "      <td>446</td>\n",
       "      <td>586.0</td>\n",
       "      <td>3001</td>\n",
       "    </tr>\n",
       "    <tr>\n",
       "      <th>186154</th>\n",
       "      <td>NaN</td>\n",
       "      <td>2015-02-15 23:53:45</td>\n",
       "      <td>2015-02-16 00:25:42</td>\n",
       "      <td>5774</td>\n",
       "      <td>sandwich</td>\n",
       "      <td>NaN</td>\n",
       "      <td>3</td>\n",
       "      <td>1550</td>\n",
       "      <td>2</td>\n",
       "      <td>250</td>\n",
       "      <td>900</td>\n",
       "      <td>14.0</td>\n",
       "      <td>14.0</td>\n",
       "      <td>18.0</td>\n",
       "      <td>446</td>\n",
       "      <td>261.0</td>\n",
       "      <td>1917</td>\n",
       "    </tr>\n",
       "  </tbody>\n",
       "</table>\n",
       "</div>"
      ],
      "text/plain": [
       "        market_id          created_at actual_delivery_time  store_id  \\\n",
       "120923        NaN 2015-02-08 03:39:46  2015-02-08 04:25:31      3258   \n",
       "152850        NaN 2015-02-08 23:43:19  2015-02-09 00:33:20      4122   \n",
       "186154        NaN 2015-02-15 23:53:45  2015-02-16 00:25:42      5774   \n",
       "\n",
       "       store_primary_category  order_protocol  total_items  subtotal  \\\n",
       "120923                    NaN             NaN            3      3470   \n",
       "152850                  pizza             NaN            2      3400   \n",
       "186154               sandwich             NaN            3      1550   \n",
       "\n",
       "        num_distinct_items  min_item_price  max_item_price  total_onshift  \\\n",
       "120923                   3             725            1795            NaN   \n",
       "152850                   2            1000            1400            3.0   \n",
       "186154                   2             250             900           14.0   \n",
       "\n",
       "        total_busy  total_outstanding_orders  estimated_order_place_duration  \\\n",
       "120923         NaN                       NaN                             446   \n",
       "152850         3.0                       3.0                             446   \n",
       "186154        14.0                      18.0                             446   \n",
       "\n",
       "        estimated_store_to_consumer_driving_duration  delivery_time  \n",
       "120923                                         395.0           2745  \n",
       "152850                                         586.0           3001  \n",
       "186154                                         261.0           1917  "
      ]
     },
     "execution_count": 156,
     "metadata": {},
     "output_type": "execute_result"
    }
   ],
   "source": [
    "delivery_df[delivery_df['market_id'].isnull()]"
   ]
  },
  {
   "cell_type": "code",
   "execution_count": 157,
   "id": "3905c4fd",
   "metadata": {},
   "outputs": [
    {
     "data": {
      "text/html": [
       "<div>\n",
       "<style scoped>\n",
       "    .dataframe tbody tr th:only-of-type {\n",
       "        vertical-align: middle;\n",
       "    }\n",
       "\n",
       "    .dataframe tbody tr th {\n",
       "        vertical-align: top;\n",
       "    }\n",
       "\n",
       "    .dataframe thead th {\n",
       "        text-align: right;\n",
       "    }\n",
       "</style>\n",
       "<table border=\"1\" class=\"dataframe\">\n",
       "  <thead>\n",
       "    <tr style=\"text-align: right;\">\n",
       "      <th></th>\n",
       "      <th>market_id</th>\n",
       "      <th>created_at</th>\n",
       "      <th>actual_delivery_time</th>\n",
       "      <th>store_id</th>\n",
       "      <th>store_primary_category</th>\n",
       "      <th>order_protocol</th>\n",
       "      <th>total_items</th>\n",
       "      <th>subtotal</th>\n",
       "      <th>num_distinct_items</th>\n",
       "      <th>min_item_price</th>\n",
       "      <th>max_item_price</th>\n",
       "      <th>total_onshift</th>\n",
       "      <th>total_busy</th>\n",
       "      <th>total_outstanding_orders</th>\n",
       "      <th>estimated_order_place_duration</th>\n",
       "      <th>estimated_store_to_consumer_driving_duration</th>\n",
       "      <th>delivery_time</th>\n",
       "    </tr>\n",
       "  </thead>\n",
       "  <tbody>\n",
       "    <tr>\n",
       "      <th>120923</th>\n",
       "      <td>NaN</td>\n",
       "      <td>2015-02-08 03:39:46</td>\n",
       "      <td>2015-02-08 04:25:31</td>\n",
       "      <td>3258</td>\n",
       "      <td>NaN</td>\n",
       "      <td>NaN</td>\n",
       "      <td>3</td>\n",
       "      <td>3470</td>\n",
       "      <td>3</td>\n",
       "      <td>725</td>\n",
       "      <td>1795</td>\n",
       "      <td>NaN</td>\n",
       "      <td>NaN</td>\n",
       "      <td>NaN</td>\n",
       "      <td>446</td>\n",
       "      <td>395.0</td>\n",
       "      <td>2745</td>\n",
       "    </tr>\n",
       "    <tr>\n",
       "      <th>152850</th>\n",
       "      <td>NaN</td>\n",
       "      <td>2015-02-08 23:43:19</td>\n",
       "      <td>2015-02-09 00:33:20</td>\n",
       "      <td>4122</td>\n",
       "      <td>pizza</td>\n",
       "      <td>NaN</td>\n",
       "      <td>2</td>\n",
       "      <td>3400</td>\n",
       "      <td>2</td>\n",
       "      <td>1000</td>\n",
       "      <td>1400</td>\n",
       "      <td>3.0</td>\n",
       "      <td>3.0</td>\n",
       "      <td>3.0</td>\n",
       "      <td>446</td>\n",
       "      <td>586.0</td>\n",
       "      <td>3001</td>\n",
       "    </tr>\n",
       "    <tr>\n",
       "      <th>186154</th>\n",
       "      <td>NaN</td>\n",
       "      <td>2015-02-15 23:53:45</td>\n",
       "      <td>2015-02-16 00:25:42</td>\n",
       "      <td>5774</td>\n",
       "      <td>sandwich</td>\n",
       "      <td>NaN</td>\n",
       "      <td>3</td>\n",
       "      <td>1550</td>\n",
       "      <td>2</td>\n",
       "      <td>250</td>\n",
       "      <td>900</td>\n",
       "      <td>14.0</td>\n",
       "      <td>14.0</td>\n",
       "      <td>18.0</td>\n",
       "      <td>446</td>\n",
       "      <td>261.0</td>\n",
       "      <td>1917</td>\n",
       "    </tr>\n",
       "  </tbody>\n",
       "</table>\n",
       "</div>"
      ],
      "text/plain": [
       "        market_id          created_at actual_delivery_time  store_id  \\\n",
       "120923        NaN 2015-02-08 03:39:46  2015-02-08 04:25:31      3258   \n",
       "152850        NaN 2015-02-08 23:43:19  2015-02-09 00:33:20      4122   \n",
       "186154        NaN 2015-02-15 23:53:45  2015-02-16 00:25:42      5774   \n",
       "\n",
       "       store_primary_category  order_protocol  total_items  subtotal  \\\n",
       "120923                    NaN             NaN            3      3470   \n",
       "152850                  pizza             NaN            2      3400   \n",
       "186154               sandwich             NaN            3      1550   \n",
       "\n",
       "        num_distinct_items  min_item_price  max_item_price  total_onshift  \\\n",
       "120923                   3             725            1795            NaN   \n",
       "152850                   2            1000            1400            3.0   \n",
       "186154                   2             250             900           14.0   \n",
       "\n",
       "        total_busy  total_outstanding_orders  estimated_order_place_duration  \\\n",
       "120923         NaN                       NaN                             446   \n",
       "152850         3.0                       3.0                             446   \n",
       "186154        14.0                      18.0                             446   \n",
       "\n",
       "        estimated_store_to_consumer_driving_duration  delivery_time  \n",
       "120923                                         395.0           2745  \n",
       "152850                                         586.0           3001  \n",
       "186154                                         261.0           1917  "
      ]
     },
     "execution_count": 157,
     "metadata": {},
     "output_type": "execute_result"
    }
   ],
   "source": [
    "delivery_df[(delivery_df['store_id']==3258) | (delivery_df['store_id']==4122) | (delivery_df['store_id']==5774)]"
   ]
  },
  {
   "cell_type": "code",
   "execution_count": 158,
   "id": "9de32bb3",
   "metadata": {},
   "outputs": [],
   "source": [
    "market_id_nan = delivery_df[delivery_df['market_id'].isnull()].index\n",
    "delivery_df.drop(market_id_nan, axis=0, inplace=True)"
   ]
  },
  {
   "cell_type": "code",
   "execution_count": 159,
   "id": "ceb3e7e1",
   "metadata": {},
   "outputs": [
    {
     "data": {
      "text/plain": [
       "0"
      ]
     },
     "execution_count": 159,
     "metadata": {},
     "output_type": "execute_result"
    }
   ],
   "source": [
    "delivery_df['market_id'].isnull().sum()"
   ]
  },
  {
   "cell_type": "markdown",
   "id": "1a912ac3",
   "metadata": {},
   "source": [
    "### store_primary_category"
   ]
  },
  {
   "cell_type": "code",
   "execution_count": 160,
   "id": "949de01e",
   "metadata": {},
   "outputs": [
    {
     "data": {
      "text/plain": [
       "4759"
      ]
     },
     "execution_count": 160,
     "metadata": {},
     "output_type": "execute_result"
    }
   ],
   "source": [
    "delivery_df['store_primary_category'].isnull().sum()"
   ]
  },
  {
   "cell_type": "code",
   "execution_count": 161,
   "id": "431de921",
   "metadata": {},
   "outputs": [],
   "source": [
    "store_category_dic = defaultdict(list)\n",
    "\n",
    "def cat_store(store_id, store_primary_category):\n",
    "    if type(store_primary_category) == float:\n",
    "        return store_primary_category\n",
    "    else:\n",
    "        store_category_dic[store_id].append(store_primary_category)\n",
    "        return store_primary_category"
   ]
  },
  {
   "cell_type": "code",
   "execution_count": 162,
   "id": "e42e1635",
   "metadata": {},
   "outputs": [],
   "source": [
    "delivery_df['store_primary_category'] = delivery_df.apply(lambda x: cat_store(x['store_id'], x['store_primary_category']), axis=1)"
   ]
  },
  {
   "cell_type": "code",
   "execution_count": 163,
   "id": "e974ef93",
   "metadata": {},
   "outputs": [],
   "source": [
    "for store_id in store_category_dic:\n",
    "    temp = defaultdict(int)\n",
    "    maximum = ['default',0]\n",
    "    for category in store_category_dic[store_id]:\n",
    "        temp[category]+=1\n",
    "        if temp[category] > maximum[1]:\n",
    "            maximum = [category, temp[category]]\n",
    "    store_category_dic[store_id] = maximum[0]"
   ]
  },
  {
   "cell_type": "code",
   "execution_count": 164,
   "id": "5913e809",
   "metadata": {},
   "outputs": [],
   "source": [
    "def fillna_store_primary_category(store_id, store_primary_category):\n",
    "    if type(store_primary_category) == float:\n",
    "        return store_category_dic[store_id]\n",
    "    return store_primary_category"
   ]
  },
  {
   "cell_type": "code",
   "execution_count": 165,
   "id": "9814a672",
   "metadata": {},
   "outputs": [],
   "source": [
    "delivery_df['store_primary_category'] = delivery_df.apply(lambda x: fillna_store_primary_category(x['store_id'], x['store_primary_category']), axis=1)"
   ]
  },
  {
   "cell_type": "code",
   "execution_count": 166,
   "id": "d6774f1c",
   "metadata": {},
   "outputs": [
    {
     "data": {
      "text/plain": [
       "0"
      ]
     },
     "execution_count": 166,
     "metadata": {},
     "output_type": "execute_result"
    }
   ],
   "source": [
    "delivery_df['store_primary_category'].isnull().sum()"
   ]
  },
  {
   "cell_type": "markdown",
   "id": "c89d475b",
   "metadata": {},
   "source": [
    "### order protocol"
   ]
  },
  {
   "cell_type": "code",
   "execution_count": 167,
   "id": "57777a75",
   "metadata": {},
   "outputs": [
    {
     "data": {
      "text/plain": [
       "992"
      ]
     },
     "execution_count": 167,
     "metadata": {},
     "output_type": "execute_result"
    }
   ],
   "source": [
    "delivery_df['order_protocol'].isnull().sum()"
   ]
  },
  {
   "cell_type": "code",
   "execution_count": 168,
   "id": "fb1b28a4",
   "metadata": {},
   "outputs": [
    {
     "data": {
      "text/plain": [
       "1.0    54722\n",
       "3.0    53196\n",
       "5.0    44288\n",
       "2.0    24051\n",
       "4.0    19353\n",
       "6.0      794\n",
       "7.0       19\n",
       "Name: order_protocol, dtype: int64"
      ]
     },
     "execution_count": 168,
     "metadata": {},
     "output_type": "execute_result"
    }
   ],
   "source": [
    "delivery_df['order_protocol'].value_counts()"
   ]
  },
  {
   "cell_type": "code",
   "execution_count": 169,
   "id": "d4aa6b8b",
   "metadata": {},
   "outputs": [],
   "source": [
    "def fillna_order_protocol(store_id, order_protocol):\n",
    "    if np.isnan(order_protocol):\n",
    "        return delivery_df[delivery_df['store_id'] == store_id]['order_protocol'].value_counts().sort_values(ascending=False).index[0]\n",
    "    else:\n",
    "        return order_protocol"
   ]
  },
  {
   "cell_type": "code",
   "execution_count": 170,
   "id": "7aa72a2a",
   "metadata": {},
   "outputs": [],
   "source": [
    "delivery_df['order_protocol'] = delivery_df.apply(lambda x: fillna_order_protocol(x['store_id'], x['order_protocol']), axis=1)"
   ]
  },
  {
   "cell_type": "code",
   "execution_count": 171,
   "id": "7a4072d7",
   "metadata": {},
   "outputs": [
    {
     "data": {
      "text/plain": [
       "0"
      ]
     },
     "execution_count": 171,
     "metadata": {},
     "output_type": "execute_result"
    }
   ],
   "source": [
    "delivery_df['order_protocol'].isnull().sum()"
   ]
  },
  {
   "cell_type": "markdown",
   "id": "2262e8a7",
   "metadata": {},
   "source": [
    "### total_items"
   ]
  },
  {
   "cell_type": "code",
   "execution_count": 176,
   "id": "64a94f24",
   "metadata": {},
   "outputs": [
    {
     "data": {
      "text/plain": [
       "<AxesSubplot:xlabel='total_items', ylabel='Density'>"
      ]
     },
     "execution_count": 176,
     "metadata": {},
     "output_type": "execute_result"
    },
    {
     "data": {
      "image/png": "[encoded data removed]",
      "text/plain": [
       "<Figure size 432x288 with 1 Axes>"
      ]
     },
     "metadata": {
      "needs_background": "light"
     },
     "output_type": "display_data"
    }
   ],
   "source": [
    "sns.kdeplot(x='total_items', data=delivery_df, fill=True)"
   ]
  },
  {
   "cell_type": "code",
   "execution_count": 177,
   "id": "4902f41b",
   "metadata": {},
   "outputs": [
    {
     "data": {
      "text/plain": [
       "count    197415.000000\n",
       "mean          3.196383\n",
       "std           2.666585\n",
       "min           1.000000\n",
       "25%           2.000000\n",
       "50%           3.000000\n",
       "75%           4.000000\n",
       "max         411.000000\n",
       "Name: total_items, dtype: float64"
      ]
     },
     "execution_count": 177,
     "metadata": {},
     "output_type": "execute_result"
    }
   ],
   "source": [
    "delivery_df['total_items'].describe()"
   ]
  },
  {
   "cell_type": "code",
   "execution_count": 178,
   "id": "93198a43",
   "metadata": {},
   "outputs": [
    {
     "data": {
      "text/plain": [
       "<AxesSubplot:xlabel='total_items', ylabel='subtotal'>"
      ]
     },
     "execution_count": 178,
     "metadata": {},
     "output_type": "execute_result"
    },
    {
     "data": {
      "image/png": "[encoded data removed]",
      "text/plain": [
       "<Figure size 432x288 with 1 Axes>"
      ]
     },
     "metadata": {
      "needs_background": "light"
     },
     "output_type": "display_data"
    }
   ],
   "source": [
    "sns.scatterplot(x='total_items',y='subtotal',data=delivery_df)"
   ]
  },
  {
   "cell_type": "markdown",
   "id": "6541591c",
   "metadata": {},
   "source": [
    "이상치라고 판단되는 값을 제거한다."
   ]
  },
  {
   "cell_type": "code",
   "execution_count": 179,
   "id": "4e768807",
   "metadata": {},
   "outputs": [],
   "source": [
    "outlier_idx = delivery_df[delivery_df['total_items'] == 411].index"
   ]
  },
  {
   "cell_type": "code",
   "execution_count": 180,
   "id": "99ee0c24",
   "metadata": {},
   "outputs": [],
   "source": [
    "delivery_df.drop(outlier_idx, axis=0, inplace=True)"
   ]
  },
  {
   "cell_type": "code",
   "execution_count": 181,
   "id": "92f60e61",
   "metadata": {},
   "outputs": [
    {
     "data": {
      "text/plain": [
       "<AxesSubplot:xlabel='total_items', ylabel='Density'>"
      ]
     },
     "execution_count": 181,
     "metadata": {},
     "output_type": "execute_result"
    },
    {
     "data": {
      "image/png": "[encoded data removed]",
      "text/plain": [
       "<Figure size 432x288 with 1 Axes>"
      ]
     },
     "metadata": {
      "needs_background": "light"
     },
     "output_type": "display_data"
    }
   ],
   "source": [
    "sns.kdeplot(x='total_items', data=delivery_df, fill=True)"
   ]
  },
  {
   "cell_type": "markdown",
   "id": "0e8867c6",
   "metadata": {},
   "source": [
    "### subtotal"
   ]
  },
  {
   "cell_type": "code",
   "execution_count": 185,
   "id": "d243b231",
   "metadata": {},
   "outputs": [
    {
     "data": {
      "text/plain": [
       "<AxesSubplot:xlabel='subtotal', ylabel='Density'>"
      ]
     },
     "execution_count": 185,
     "metadata": {},
     "output_type": "execute_result"
    },
    {
     "data": {
      "image/png": "[encoded data removed]",
      "text/plain": [
       "<Figure size 432x288 with 1 Axes>"
      ]
     },
     "metadata": {
      "needs_background": "light"
     },
     "output_type": "display_data"
    }
   ],
   "source": [
    "sns.kdeplot(x='subtotal', data=delivery_df, fill=True)"
   ]
  },
  {
   "cell_type": "markdown",
   "id": "6b746189",
   "metadata": {},
   "source": [
    "### num_distinct_items"
   ]
  },
  {
   "cell_type": "code",
   "execution_count": 189,
   "id": "c7d995dd",
   "metadata": {},
   "outputs": [
    {
     "data": {
      "text/plain": [
       "<AxesSubplot:>"
      ]
     },
     "execution_count": 189,
     "metadata": {},
     "output_type": "execute_result"
    },
    {
     "data": {
      "image/png": "[encoded data removed]",
      "text/plain": [
       "<Figure size 432x288 with 1 Axes>"
      ]
     },
     "metadata": {
      "needs_background": "light"
     },
     "output_type": "display_data"
    }
   ],
   "source": [
    "delivery_df['num_distinct_items'].hist()"
   ]
  },
  {
   "cell_type": "markdown",
   "id": "e78a99c2",
   "metadata": {},
   "source": [
    "### item_price"
   ]
  },
  {
   "cell_type": "code",
   "execution_count": 190,
   "id": "1dbdabdc",
   "metadata": {},
   "outputs": [
    {
     "data": {
      "text/plain": [
       "<AxesSubplot:>"
      ]
     },
     "execution_count": 190,
     "metadata": {},
     "output_type": "execute_result"
    },
    {
     "data": {
      "image/png": "[encoded data removed]",
      "text/plain": [
       "<Figure size 432x288 with 1 Axes>"
      ]
     },
     "metadata": {
      "needs_background": "light"
     },
     "output_type": "display_data"
    }
   ],
   "source": [
    "delivery_df['min_item_price'].hist()"
   ]
  },
  {
   "cell_type": "code",
   "execution_count": 191,
   "id": "407b0721",
   "metadata": {},
   "outputs": [
    {
     "data": {
      "text/plain": [
       "<AxesSubplot:>"
      ]
     },
     "execution_count": 191,
     "metadata": {},
     "output_type": "execute_result"
    },
    {
     "data": {
      "image/png": "[encoded data removed]",
      "text/plain": [
       "<Figure size 432x288 with 1 Axes>"
      ]
     },
     "metadata": {
      "needs_background": "light"
     },
     "output_type": "display_data"
    }
   ],
   "source": [
    "delivery_df['max_item_price'].hist()"
   ]
  },
  {
   "cell_type": "code",
   "execution_count": 216,
   "id": "03d91b78",
   "metadata": {},
   "outputs": [
    {
     "data": {
      "image/png": "[encoded data removed]",
      "text/plain": [
       "<Figure size 720x576 with 1 Axes>"
      ]
     },
     "metadata": {
      "needs_background": "light"
     },
     "output_type": "display_data"
    }
   ],
   "source": [
    "delivery_df.plot(kind='scatter', x='max_item_price', y='subtotal', alpha=0.4, figsize=(10,8), c='num_distinct_items', cmap=plt.get_cmap(\"jet\"), colorbar=False)\n",
    "plt.xlabel('max_item_price', size=15)\n",
    "plt.ylabel('subtotal', size=15)\n",
    "plt.show()"
   ]
  },
  {
   "cell_type": "code",
   "execution_count": 227,
   "id": "e5ac53e7",
   "metadata": {},
   "outputs": [
    {
     "data": {
      "text/plain": [
       "1     324\n",
       "2     107\n",
       "3      49\n",
       "4      27\n",
       "5      16\n",
       "7       5\n",
       "6       4\n",
       "9       3\n",
       "8       3\n",
       "14      1\n",
       "15      1\n",
       "13      1\n",
       "11      1\n",
       "Name: total_items, dtype: int64"
      ]
     },
     "execution_count": 227,
     "metadata": {},
     "output_type": "execute_result"
    }
   ],
   "source": [
    "delivery_df[delivery_df['max_item_price'] > delivery_df['subtotal']]['total_items'].value_counts()"
   ]
  },
  {
   "cell_type": "markdown",
   "id": "098b0c58",
   "metadata": {},
   "source": [
    "전체 가격이 주문에 포함된 아이템 중 가장 비싼 아이템의 가격보다 낮은 데이터들을 확인할 수 있다.  "
   ]
  },
  {
   "cell_type": "markdown",
   "id": "3090201d",
   "metadata": {},
   "source": [
    "### weekday"
   ]
  },
  {
   "cell_type": "code",
   "execution_count": 249,
   "id": "5eac8e59",
   "metadata": {},
   "outputs": [],
   "source": [
    "import datetime\n",
    "def weekday(date):\n",
    "    wd = pd.Timestamp(date)\n",
    "    return wd.dayofweek"
   ]
  },
  {
   "cell_type": "code",
   "execution_count": 253,
   "id": "62ce1d0a",
   "metadata": {},
   "outputs": [
    {
     "data": {
      "text/html": [
       "<div>\n",
       "<style scoped>\n",
       "    .dataframe tbody tr th:only-of-type {\n",
       "        vertical-align: middle;\n",
       "    }\n",
       "\n",
       "    .dataframe tbody tr th {\n",
       "        vertical-align: top;\n",
       "    }\n",
       "\n",
       "    .dataframe thead th {\n",
       "        text-align: right;\n",
       "    }\n",
       "</style>\n",
       "<table border=\"1\" class=\"dataframe\">\n",
       "  <thead>\n",
       "    <tr style=\"text-align: right;\">\n",
       "      <th></th>\n",
       "      <th>created_at</th>\n",
       "      <th>weekday</th>\n",
       "    </tr>\n",
       "  </thead>\n",
       "  <tbody>\n",
       "    <tr>\n",
       "      <th>0</th>\n",
       "      <td>2015-02-06 22:24:17</td>\n",
       "      <td>4</td>\n",
       "    </tr>\n",
       "    <tr>\n",
       "      <th>1</th>\n",
       "      <td>2015-02-10 21:49:25</td>\n",
       "      <td>1</td>\n",
       "    </tr>\n",
       "    <tr>\n",
       "      <th>2</th>\n",
       "      <td>2015-01-22 20:39:28</td>\n",
       "      <td>3</td>\n",
       "    </tr>\n",
       "    <tr>\n",
       "      <th>3</th>\n",
       "      <td>2015-02-03 21:21:45</td>\n",
       "      <td>1</td>\n",
       "    </tr>\n",
       "    <tr>\n",
       "      <th>4</th>\n",
       "      <td>2015-02-15 02:40:36</td>\n",
       "      <td>6</td>\n",
       "    </tr>\n",
       "    <tr>\n",
       "      <th>...</th>\n",
       "      <td>...</td>\n",
       "      <td>...</td>\n",
       "    </tr>\n",
       "    <tr>\n",
       "      <th>197423</th>\n",
       "      <td>2015-02-17 00:19:41</td>\n",
       "      <td>1</td>\n",
       "    </tr>\n",
       "    <tr>\n",
       "      <th>197424</th>\n",
       "      <td>2015-02-13 00:01:59</td>\n",
       "      <td>4</td>\n",
       "    </tr>\n",
       "    <tr>\n",
       "      <th>197425</th>\n",
       "      <td>2015-01-24 04:46:08</td>\n",
       "      <td>5</td>\n",
       "    </tr>\n",
       "    <tr>\n",
       "      <th>197426</th>\n",
       "      <td>2015-02-01 18:18:15</td>\n",
       "      <td>6</td>\n",
       "    </tr>\n",
       "    <tr>\n",
       "      <th>197427</th>\n",
       "      <td>2015-02-08 19:24:33</td>\n",
       "      <td>6</td>\n",
       "    </tr>\n",
       "  </tbody>\n",
       "</table>\n",
       "<p>197414 rows × 2 columns</p>\n",
       "</div>"
      ],
      "text/plain": [
       "                created_at  weekday\n",
       "0      2015-02-06 22:24:17        4\n",
       "1      2015-02-10 21:49:25        1\n",
       "2      2015-01-22 20:39:28        3\n",
       "3      2015-02-03 21:21:45        1\n",
       "4      2015-02-15 02:40:36        6\n",
       "...                    ...      ...\n",
       "197423 2015-02-17 00:19:41        1\n",
       "197424 2015-02-13 00:01:59        4\n",
       "197425 2015-01-24 04:46:08        5\n",
       "197426 2015-02-01 18:18:15        6\n",
       "197427 2015-02-08 19:24:33        6\n",
       "\n",
       "[197414 rows x 2 columns]"
      ]
     },
     "execution_count": 253,
     "metadata": {},
     "output_type": "execute_result"
    }
   ],
   "source": [
    "delivery_df['weekday'] = delivery_df['created_at'].apply(weekday)\n",
    "delivery_df[['created_at', 'weekday']]"
   ]
  },
  {
   "cell_type": "markdown",
   "id": "c19cb2bd",
   "metadata": {},
   "source": [
    "### is_weekend"
   ]
  },
  {
   "cell_type": "code",
   "execution_count": 254,
   "id": "09e0cc02",
   "metadata": {},
   "outputs": [],
   "source": [
    "def is_weekend(weekday):\n",
    "    if weekday in [5,6]:\n",
    "        return 1\n",
    "    else:\n",
    "        return 0"
   ]
  },
  {
   "cell_type": "code",
   "execution_count": 256,
   "id": "bfb17ba9",
   "metadata": {},
   "outputs": [],
   "source": [
    "delivery_df['is_weekend'] = delivery_df['weekday'].apply(is_weekend)"
   ]
  },
  {
   "cell_type": "markdown",
   "id": "555ac5d6",
   "metadata": {},
   "source": [
    "### is_holiday"
   ]
  },
  {
   "cell_type": "code",
   "execution_count": 302,
   "id": "87003c6d",
   "metadata": {},
   "outputs": [
    {
     "data": {
      "text/plain": [
       "0         2015-02-06\n",
       "1         2015-02-10\n",
       "2         2015-01-22\n",
       "3         2015-02-03\n",
       "4         2015-02-15\n",
       "             ...    \n",
       "197423    2015-02-17\n",
       "197424    2015-02-13\n",
       "197425    2015-01-24\n",
       "197426    2015-02-01\n",
       "197427    2015-02-08\n",
       "Name: date, Length: 197414, dtype: object"
      ]
     },
     "execution_count": 302,
     "metadata": {},
     "output_type": "execute_result"
    }
   ],
   "source": [
    "def date_split(date):\n",
    "    year = str(date.year)\n",
    "    month = str(date.month)\n",
    "    if len(month)<2:\n",
    "        month = '0'+month\n",
    "    day = str(date.day)\n",
    "    if len(day)<2:\n",
    "        day = '0'+day\n",
    "    return year+'-'+month+'-'+day\n",
    "delivery_df['date'] = delivery_df['created_at'].apply(date_split)\n",
    "delivery_df['date']"
   ]
  },
  {
   "cell_type": "code",
   "execution_count": 332,
   "id": "51fb4797",
   "metadata": {},
   "outputs": [
    {
     "name": "stdout",
     "output_type": "stream",
     "text": [
      "holiday_list: DatetimeIndex(['2015-02-16'], dtype='datetime64[ns]', freq=None)\n",
      "mean deilvery_time at holiday: 3153.84\n",
      "mean delivery_time: 2861.59\n"
     ]
    },
    {
     "data": {
      "text/html": [
       "<div>\n",
       "<style scoped>\n",
       "    .dataframe tbody tr th:only-of-type {\n",
       "        vertical-align: middle;\n",
       "    }\n",
       "\n",
       "    .dataframe tbody tr th {\n",
       "        vertical-align: top;\n",
       "    }\n",
       "\n",
       "    .dataframe thead th {\n",
       "        text-align: right;\n",
       "    }\n",
       "</style>\n",
       "<table border=\"1\" class=\"dataframe\">\n",
       "  <thead>\n",
       "    <tr style=\"text-align: right;\">\n",
       "      <th></th>\n",
       "      <th>market_id</th>\n",
       "      <th>created_at</th>\n",
       "      <th>actual_delivery_time</th>\n",
       "      <th>store_id</th>\n",
       "      <th>store_primary_category</th>\n",
       "      <th>order_protocol</th>\n",
       "      <th>total_items</th>\n",
       "      <th>subtotal</th>\n",
       "      <th>num_distinct_items</th>\n",
       "      <th>min_item_price</th>\n",
       "      <th>...</th>\n",
       "      <th>total_onshift</th>\n",
       "      <th>total_busy</th>\n",
       "      <th>total_outstanding_orders</th>\n",
       "      <th>estimated_order_place_duration</th>\n",
       "      <th>estimated_store_to_consumer_driving_duration</th>\n",
       "      <th>delivery_time</th>\n",
       "      <th>weekday</th>\n",
       "      <th>is_weekend</th>\n",
       "      <th>is_holiday</th>\n",
       "      <th>date</th>\n",
       "    </tr>\n",
       "  </thead>\n",
       "  <tbody>\n",
       "    <tr>\n",
       "      <th>8</th>\n",
       "      <td>2.0</td>\n",
       "      <td>2015-02-16 00:11:35</td>\n",
       "      <td>2015-02-16 00:38:01</td>\n",
       "      <td>5477</td>\n",
       "      <td>indian</td>\n",
       "      <td>3.0</td>\n",
       "      <td>4</td>\n",
       "      <td>4771</td>\n",
       "      <td>3</td>\n",
       "      <td>820</td>\n",
       "      <td>...</td>\n",
       "      <td>8.0</td>\n",
       "      <td>6.0</td>\n",
       "      <td>18.0</td>\n",
       "      <td>446</td>\n",
       "      <td>289.0</td>\n",
       "      <td>1586</td>\n",
       "      <td>0</td>\n",
       "      <td>0</td>\n",
       "      <td>True</td>\n",
       "      <td>2015-02-16</td>\n",
       "    </tr>\n",
       "    <tr>\n",
       "      <th>11</th>\n",
       "      <td>3.0</td>\n",
       "      <td>2015-02-16 04:19:33</td>\n",
       "      <td>2015-02-16 06:34:00</td>\n",
       "      <td>5477</td>\n",
       "      <td>mexican</td>\n",
       "      <td>1.0</td>\n",
       "      <td>2</td>\n",
       "      <td>2200</td>\n",
       "      <td>2</td>\n",
       "      <td>600</td>\n",
       "      <td>...</td>\n",
       "      <td>3.0</td>\n",
       "      <td>3.0</td>\n",
       "      <td>4.0</td>\n",
       "      <td>446</td>\n",
       "      <td>642.0</td>\n",
       "      <td>8067</td>\n",
       "      <td>0</td>\n",
       "      <td>0</td>\n",
       "      <td>True</td>\n",
       "      <td>2015-02-16</td>\n",
       "    </tr>\n",
       "    <tr>\n",
       "      <th>24</th>\n",
       "      <td>1.0</td>\n",
       "      <td>2015-02-16 02:21:20</td>\n",
       "      <td>2015-02-16 03:54:14</td>\n",
       "      <td>5058</td>\n",
       "      <td>italian</td>\n",
       "      <td>1.0</td>\n",
       "      <td>3</td>\n",
       "      <td>3400</td>\n",
       "      <td>3</td>\n",
       "      <td>1400</td>\n",
       "      <td>...</td>\n",
       "      <td>22.0</td>\n",
       "      <td>21.0</td>\n",
       "      <td>39.0</td>\n",
       "      <td>446</td>\n",
       "      <td>501.0</td>\n",
       "      <td>5574</td>\n",
       "      <td>0</td>\n",
       "      <td>0</td>\n",
       "      <td>True</td>\n",
       "      <td>2015-02-16</td>\n",
       "    </tr>\n",
       "    <tr>\n",
       "      <th>37</th>\n",
       "      <td>1.0</td>\n",
       "      <td>2015-02-16 19:19:17</td>\n",
       "      <td>2015-02-16 20:16:43</td>\n",
       "      <td>4149</td>\n",
       "      <td>sandwich</td>\n",
       "      <td>2.0</td>\n",
       "      <td>8</td>\n",
       "      <td>7870</td>\n",
       "      <td>6</td>\n",
       "      <td>825</td>\n",
       "      <td>...</td>\n",
       "      <td>12.0</td>\n",
       "      <td>11.0</td>\n",
       "      <td>9.0</td>\n",
       "      <td>251</td>\n",
       "      <td>98.0</td>\n",
       "      <td>3446</td>\n",
       "      <td>0</td>\n",
       "      <td>0</td>\n",
       "      <td>True</td>\n",
       "      <td>2015-02-16</td>\n",
       "    </tr>\n",
       "    <tr>\n",
       "      <th>93</th>\n",
       "      <td>3.0</td>\n",
       "      <td>2015-02-16 22:09:05</td>\n",
       "      <td>2015-02-16 23:11:11</td>\n",
       "      <td>1698</td>\n",
       "      <td>sandwich</td>\n",
       "      <td>3.0</td>\n",
       "      <td>1</td>\n",
       "      <td>1125</td>\n",
       "      <td>1</td>\n",
       "      <td>975</td>\n",
       "      <td>...</td>\n",
       "      <td>7.0</td>\n",
       "      <td>7.0</td>\n",
       "      <td>7.0</td>\n",
       "      <td>251</td>\n",
       "      <td>813.0</td>\n",
       "      <td>3726</td>\n",
       "      <td>0</td>\n",
       "      <td>0</td>\n",
       "      <td>True</td>\n",
       "      <td>2015-02-16</td>\n",
       "    </tr>\n",
       "    <tr>\n",
       "      <th>...</th>\n",
       "      <td>...</td>\n",
       "      <td>...</td>\n",
       "      <td>...</td>\n",
       "      <td>...</td>\n",
       "      <td>...</td>\n",
       "      <td>...</td>\n",
       "      <td>...</td>\n",
       "      <td>...</td>\n",
       "      <td>...</td>\n",
       "      <td>...</td>\n",
       "      <td>...</td>\n",
       "      <td>...</td>\n",
       "      <td>...</td>\n",
       "      <td>...</td>\n",
       "      <td>...</td>\n",
       "      <td>...</td>\n",
       "      <td>...</td>\n",
       "      <td>...</td>\n",
       "      <td>...</td>\n",
       "      <td>...</td>\n",
       "      <td>...</td>\n",
       "    </tr>\n",
       "    <tr>\n",
       "      <th>197190</th>\n",
       "      <td>4.0</td>\n",
       "      <td>2015-02-16 04:10:59</td>\n",
       "      <td>2015-02-16 04:53:08</td>\n",
       "      <td>1409</td>\n",
       "      <td>vietnamese</td>\n",
       "      <td>5.0</td>\n",
       "      <td>1</td>\n",
       "      <td>1370</td>\n",
       "      <td>1</td>\n",
       "      <td>795</td>\n",
       "      <td>...</td>\n",
       "      <td>53.0</td>\n",
       "      <td>52.0</td>\n",
       "      <td>83.0</td>\n",
       "      <td>251</td>\n",
       "      <td>520.0</td>\n",
       "      <td>2529</td>\n",
       "      <td>0</td>\n",
       "      <td>0</td>\n",
       "      <td>True</td>\n",
       "      <td>2015-02-16</td>\n",
       "    </tr>\n",
       "    <tr>\n",
       "      <th>197319</th>\n",
       "      <td>4.0</td>\n",
       "      <td>2015-02-16 03:04:11</td>\n",
       "      <td>2015-02-16 03:37:27</td>\n",
       "      <td>6110</td>\n",
       "      <td>italian</td>\n",
       "      <td>2.0</td>\n",
       "      <td>2</td>\n",
       "      <td>2823</td>\n",
       "      <td>2</td>\n",
       "      <td>1198</td>\n",
       "      <td>...</td>\n",
       "      <td>81.0</td>\n",
       "      <td>81.0</td>\n",
       "      <td>136.0</td>\n",
       "      <td>251</td>\n",
       "      <td>335.0</td>\n",
       "      <td>1996</td>\n",
       "      <td>0</td>\n",
       "      <td>0</td>\n",
       "      <td>True</td>\n",
       "      <td>2015-02-16</td>\n",
       "    </tr>\n",
       "    <tr>\n",
       "      <th>197343</th>\n",
       "      <td>1.0</td>\n",
       "      <td>2015-02-16 20:15:49</td>\n",
       "      <td>2015-02-16 21:04:02</td>\n",
       "      <td>215</td>\n",
       "      <td>italian</td>\n",
       "      <td>1.0</td>\n",
       "      <td>2</td>\n",
       "      <td>2397</td>\n",
       "      <td>2</td>\n",
       "      <td>999</td>\n",
       "      <td>...</td>\n",
       "      <td>15.0</td>\n",
       "      <td>15.0</td>\n",
       "      <td>17.0</td>\n",
       "      <td>446</td>\n",
       "      <td>722.0</td>\n",
       "      <td>2893</td>\n",
       "      <td>0</td>\n",
       "      <td>0</td>\n",
       "      <td>True</td>\n",
       "      <td>2015-02-16</td>\n",
       "    </tr>\n",
       "    <tr>\n",
       "      <th>197350</th>\n",
       "      <td>1.0</td>\n",
       "      <td>2015-02-16 18:04:25</td>\n",
       "      <td>2015-02-16 19:00:48</td>\n",
       "      <td>2956</td>\n",
       "      <td>fast</td>\n",
       "      <td>4.0</td>\n",
       "      <td>4</td>\n",
       "      <td>1868</td>\n",
       "      <td>1</td>\n",
       "      <td>345</td>\n",
       "      <td>...</td>\n",
       "      <td>6.0</td>\n",
       "      <td>6.0</td>\n",
       "      <td>8.0</td>\n",
       "      <td>251</td>\n",
       "      <td>331.0</td>\n",
       "      <td>3383</td>\n",
       "      <td>0</td>\n",
       "      <td>0</td>\n",
       "      <td>True</td>\n",
       "      <td>2015-02-16</td>\n",
       "    </tr>\n",
       "    <tr>\n",
       "      <th>197352</th>\n",
       "      <td>1.0</td>\n",
       "      <td>2015-02-16 22:06:44</td>\n",
       "      <td>2015-02-16 22:45:26</td>\n",
       "      <td>2956</td>\n",
       "      <td>fast</td>\n",
       "      <td>4.0</td>\n",
       "      <td>1</td>\n",
       "      <td>649</td>\n",
       "      <td>1</td>\n",
       "      <td>649</td>\n",
       "      <td>...</td>\n",
       "      <td>16.0</td>\n",
       "      <td>15.0</td>\n",
       "      <td>16.0</td>\n",
       "      <td>251</td>\n",
       "      <td>241.0</td>\n",
       "      <td>2322</td>\n",
       "      <td>0</td>\n",
       "      <td>0</td>\n",
       "      <td>True</td>\n",
       "      <td>2015-02-16</td>\n",
       "    </tr>\n",
       "  </tbody>\n",
       "</table>\n",
       "<p>7930 rows × 21 columns</p>\n",
       "</div>"
      ],
      "text/plain": [
       "        market_id          created_at actual_delivery_time  store_id  \\\n",
       "8             2.0 2015-02-16 00:11:35  2015-02-16 00:38:01      5477   \n",
       "11            3.0 2015-02-16 04:19:33  2015-02-16 06:34:00      5477   \n",
       "24            1.0 2015-02-16 02:21:20  2015-02-16 03:54:14      5058   \n",
       "37            1.0 2015-02-16 19:19:17  2015-02-16 20:16:43      4149   \n",
       "93            3.0 2015-02-16 22:09:05  2015-02-16 23:11:11      1698   \n",
       "...           ...                 ...                  ...       ...   \n",
       "197190        4.0 2015-02-16 04:10:59  2015-02-16 04:53:08      1409   \n",
       "197319        4.0 2015-02-16 03:04:11  2015-02-16 03:37:27      6110   \n",
       "197343        1.0 2015-02-16 20:15:49  2015-02-16 21:04:02       215   \n",
       "197350        1.0 2015-02-16 18:04:25  2015-02-16 19:00:48      2956   \n",
       "197352        1.0 2015-02-16 22:06:44  2015-02-16 22:45:26      2956   \n",
       "\n",
       "       store_primary_category  order_protocol  total_items  subtotal  \\\n",
       "8                      indian             3.0            4      4771   \n",
       "11                    mexican             1.0            2      2200   \n",
       "24                    italian             1.0            3      3400   \n",
       "37                   sandwich             2.0            8      7870   \n",
       "93                   sandwich             3.0            1      1125   \n",
       "...                       ...             ...          ...       ...   \n",
       "197190             vietnamese             5.0            1      1370   \n",
       "197319                italian             2.0            2      2823   \n",
       "197343                italian             1.0            2      2397   \n",
       "197350                   fast             4.0            4      1868   \n",
       "197352                   fast             4.0            1       649   \n",
       "\n",
       "        num_distinct_items  min_item_price  ...  total_onshift  total_busy  \\\n",
       "8                        3             820  ...            8.0         6.0   \n",
       "11                       2             600  ...            3.0         3.0   \n",
       "24                       3            1400  ...           22.0        21.0   \n",
       "37                       6             825  ...           12.0        11.0   \n",
       "93                       1             975  ...            7.0         7.0   \n",
       "...                    ...             ...  ...            ...         ...   \n",
       "197190                   1             795  ...           53.0        52.0   \n",
       "197319                   2            1198  ...           81.0        81.0   \n",
       "197343                   2             999  ...           15.0        15.0   \n",
       "197350                   1             345  ...            6.0         6.0   \n",
       "197352                   1             649  ...           16.0        15.0   \n",
       "\n",
       "        total_outstanding_orders  estimated_order_place_duration  \\\n",
       "8                           18.0                             446   \n",
       "11                           4.0                             446   \n",
       "24                          39.0                             446   \n",
       "37                           9.0                             251   \n",
       "93                           7.0                             251   \n",
       "...                          ...                             ...   \n",
       "197190                      83.0                             251   \n",
       "197319                     136.0                             251   \n",
       "197343                      17.0                             446   \n",
       "197350                       8.0                             251   \n",
       "197352                      16.0                             251   \n",
       "\n",
       "        estimated_store_to_consumer_driving_duration  delivery_time  weekday  \\\n",
       "8                                              289.0           1586        0   \n",
       "11                                             642.0           8067        0   \n",
       "24                                             501.0           5574        0   \n",
       "37                                              98.0           3446        0   \n",
       "93                                             813.0           3726        0   \n",
       "...                                              ...            ...      ...   \n",
       "197190                                         520.0           2529        0   \n",
       "197319                                         335.0           1996        0   \n",
       "197343                                         722.0           2893        0   \n",
       "197350                                         331.0           3383        0   \n",
       "197352                                         241.0           2322        0   \n",
       "\n",
       "        is_weekend  is_holiday       date  \n",
       "8                0        True 2015-02-16  \n",
       "11               0        True 2015-02-16  \n",
       "24               0        True 2015-02-16  \n",
       "37               0        True 2015-02-16  \n",
       "93               0        True 2015-02-16  \n",
       "...            ...         ...        ...  \n",
       "197190           0        True 2015-02-16  \n",
       "197319           0        True 2015-02-16  \n",
       "197343           0        True 2015-02-16  \n",
       "197350           0        True 2015-02-16  \n",
       "197352           0        True 2015-02-16  \n",
       "\n",
       "[7930 rows x 21 columns]"
      ]
     },
     "execution_count": 332,
     "metadata": {},
     "output_type": "execute_result"
    }
   ],
   "source": [
    "from pandas.tseries.holiday import USFederalHolidayCalendar as calendar\n",
    "\n",
    "cal = calendar()\n",
    "holidays = cal.holidays(start=delivery_df.date.min(), end=delivery_df.date.max())\n",
    "delivery_df['date'] = pd.to_datetime(delivery_df['date'])\n",
    "delivery_df['is_holiday'] = delivery_df['date'].isin(holidays)\n",
    "print('holiday_list:', holidays)\n",
    "print('mean deilvery_time at holiday: {0:.2f}'.format(delivery_df[delivery_df['date'] == '2015-02-16']['delivery_time'].mean()))\n",
    "print('mean delivery_time: {0:.2f}'.format(delivery_df['delivery_time'].mean()))\n",
    "\n",
    "delivery_df[delivery_df['is_holiday']==True]"
   ]
  },
  {
   "cell_type": "markdown",
   "id": "52938290",
   "metadata": {},
   "source": [
    "### estimated_store_to_consumer_driving_duration"
   ]
  },
  {
   "cell_type": "code",
   "execution_count": 230,
   "id": "17939965",
   "metadata": {},
   "outputs": [
    {
     "data": {
      "text/plain": [
       "0         861.0\n",
       "1         690.0\n",
       "2         690.0\n",
       "3         289.0\n",
       "4         650.0\n",
       "          ...  \n",
       "197423    331.0\n",
       "197424    915.0\n",
       "197425    795.0\n",
       "197426    384.0\n",
       "197427    134.0\n",
       "Name: estimated_store_to_consumer_driving_duration, Length: 197414, dtype: float64"
      ]
     },
     "execution_count": 230,
     "metadata": {},
     "output_type": "execute_result"
    }
   ],
   "source": [
    "delivery_df['estimated_store_to_consumer_driving_duration'] = delivery_df[]"
   ]
  },
  {
   "cell_type": "code",
   "execution_count": 333,
   "id": "848dfcf9",
   "metadata": {},
   "outputs": [
    {
     "data": {
      "text/plain": [
       "<AxesSubplot:xlabel='estimated_store_to_consumer_driving_duration', ylabel='delivery_time'>"
      ]
     },
     "execution_count": 333,
     "metadata": {},
     "output_type": "execute_result"
    },
    {
     "data": {
      "image/png": "[encoded data removed]",
      "text/plain": [
       "<Figure size 432x288 with 1 Axes>"
      ]
     },
     "metadata": {
      "needs_background": "light"
     },
     "output_type": "display_data"
    }
   ],
   "source": [
    "sns.scatterplot(y=delivery_df['delivery_time'], x=delivery_df['estimated_store_to_consumer_driving_duration'])"
   ]
  },
  {
   "cell_type": "code",
   "execution_count": 337,
   "id": "edc7cbb3",
   "metadata": {},
   "outputs": [
    {
     "data": {
      "text/plain": [
       "<AxesSubplot:>"
      ]
     },
     "execution_count": 337,
     "metadata": {},
     "output_type": "execute_result"
    },
    {
     "data": {
      "image/png": "[encoded data removed]",
      "text/plain": [
       "<Figure size 720x576 with 2 Axes>"
      ]
     },
     "metadata": {
      "needs_background": "light"
     },
     "output_type": "display_data"
    }
   ],
   "source": [
    "plt.figure(figsize=(10,8))\n",
    "sns.heatmap(delivery_df.corr(), annot=True)"
   ]
  },
  {
   "cell_type": "markdown",
   "id": "c2a4a5af",
   "metadata": {},
   "source": [
    "### total_onshift"
   ]
  },
  {
   "cell_type": "code",
   "execution_count": 228,
   "id": "c48bbdd4",
   "metadata": {},
   "outputs": [
    {
     "data": {
      "text/html": [
       "<div>\n",
       "<style scoped>\n",
       "    .dataframe tbody tr th:only-of-type {\n",
       "        vertical-align: middle;\n",
       "    }\n",
       "\n",
       "    .dataframe tbody tr th {\n",
       "        vertical-align: top;\n",
       "    }\n",
       "\n",
       "    .dataframe thead th {\n",
       "        text-align: right;\n",
       "    }\n",
       "</style>\n",
       "<table border=\"1\" class=\"dataframe\">\n",
       "  <thead>\n",
       "    <tr style=\"text-align: right;\">\n",
       "      <th></th>\n",
       "      <th>market_id</th>\n",
       "      <th>created_at</th>\n",
       "      <th>actual_delivery_time</th>\n",
       "      <th>store_id</th>\n",
       "      <th>store_primary_category</th>\n",
       "      <th>order_protocol</th>\n",
       "      <th>total_items</th>\n",
       "      <th>subtotal</th>\n",
       "      <th>num_distinct_items</th>\n",
       "      <th>min_item_price</th>\n",
       "      <th>max_item_price</th>\n",
       "      <th>total_onshift</th>\n",
       "      <th>total_busy</th>\n",
       "      <th>total_outstanding_orders</th>\n",
       "      <th>estimated_order_place_duration</th>\n",
       "      <th>estimated_store_to_consumer_driving_duration</th>\n",
       "      <th>delivery_time</th>\n",
       "    </tr>\n",
       "  </thead>\n",
       "  <tbody>\n",
       "    <tr>\n",
       "      <th>160</th>\n",
       "      <td>6.0</td>\n",
       "      <td>2015-02-06 01:11:56</td>\n",
       "      <td>2015-02-06 01:42:51</td>\n",
       "      <td>976</td>\n",
       "      <td>breakfast</td>\n",
       "      <td>2.0</td>\n",
       "      <td>2</td>\n",
       "      <td>575</td>\n",
       "      <td>2</td>\n",
       "      <td>225</td>\n",
       "      <td>350</td>\n",
       "      <td>NaN</td>\n",
       "      <td>NaN</td>\n",
       "      <td>NaN</td>\n",
       "      <td>251</td>\n",
       "      <td>671.0</td>\n",
       "      <td>1855</td>\n",
       "    </tr>\n",
       "    <tr>\n",
       "      <th>161</th>\n",
       "      <td>6.0</td>\n",
       "      <td>2015-02-14 02:07:47</td>\n",
       "      <td>2015-02-14 03:17:37</td>\n",
       "      <td>976</td>\n",
       "      <td>breakfast</td>\n",
       "      <td>2.0</td>\n",
       "      <td>5</td>\n",
       "      <td>1415</td>\n",
       "      <td>3</td>\n",
       "      <td>185</td>\n",
       "      <td>675</td>\n",
       "      <td>NaN</td>\n",
       "      <td>NaN</td>\n",
       "      <td>NaN</td>\n",
       "      <td>251</td>\n",
       "      <td>893.0</td>\n",
       "      <td>4190</td>\n",
       "    </tr>\n",
       "    <tr>\n",
       "      <th>162</th>\n",
       "      <td>6.0</td>\n",
       "      <td>2015-01-31 21:58:30</td>\n",
       "      <td>2015-01-31 22:55:32</td>\n",
       "      <td>976</td>\n",
       "      <td>breakfast</td>\n",
       "      <td>2.0</td>\n",
       "      <td>1</td>\n",
       "      <td>650</td>\n",
       "      <td>1</td>\n",
       "      <td>650</td>\n",
       "      <td>650</td>\n",
       "      <td>NaN</td>\n",
       "      <td>NaN</td>\n",
       "      <td>NaN</td>\n",
       "      <td>251</td>\n",
       "      <td>479.0</td>\n",
       "      <td>3422</td>\n",
       "    </tr>\n",
       "    <tr>\n",
       "      <th>163</th>\n",
       "      <td>6.0</td>\n",
       "      <td>2015-02-08 03:28:59</td>\n",
       "      <td>2015-02-08 05:32:11</td>\n",
       "      <td>976</td>\n",
       "      <td>breakfast</td>\n",
       "      <td>2.0</td>\n",
       "      <td>5</td>\n",
       "      <td>1550</td>\n",
       "      <td>5</td>\n",
       "      <td>225</td>\n",
       "      <td>700</td>\n",
       "      <td>NaN</td>\n",
       "      <td>NaN</td>\n",
       "      <td>NaN</td>\n",
       "      <td>251</td>\n",
       "      <td>1104.0</td>\n",
       "      <td>7392</td>\n",
       "    </tr>\n",
       "    <tr>\n",
       "      <th>164</th>\n",
       "      <td>6.0</td>\n",
       "      <td>2015-01-23 19:29:17</td>\n",
       "      <td>2015-01-23 20:25:25</td>\n",
       "      <td>976</td>\n",
       "      <td>breakfast</td>\n",
       "      <td>2.0</td>\n",
       "      <td>6</td>\n",
       "      <td>1110</td>\n",
       "      <td>5</td>\n",
       "      <td>185</td>\n",
       "      <td>185</td>\n",
       "      <td>NaN</td>\n",
       "      <td>NaN</td>\n",
       "      <td>NaN</td>\n",
       "      <td>251</td>\n",
       "      <td>584.0</td>\n",
       "      <td>3368</td>\n",
       "    </tr>\n",
       "    <tr>\n",
       "      <th>...</th>\n",
       "      <td>...</td>\n",
       "      <td>...</td>\n",
       "      <td>...</td>\n",
       "      <td>...</td>\n",
       "      <td>...</td>\n",
       "      <td>...</td>\n",
       "      <td>...</td>\n",
       "      <td>...</td>\n",
       "      <td>...</td>\n",
       "      <td>...</td>\n",
       "      <td>...</td>\n",
       "      <td>...</td>\n",
       "      <td>...</td>\n",
       "      <td>...</td>\n",
       "      <td>...</td>\n",
       "      <td>...</td>\n",
       "      <td>...</td>\n",
       "    </tr>\n",
       "    <tr>\n",
       "      <th>197196</th>\n",
       "      <td>3.0</td>\n",
       "      <td>2015-02-10 19:55:29</td>\n",
       "      <td>2015-02-10 20:33:13</td>\n",
       "      <td>5382</td>\n",
       "      <td>indian</td>\n",
       "      <td>2.0</td>\n",
       "      <td>3</td>\n",
       "      <td>1792</td>\n",
       "      <td>3</td>\n",
       "      <td>163</td>\n",
       "      <td>1177</td>\n",
       "      <td>NaN</td>\n",
       "      <td>NaN</td>\n",
       "      <td>NaN</td>\n",
       "      <td>251</td>\n",
       "      <td>725.0</td>\n",
       "      <td>2264</td>\n",
       "    </tr>\n",
       "    <tr>\n",
       "      <th>197197</th>\n",
       "      <td>3.0</td>\n",
       "      <td>2015-02-06 03:05:38</td>\n",
       "      <td>2015-02-06 03:58:16</td>\n",
       "      <td>5382</td>\n",
       "      <td>indian</td>\n",
       "      <td>2.0</td>\n",
       "      <td>8</td>\n",
       "      <td>2923</td>\n",
       "      <td>5</td>\n",
       "      <td>50</td>\n",
       "      <td>1199</td>\n",
       "      <td>NaN</td>\n",
       "      <td>NaN</td>\n",
       "      <td>NaN</td>\n",
       "      <td>251</td>\n",
       "      <td>683.0</td>\n",
       "      <td>3158</td>\n",
       "    </tr>\n",
       "    <tr>\n",
       "      <th>197198</th>\n",
       "      <td>3.0</td>\n",
       "      <td>2015-01-23 03:57:56</td>\n",
       "      <td>2015-01-23 04:43:17</td>\n",
       "      <td>5382</td>\n",
       "      <td>indian</td>\n",
       "      <td>2.0</td>\n",
       "      <td>3</td>\n",
       "      <td>3297</td>\n",
       "      <td>3</td>\n",
       "      <td>799</td>\n",
       "      <td>1299</td>\n",
       "      <td>NaN</td>\n",
       "      <td>NaN</td>\n",
       "      <td>NaN</td>\n",
       "      <td>251</td>\n",
       "      <td>725.0</td>\n",
       "      <td>2721</td>\n",
       "    </tr>\n",
       "    <tr>\n",
       "      <th>197199</th>\n",
       "      <td>3.0</td>\n",
       "      <td>2015-01-24 03:15:41</td>\n",
       "      <td>2015-01-24 04:04:19</td>\n",
       "      <td>5382</td>\n",
       "      <td>indian</td>\n",
       "      <td>2.0</td>\n",
       "      <td>4</td>\n",
       "      <td>2776</td>\n",
       "      <td>4</td>\n",
       "      <td>179</td>\n",
       "      <td>1099</td>\n",
       "      <td>NaN</td>\n",
       "      <td>NaN</td>\n",
       "      <td>NaN</td>\n",
       "      <td>251</td>\n",
       "      <td>820.0</td>\n",
       "      <td>2918</td>\n",
       "    </tr>\n",
       "    <tr>\n",
       "      <th>197421</th>\n",
       "      <td>1.0</td>\n",
       "      <td>2015-01-30 03:35:01</td>\n",
       "      <td>2015-01-30 04:42:19</td>\n",
       "      <td>2956</td>\n",
       "      <td>fast</td>\n",
       "      <td>4.0</td>\n",
       "      <td>2</td>\n",
       "      <td>979</td>\n",
       "      <td>2</td>\n",
       "      <td>145</td>\n",
       "      <td>339</td>\n",
       "      <td>NaN</td>\n",
       "      <td>NaN</td>\n",
       "      <td>NaN</td>\n",
       "      <td>251</td>\n",
       "      <td>614.0</td>\n",
       "      <td>4038</td>\n",
       "    </tr>\n",
       "  </tbody>\n",
       "</table>\n",
       "<p>16260 rows × 17 columns</p>\n",
       "</div>"
      ],
      "text/plain": [
       "        market_id          created_at actual_delivery_time  store_id  \\\n",
       "160           6.0 2015-02-06 01:11:56  2015-02-06 01:42:51       976   \n",
       "161           6.0 2015-02-14 02:07:47  2015-02-14 03:17:37       976   \n",
       "162           6.0 2015-01-31 21:58:30  2015-01-31 22:55:32       976   \n",
       "163           6.0 2015-02-08 03:28:59  2015-02-08 05:32:11       976   \n",
       "164           6.0 2015-01-23 19:29:17  2015-01-23 20:25:25       976   \n",
       "...           ...                 ...                  ...       ...   \n",
       "197196        3.0 2015-02-10 19:55:29  2015-02-10 20:33:13      5382   \n",
       "197197        3.0 2015-02-06 03:05:38  2015-02-06 03:58:16      5382   \n",
       "197198        3.0 2015-01-23 03:57:56  2015-01-23 04:43:17      5382   \n",
       "197199        3.0 2015-01-24 03:15:41  2015-01-24 04:04:19      5382   \n",
       "197421        1.0 2015-01-30 03:35:01  2015-01-30 04:42:19      2956   \n",
       "\n",
       "       store_primary_category  order_protocol  total_items  subtotal  \\\n",
       "160                 breakfast             2.0            2       575   \n",
       "161                 breakfast             2.0            5      1415   \n",
       "162                 breakfast             2.0            1       650   \n",
       "163                 breakfast             2.0            5      1550   \n",
       "164                 breakfast             2.0            6      1110   \n",
       "...                       ...             ...          ...       ...   \n",
       "197196                 indian             2.0            3      1792   \n",
       "197197                 indian             2.0            8      2923   \n",
       "197198                 indian             2.0            3      3297   \n",
       "197199                 indian             2.0            4      2776   \n",
       "197421                   fast             4.0            2       979   \n",
       "\n",
       "        num_distinct_items  min_item_price  max_item_price  total_onshift  \\\n",
       "160                      2             225             350            NaN   \n",
       "161                      3             185             675            NaN   \n",
       "162                      1             650             650            NaN   \n",
       "163                      5             225             700            NaN   \n",
       "164                      5             185             185            NaN   \n",
       "...                    ...             ...             ...            ...   \n",
       "197196                   3             163            1177            NaN   \n",
       "197197                   5              50            1199            NaN   \n",
       "197198                   3             799            1299            NaN   \n",
       "197199                   4             179            1099            NaN   \n",
       "197421                   2             145             339            NaN   \n",
       "\n",
       "        total_busy  total_outstanding_orders  estimated_order_place_duration  \\\n",
       "160            NaN                       NaN                             251   \n",
       "161            NaN                       NaN                             251   \n",
       "162            NaN                       NaN                             251   \n",
       "163            NaN                       NaN                             251   \n",
       "164            NaN                       NaN                             251   \n",
       "...            ...                       ...                             ...   \n",
       "197196         NaN                       NaN                             251   \n",
       "197197         NaN                       NaN                             251   \n",
       "197198         NaN                       NaN                             251   \n",
       "197199         NaN                       NaN                             251   \n",
       "197421         NaN                       NaN                             251   \n",
       "\n",
       "        estimated_store_to_consumer_driving_duration  delivery_time  \n",
       "160                                            671.0           1855  \n",
       "161                                            893.0           4190  \n",
       "162                                            479.0           3422  \n",
       "163                                           1104.0           7392  \n",
       "164                                            584.0           3368  \n",
       "...                                              ...            ...  \n",
       "197196                                         725.0           2264  \n",
       "197197                                         683.0           3158  \n",
       "197198                                         725.0           2721  \n",
       "197199                                         820.0           2918  \n",
       "197421                                         614.0           4038  \n",
       "\n",
       "[16260 rows x 17 columns]"
      ]
     },
     "execution_count": 228,
     "metadata": {},
     "output_type": "execute_result"
    }
   ],
   "source": [
    "delivery_df[delivery_df['total_onshift'].isnull()]"
   ]
  },
  {
   "cell_type": "code",
   "execution_count": 229,
   "id": "93688d8b",
   "metadata": {},
   "outputs": [
    {
     "data": {
      "text/plain": [
       "(197414, 17)"
      ]
     },
     "execution_count": 229,
     "metadata": {},
     "output_type": "execute_result"
    }
   ],
   "source": [
    "delivery_df.shape"
   ]
  },
  {
   "cell_type": "code",
   "execution_count": null,
   "id": "a10ef1a4",
   "metadata": {},
   "outputs": [],
   "source": [
    "delivery_df.drop()"
   ]
  }
 ],
 "metadata": {
  "kernelspec": {
   "display_name": "Python 3 (ipykernel)",
   "language": "python",
   "name": "python3"
  },
  "language_info": {
   "codemirror_mode": {
    "name": "ipython",
    "version": 3
   },
   "file_extension": ".py",
   "mimetype": "text/x-python",
   "name": "python",
   "nbconvert_exporter": "python",
   "pygments_lexer": "ipython3",
   "version": "3.9.4"
  }
 },
 "nbformat": 4,
 "nbformat_minor": 5
}
