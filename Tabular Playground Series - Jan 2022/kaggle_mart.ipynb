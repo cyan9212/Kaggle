{
 "cells": [
  {
   "cell_type": "code",
   "execution_count": 127,
   "id": "31761815",
   "metadata": {},
   "outputs": [],
   "source": [
    "import pandas as pd\n",
    "import numpy as np\n",
    "import matplotlib.pyplot as plt\n",
    "%matplotlib inline\n",
    "import seaborn as sns"
   ]
  },
  {
   "cell_type": "markdown",
   "id": "e579a9a7",
   "metadata": {},
   "source": [
    "# Data Load"
   ]
  },
  {
   "cell_type": "code",
   "execution_count": 128,
   "id": "8393b9f8",
   "metadata": {},
   "outputs": [
    {
     "data": {
      "text/html": [
       "<div>\n",
       "<style scoped>\n",
       "    .dataframe tbody tr th:only-of-type {\n",
       "        vertical-align: middle;\n",
       "    }\n",
       "\n",
       "    .dataframe tbody tr th {\n",
       "        vertical-align: top;\n",
       "    }\n",
       "\n",
       "    .dataframe thead th {\n",
       "        text-align: right;\n",
       "    }\n",
       "</style>\n",
       "<table border=\"1\" class=\"dataframe\">\n",
       "  <thead>\n",
       "    <tr style=\"text-align: right;\">\n",
       "      <th></th>\n",
       "      <th>row_id</th>\n",
       "      <th>date</th>\n",
       "      <th>country</th>\n",
       "      <th>store</th>\n",
       "      <th>product</th>\n",
       "      <th>num_sold</th>\n",
       "    </tr>\n",
       "  </thead>\n",
       "  <tbody>\n",
       "    <tr>\n",
       "      <th>0</th>\n",
       "      <td>0</td>\n",
       "      <td>2015-01-01</td>\n",
       "      <td>Finland</td>\n",
       "      <td>KaggleMart</td>\n",
       "      <td>Kaggle Mug</td>\n",
       "      <td>329</td>\n",
       "    </tr>\n",
       "    <tr>\n",
       "      <th>1</th>\n",
       "      <td>1</td>\n",
       "      <td>2015-01-01</td>\n",
       "      <td>Finland</td>\n",
       "      <td>KaggleMart</td>\n",
       "      <td>Kaggle Hat</td>\n",
       "      <td>520</td>\n",
       "    </tr>\n",
       "    <tr>\n",
       "      <th>2</th>\n",
       "      <td>2</td>\n",
       "      <td>2015-01-01</td>\n",
       "      <td>Finland</td>\n",
       "      <td>KaggleMart</td>\n",
       "      <td>Kaggle Sticker</td>\n",
       "      <td>146</td>\n",
       "    </tr>\n",
       "    <tr>\n",
       "      <th>3</th>\n",
       "      <td>3</td>\n",
       "      <td>2015-01-01</td>\n",
       "      <td>Finland</td>\n",
       "      <td>KaggleRama</td>\n",
       "      <td>Kaggle Mug</td>\n",
       "      <td>572</td>\n",
       "    </tr>\n",
       "    <tr>\n",
       "      <th>4</th>\n",
       "      <td>4</td>\n",
       "      <td>2015-01-01</td>\n",
       "      <td>Finland</td>\n",
       "      <td>KaggleRama</td>\n",
       "      <td>Kaggle Hat</td>\n",
       "      <td>911</td>\n",
       "    </tr>\n",
       "    <tr>\n",
       "      <th>...</th>\n",
       "      <td>...</td>\n",
       "      <td>...</td>\n",
       "      <td>...</td>\n",
       "      <td>...</td>\n",
       "      <td>...</td>\n",
       "      <td>...</td>\n",
       "    </tr>\n",
       "    <tr>\n",
       "      <th>26293</th>\n",
       "      <td>26293</td>\n",
       "      <td>2018-12-31</td>\n",
       "      <td>Sweden</td>\n",
       "      <td>KaggleMart</td>\n",
       "      <td>Kaggle Hat</td>\n",
       "      <td>823</td>\n",
       "    </tr>\n",
       "    <tr>\n",
       "      <th>26294</th>\n",
       "      <td>26294</td>\n",
       "      <td>2018-12-31</td>\n",
       "      <td>Sweden</td>\n",
       "      <td>KaggleMart</td>\n",
       "      <td>Kaggle Sticker</td>\n",
       "      <td>250</td>\n",
       "    </tr>\n",
       "    <tr>\n",
       "      <th>26295</th>\n",
       "      <td>26295</td>\n",
       "      <td>2018-12-31</td>\n",
       "      <td>Sweden</td>\n",
       "      <td>KaggleRama</td>\n",
       "      <td>Kaggle Mug</td>\n",
       "      <td>1004</td>\n",
       "    </tr>\n",
       "    <tr>\n",
       "      <th>26296</th>\n",
       "      <td>26296</td>\n",
       "      <td>2018-12-31</td>\n",
       "      <td>Sweden</td>\n",
       "      <td>KaggleRama</td>\n",
       "      <td>Kaggle Hat</td>\n",
       "      <td>1441</td>\n",
       "    </tr>\n",
       "    <tr>\n",
       "      <th>26297</th>\n",
       "      <td>26297</td>\n",
       "      <td>2018-12-31</td>\n",
       "      <td>Sweden</td>\n",
       "      <td>KaggleRama</td>\n",
       "      <td>Kaggle Sticker</td>\n",
       "      <td>388</td>\n",
       "    </tr>\n",
       "  </tbody>\n",
       "</table>\n",
       "<p>26298 rows × 6 columns</p>\n",
       "</div>"
      ],
      "text/plain": [
       "       row_id        date  country       store         product  num_sold\n",
       "0           0  2015-01-01  Finland  KaggleMart      Kaggle Mug       329\n",
       "1           1  2015-01-01  Finland  KaggleMart      Kaggle Hat       520\n",
       "2           2  2015-01-01  Finland  KaggleMart  Kaggle Sticker       146\n",
       "3           3  2015-01-01  Finland  KaggleRama      Kaggle Mug       572\n",
       "4           4  2015-01-01  Finland  KaggleRama      Kaggle Hat       911\n",
       "...       ...         ...      ...         ...             ...       ...\n",
       "26293   26293  2018-12-31   Sweden  KaggleMart      Kaggle Hat       823\n",
       "26294   26294  2018-12-31   Sweden  KaggleMart  Kaggle Sticker       250\n",
       "26295   26295  2018-12-31   Sweden  KaggleRama      Kaggle Mug      1004\n",
       "26296   26296  2018-12-31   Sweden  KaggleRama      Kaggle Hat      1441\n",
       "26297   26297  2018-12-31   Sweden  KaggleRama  Kaggle Sticker       388\n",
       "\n",
       "[26298 rows x 6 columns]"
      ]
     },
     "execution_count": 128,
     "metadata": {},
     "output_type": "execute_result"
    }
   ],
   "source": [
    "train_df = pd.read_csv('/jupyter/Data/tabular/train.csv')\n",
    "test_df = pd.read_csv('/jupyter/Data/tabular/test.csv')\n",
    "train_df"
   ]
  },
  {
   "cell_type": "code",
   "execution_count": 129,
   "id": "a15e1ad7",
   "metadata": {},
   "outputs": [
    {
     "data": {
      "text/html": [
       "<div>\n",
       "<style scoped>\n",
       "    .dataframe tbody tr th:only-of-type {\n",
       "        vertical-align: middle;\n",
       "    }\n",
       "\n",
       "    .dataframe tbody tr th {\n",
       "        vertical-align: top;\n",
       "    }\n",
       "\n",
       "    .dataframe thead th {\n",
       "        text-align: right;\n",
       "    }\n",
       "</style>\n",
       "<table border=\"1\" class=\"dataframe\">\n",
       "  <thead>\n",
       "    <tr style=\"text-align: right;\">\n",
       "      <th></th>\n",
       "      <th>row_id</th>\n",
       "      <th>date</th>\n",
       "      <th>country</th>\n",
       "      <th>store</th>\n",
       "      <th>product</th>\n",
       "    </tr>\n",
       "  </thead>\n",
       "  <tbody>\n",
       "    <tr>\n",
       "      <th>0</th>\n",
       "      <td>26298</td>\n",
       "      <td>2019-01-01</td>\n",
       "      <td>Finland</td>\n",
       "      <td>KaggleMart</td>\n",
       "      <td>Kaggle Mug</td>\n",
       "    </tr>\n",
       "    <tr>\n",
       "      <th>1</th>\n",
       "      <td>26299</td>\n",
       "      <td>2019-01-01</td>\n",
       "      <td>Finland</td>\n",
       "      <td>KaggleMart</td>\n",
       "      <td>Kaggle Hat</td>\n",
       "    </tr>\n",
       "    <tr>\n",
       "      <th>2</th>\n",
       "      <td>26300</td>\n",
       "      <td>2019-01-01</td>\n",
       "      <td>Finland</td>\n",
       "      <td>KaggleMart</td>\n",
       "      <td>Kaggle Sticker</td>\n",
       "    </tr>\n",
       "    <tr>\n",
       "      <th>3</th>\n",
       "      <td>26301</td>\n",
       "      <td>2019-01-01</td>\n",
       "      <td>Finland</td>\n",
       "      <td>KaggleRama</td>\n",
       "      <td>Kaggle Mug</td>\n",
       "    </tr>\n",
       "    <tr>\n",
       "      <th>4</th>\n",
       "      <td>26302</td>\n",
       "      <td>2019-01-01</td>\n",
       "      <td>Finland</td>\n",
       "      <td>KaggleRama</td>\n",
       "      <td>Kaggle Hat</td>\n",
       "    </tr>\n",
       "    <tr>\n",
       "      <th>...</th>\n",
       "      <td>...</td>\n",
       "      <td>...</td>\n",
       "      <td>...</td>\n",
       "      <td>...</td>\n",
       "      <td>...</td>\n",
       "    </tr>\n",
       "    <tr>\n",
       "      <th>6565</th>\n",
       "      <td>32863</td>\n",
       "      <td>2019-12-31</td>\n",
       "      <td>Sweden</td>\n",
       "      <td>KaggleMart</td>\n",
       "      <td>Kaggle Hat</td>\n",
       "    </tr>\n",
       "    <tr>\n",
       "      <th>6566</th>\n",
       "      <td>32864</td>\n",
       "      <td>2019-12-31</td>\n",
       "      <td>Sweden</td>\n",
       "      <td>KaggleMart</td>\n",
       "      <td>Kaggle Sticker</td>\n",
       "    </tr>\n",
       "    <tr>\n",
       "      <th>6567</th>\n",
       "      <td>32865</td>\n",
       "      <td>2019-12-31</td>\n",
       "      <td>Sweden</td>\n",
       "      <td>KaggleRama</td>\n",
       "      <td>Kaggle Mug</td>\n",
       "    </tr>\n",
       "    <tr>\n",
       "      <th>6568</th>\n",
       "      <td>32866</td>\n",
       "      <td>2019-12-31</td>\n",
       "      <td>Sweden</td>\n",
       "      <td>KaggleRama</td>\n",
       "      <td>Kaggle Hat</td>\n",
       "    </tr>\n",
       "    <tr>\n",
       "      <th>6569</th>\n",
       "      <td>32867</td>\n",
       "      <td>2019-12-31</td>\n",
       "      <td>Sweden</td>\n",
       "      <td>KaggleRama</td>\n",
       "      <td>Kaggle Sticker</td>\n",
       "    </tr>\n",
       "  </tbody>\n",
       "</table>\n",
       "<p>6570 rows × 5 columns</p>\n",
       "</div>"
      ],
      "text/plain": [
       "      row_id        date  country       store         product\n",
       "0      26298  2019-01-01  Finland  KaggleMart      Kaggle Mug\n",
       "1      26299  2019-01-01  Finland  KaggleMart      Kaggle Hat\n",
       "2      26300  2019-01-01  Finland  KaggleMart  Kaggle Sticker\n",
       "3      26301  2019-01-01  Finland  KaggleRama      Kaggle Mug\n",
       "4      26302  2019-01-01  Finland  KaggleRama      Kaggle Hat\n",
       "...      ...         ...      ...         ...             ...\n",
       "6565   32863  2019-12-31   Sweden  KaggleMart      Kaggle Hat\n",
       "6566   32864  2019-12-31   Sweden  KaggleMart  Kaggle Sticker\n",
       "6567   32865  2019-12-31   Sweden  KaggleRama      Kaggle Mug\n",
       "6568   32866  2019-12-31   Sweden  KaggleRama      Kaggle Hat\n",
       "6569   32867  2019-12-31   Sweden  KaggleRama  Kaggle Sticker\n",
       "\n",
       "[6570 rows x 5 columns]"
      ]
     },
     "execution_count": 129,
     "metadata": {},
     "output_type": "execute_result"
    }
   ],
   "source": [
    "test_df"
   ]
  },
  {
   "cell_type": "code",
   "execution_count": 130,
   "id": "52355318",
   "metadata": {},
   "outputs": [
    {
     "name": "stdout",
     "output_type": "stream",
     "text": [
      "<class 'pandas.core.frame.DataFrame'>\n",
      "RangeIndex: 26298 entries, 0 to 26297\n",
      "Data columns (total 6 columns):\n",
      " #   Column    Non-Null Count  Dtype \n",
      "---  ------    --------------  ----- \n",
      " 0   row_id    26298 non-null  int64 \n",
      " 1   date      26298 non-null  object\n",
      " 2   country   26298 non-null  object\n",
      " 3   store     26298 non-null  object\n",
      " 4   product   26298 non-null  object\n",
      " 5   num_sold  26298 non-null  int64 \n",
      "dtypes: int64(2), object(4)\n",
      "memory usage: 1.2+ MB\n"
     ]
    }
   ],
   "source": [
    "train_df.info()"
   ]
  },
  {
   "cell_type": "code",
   "execution_count": 131,
   "id": "003d794f",
   "metadata": {},
   "outputs": [
    {
     "data": {
      "text/plain": [
       "Kaggle Mug        8766\n",
       "Kaggle Hat        8766\n",
       "Kaggle Sticker    8766\n",
       "Name: product, dtype: int64"
      ]
     },
     "execution_count": 131,
     "metadata": {},
     "output_type": "execute_result"
    }
   ],
   "source": [
    "train_df['country'].value_counts()\n",
    "train_df['store'].value_counts()\n",
    "train_df['product'].value_counts()"
   ]
  },
  {
   "cell_type": "markdown",
   "id": "c90b4226",
   "metadata": {},
   "source": [
    "# EDA & FE"
   ]
  },
  {
   "cell_type": "markdown",
   "id": "8da75ec2",
   "metadata": {},
   "source": [
    "## date"
   ]
  },
  {
   "cell_type": "code",
   "execution_count": 132,
   "id": "2ddf07b6",
   "metadata": {},
   "outputs": [],
   "source": [
    "def year(date):\n",
    "    year, month, day = date.split('-')\n",
    "    return int(year)\n",
    "def month(date):\n",
    "    year, month, day = date.split('-')\n",
    "    return int(month)"
   ]
  },
  {
   "cell_type": "code",
   "execution_count": 133,
   "id": "7c3411f2",
   "metadata": {},
   "outputs": [
    {
     "data": {
      "text/html": [
       "<div>\n",
       "<style scoped>\n",
       "    .dataframe tbody tr th:only-of-type {\n",
       "        vertical-align: middle;\n",
       "    }\n",
       "\n",
       "    .dataframe tbody tr th {\n",
       "        vertical-align: top;\n",
       "    }\n",
       "\n",
       "    .dataframe thead th {\n",
       "        text-align: right;\n",
       "    }\n",
       "</style>\n",
       "<table border=\"1\" class=\"dataframe\">\n",
       "  <thead>\n",
       "    <tr style=\"text-align: right;\">\n",
       "      <th></th>\n",
       "      <th>row_id</th>\n",
       "      <th>date</th>\n",
       "      <th>country</th>\n",
       "      <th>store</th>\n",
       "      <th>product</th>\n",
       "      <th>num_sold</th>\n",
       "      <th>year</th>\n",
       "      <th>month</th>\n",
       "    </tr>\n",
       "  </thead>\n",
       "  <tbody>\n",
       "    <tr>\n",
       "      <th>0</th>\n",
       "      <td>0</td>\n",
       "      <td>2015-01-01</td>\n",
       "      <td>Finland</td>\n",
       "      <td>KaggleMart</td>\n",
       "      <td>Kaggle Mug</td>\n",
       "      <td>329</td>\n",
       "      <td>2015</td>\n",
       "      <td>1</td>\n",
       "    </tr>\n",
       "    <tr>\n",
       "      <th>1</th>\n",
       "      <td>1</td>\n",
       "      <td>2015-01-01</td>\n",
       "      <td>Finland</td>\n",
       "      <td>KaggleMart</td>\n",
       "      <td>Kaggle Hat</td>\n",
       "      <td>520</td>\n",
       "      <td>2015</td>\n",
       "      <td>1</td>\n",
       "    </tr>\n",
       "    <tr>\n",
       "      <th>2</th>\n",
       "      <td>2</td>\n",
       "      <td>2015-01-01</td>\n",
       "      <td>Finland</td>\n",
       "      <td>KaggleMart</td>\n",
       "      <td>Kaggle Sticker</td>\n",
       "      <td>146</td>\n",
       "      <td>2015</td>\n",
       "      <td>1</td>\n",
       "    </tr>\n",
       "    <tr>\n",
       "      <th>3</th>\n",
       "      <td>3</td>\n",
       "      <td>2015-01-01</td>\n",
       "      <td>Finland</td>\n",
       "      <td>KaggleRama</td>\n",
       "      <td>Kaggle Mug</td>\n",
       "      <td>572</td>\n",
       "      <td>2015</td>\n",
       "      <td>1</td>\n",
       "    </tr>\n",
       "    <tr>\n",
       "      <th>4</th>\n",
       "      <td>4</td>\n",
       "      <td>2015-01-01</td>\n",
       "      <td>Finland</td>\n",
       "      <td>KaggleRama</td>\n",
       "      <td>Kaggle Hat</td>\n",
       "      <td>911</td>\n",
       "      <td>2015</td>\n",
       "      <td>1</td>\n",
       "    </tr>\n",
       "    <tr>\n",
       "      <th>...</th>\n",
       "      <td>...</td>\n",
       "      <td>...</td>\n",
       "      <td>...</td>\n",
       "      <td>...</td>\n",
       "      <td>...</td>\n",
       "      <td>...</td>\n",
       "      <td>...</td>\n",
       "      <td>...</td>\n",
       "    </tr>\n",
       "    <tr>\n",
       "      <th>26293</th>\n",
       "      <td>26293</td>\n",
       "      <td>2018-12-31</td>\n",
       "      <td>Sweden</td>\n",
       "      <td>KaggleMart</td>\n",
       "      <td>Kaggle Hat</td>\n",
       "      <td>823</td>\n",
       "      <td>2018</td>\n",
       "      <td>12</td>\n",
       "    </tr>\n",
       "    <tr>\n",
       "      <th>26294</th>\n",
       "      <td>26294</td>\n",
       "      <td>2018-12-31</td>\n",
       "      <td>Sweden</td>\n",
       "      <td>KaggleMart</td>\n",
       "      <td>Kaggle Sticker</td>\n",
       "      <td>250</td>\n",
       "      <td>2018</td>\n",
       "      <td>12</td>\n",
       "    </tr>\n",
       "    <tr>\n",
       "      <th>26295</th>\n",
       "      <td>26295</td>\n",
       "      <td>2018-12-31</td>\n",
       "      <td>Sweden</td>\n",
       "      <td>KaggleRama</td>\n",
       "      <td>Kaggle Mug</td>\n",
       "      <td>1004</td>\n",
       "      <td>2018</td>\n",
       "      <td>12</td>\n",
       "    </tr>\n",
       "    <tr>\n",
       "      <th>26296</th>\n",
       "      <td>26296</td>\n",
       "      <td>2018-12-31</td>\n",
       "      <td>Sweden</td>\n",
       "      <td>KaggleRama</td>\n",
       "      <td>Kaggle Hat</td>\n",
       "      <td>1441</td>\n",
       "      <td>2018</td>\n",
       "      <td>12</td>\n",
       "    </tr>\n",
       "    <tr>\n",
       "      <th>26297</th>\n",
       "      <td>26297</td>\n",
       "      <td>2018-12-31</td>\n",
       "      <td>Sweden</td>\n",
       "      <td>KaggleRama</td>\n",
       "      <td>Kaggle Sticker</td>\n",
       "      <td>388</td>\n",
       "      <td>2018</td>\n",
       "      <td>12</td>\n",
       "    </tr>\n",
       "  </tbody>\n",
       "</table>\n",
       "<p>26298 rows × 8 columns</p>\n",
       "</div>"
      ],
      "text/plain": [
       "       row_id        date  country       store         product  num_sold  \\\n",
       "0           0  2015-01-01  Finland  KaggleMart      Kaggle Mug       329   \n",
       "1           1  2015-01-01  Finland  KaggleMart      Kaggle Hat       520   \n",
       "2           2  2015-01-01  Finland  KaggleMart  Kaggle Sticker       146   \n",
       "3           3  2015-01-01  Finland  KaggleRama      Kaggle Mug       572   \n",
       "4           4  2015-01-01  Finland  KaggleRama      Kaggle Hat       911   \n",
       "...       ...         ...      ...         ...             ...       ...   \n",
       "26293   26293  2018-12-31   Sweden  KaggleMart      Kaggle Hat       823   \n",
       "26294   26294  2018-12-31   Sweden  KaggleMart  Kaggle Sticker       250   \n",
       "26295   26295  2018-12-31   Sweden  KaggleRama      Kaggle Mug      1004   \n",
       "26296   26296  2018-12-31   Sweden  KaggleRama      Kaggle Hat      1441   \n",
       "26297   26297  2018-12-31   Sweden  KaggleRama  Kaggle Sticker       388   \n",
       "\n",
       "       year  month  \n",
       "0      2015      1  \n",
       "1      2015      1  \n",
       "2      2015      1  \n",
       "3      2015      1  \n",
       "4      2015      1  \n",
       "...     ...    ...  \n",
       "26293  2018     12  \n",
       "26294  2018     12  \n",
       "26295  2018     12  \n",
       "26296  2018     12  \n",
       "26297  2018     12  \n",
       "\n",
       "[26298 rows x 8 columns]"
      ]
     },
     "execution_count": 133,
     "metadata": {},
     "output_type": "execute_result"
    }
   ],
   "source": [
    "train_df['year'] = train_df['date'].apply(year)\n",
    "train_df['month'] = train_df['date'].apply(month)\n",
    "\n",
    "test_df['year'] = test_df['date'].apply(year)\n",
    "test_df['month'] = test_df['date'].apply(month)\n",
    "\n",
    "train_df"
   ]
  },
  {
   "cell_type": "code",
   "execution_count": 134,
   "id": "b418e200",
   "metadata": {},
   "outputs": [],
   "source": [
    "train_df['date'] = pd.to_datetime(train_df['date'])\n",
    "test_df['date'] = pd.to_datetime(test_df['date'])"
   ]
  },
  {
   "cell_type": "code",
   "execution_count": 75,
   "id": "9911f3ec",
   "metadata": {},
   "outputs": [],
   "source": [
    "def season(month):\n",
    "    if month in [3,4,5]:\n",
    "        return 'spring'\n",
    "    elif month in [6,7,8]:\n",
    "        return 'summer'\n",
    "    elif month in [9,10,11]:\n",
    "        return 'fall'\n",
    "    else:\n",
    "        return 'winter'"
   ]
  },
  {
   "cell_type": "code",
   "execution_count": 135,
   "id": "c0aa8214",
   "metadata": {},
   "outputs": [
    {
     "data": {
      "text/html": [
       "<div>\n",
       "<style scoped>\n",
       "    .dataframe tbody tr th:only-of-type {\n",
       "        vertical-align: middle;\n",
       "    }\n",
       "\n",
       "    .dataframe tbody tr th {\n",
       "        vertical-align: top;\n",
       "    }\n",
       "\n",
       "    .dataframe thead th {\n",
       "        text-align: right;\n",
       "    }\n",
       "</style>\n",
       "<table border=\"1\" class=\"dataframe\">\n",
       "  <thead>\n",
       "    <tr style=\"text-align: right;\">\n",
       "      <th></th>\n",
       "      <th>row_id</th>\n",
       "      <th>date</th>\n",
       "      <th>country</th>\n",
       "      <th>store</th>\n",
       "      <th>product</th>\n",
       "      <th>num_sold</th>\n",
       "      <th>year</th>\n",
       "      <th>month</th>\n",
       "      <th>season</th>\n",
       "    </tr>\n",
       "  </thead>\n",
       "  <tbody>\n",
       "    <tr>\n",
       "      <th>0</th>\n",
       "      <td>0</td>\n",
       "      <td>2015-01-01</td>\n",
       "      <td>Finland</td>\n",
       "      <td>KaggleMart</td>\n",
       "      <td>Kaggle Mug</td>\n",
       "      <td>329</td>\n",
       "      <td>2015</td>\n",
       "      <td>1</td>\n",
       "      <td>winter</td>\n",
       "    </tr>\n",
       "    <tr>\n",
       "      <th>1</th>\n",
       "      <td>1</td>\n",
       "      <td>2015-01-01</td>\n",
       "      <td>Finland</td>\n",
       "      <td>KaggleMart</td>\n",
       "      <td>Kaggle Hat</td>\n",
       "      <td>520</td>\n",
       "      <td>2015</td>\n",
       "      <td>1</td>\n",
       "      <td>winter</td>\n",
       "    </tr>\n",
       "    <tr>\n",
       "      <th>2</th>\n",
       "      <td>2</td>\n",
       "      <td>2015-01-01</td>\n",
       "      <td>Finland</td>\n",
       "      <td>KaggleMart</td>\n",
       "      <td>Kaggle Sticker</td>\n",
       "      <td>146</td>\n",
       "      <td>2015</td>\n",
       "      <td>1</td>\n",
       "      <td>winter</td>\n",
       "    </tr>\n",
       "  </tbody>\n",
       "</table>\n",
       "</div>"
      ],
      "text/plain": [
       "   row_id       date  country       store         product  num_sold  year  \\\n",
       "0       0 2015-01-01  Finland  KaggleMart      Kaggle Mug       329  2015   \n",
       "1       1 2015-01-01  Finland  KaggleMart      Kaggle Hat       520  2015   \n",
       "2       2 2015-01-01  Finland  KaggleMart  Kaggle Sticker       146  2015   \n",
       "\n",
       "   month  season  \n",
       "0      1  winter  \n",
       "1      1  winter  \n",
       "2      1  winter  "
      ]
     },
     "execution_count": 135,
     "metadata": {},
     "output_type": "execute_result"
    }
   ],
   "source": [
    "train_df['season'] = train_df['month'].apply(season)\n",
    "test_df['season'] = test_df['month'].apply(season)\n",
    "train_df.head(3)"
   ]
  },
  {
   "cell_type": "code",
   "execution_count": 136,
   "id": "7af534a4",
   "metadata": {},
   "outputs": [],
   "source": [
    "import datetime\n",
    "def weekday(date):\n",
    "    wd = pd.Timestamp(date)\n",
    "    return wd.dayofweek\n",
    "\n",
    "train_df['weekday'] = train_df['date'].apply(weekday)\n",
    "test_df['weekday'] = test_df['date'].apply(weekday)"
   ]
  },
  {
   "cell_type": "code",
   "execution_count": 137,
   "id": "89084681",
   "metadata": {},
   "outputs": [
    {
     "data": {
      "text/html": [
       "<div>\n",
       "<style scoped>\n",
       "    .dataframe tbody tr th:only-of-type {\n",
       "        vertical-align: middle;\n",
       "    }\n",
       "\n",
       "    .dataframe tbody tr th {\n",
       "        vertical-align: top;\n",
       "    }\n",
       "\n",
       "    .dataframe thead th {\n",
       "        text-align: right;\n",
       "    }\n",
       "</style>\n",
       "<table border=\"1\" class=\"dataframe\">\n",
       "  <thead>\n",
       "    <tr style=\"text-align: right;\">\n",
       "      <th></th>\n",
       "      <th>row_id</th>\n",
       "      <th>date</th>\n",
       "      <th>country</th>\n",
       "      <th>store</th>\n",
       "      <th>product</th>\n",
       "      <th>num_sold</th>\n",
       "      <th>year</th>\n",
       "      <th>month</th>\n",
       "      <th>season</th>\n",
       "      <th>weekday</th>\n",
       "    </tr>\n",
       "  </thead>\n",
       "  <tbody>\n",
       "    <tr>\n",
       "      <th>0</th>\n",
       "      <td>0</td>\n",
       "      <td>2015-01-01</td>\n",
       "      <td>Finland</td>\n",
       "      <td>KaggleMart</td>\n",
       "      <td>Kaggle Mug</td>\n",
       "      <td>329</td>\n",
       "      <td>2015</td>\n",
       "      <td>1</td>\n",
       "      <td>winter</td>\n",
       "      <td>3</td>\n",
       "    </tr>\n",
       "    <tr>\n",
       "      <th>1</th>\n",
       "      <td>1</td>\n",
       "      <td>2015-01-01</td>\n",
       "      <td>Finland</td>\n",
       "      <td>KaggleMart</td>\n",
       "      <td>Kaggle Hat</td>\n",
       "      <td>520</td>\n",
       "      <td>2015</td>\n",
       "      <td>1</td>\n",
       "      <td>winter</td>\n",
       "      <td>3</td>\n",
       "    </tr>\n",
       "    <tr>\n",
       "      <th>2</th>\n",
       "      <td>2</td>\n",
       "      <td>2015-01-01</td>\n",
       "      <td>Finland</td>\n",
       "      <td>KaggleMart</td>\n",
       "      <td>Kaggle Sticker</td>\n",
       "      <td>146</td>\n",
       "      <td>2015</td>\n",
       "      <td>1</td>\n",
       "      <td>winter</td>\n",
       "      <td>3</td>\n",
       "    </tr>\n",
       "    <tr>\n",
       "      <th>3</th>\n",
       "      <td>3</td>\n",
       "      <td>2015-01-01</td>\n",
       "      <td>Finland</td>\n",
       "      <td>KaggleRama</td>\n",
       "      <td>Kaggle Mug</td>\n",
       "      <td>572</td>\n",
       "      <td>2015</td>\n",
       "      <td>1</td>\n",
       "      <td>winter</td>\n",
       "      <td>3</td>\n",
       "    </tr>\n",
       "    <tr>\n",
       "      <th>4</th>\n",
       "      <td>4</td>\n",
       "      <td>2015-01-01</td>\n",
       "      <td>Finland</td>\n",
       "      <td>KaggleRama</td>\n",
       "      <td>Kaggle Hat</td>\n",
       "      <td>911</td>\n",
       "      <td>2015</td>\n",
       "      <td>1</td>\n",
       "      <td>winter</td>\n",
       "      <td>3</td>\n",
       "    </tr>\n",
       "    <tr>\n",
       "      <th>...</th>\n",
       "      <td>...</td>\n",
       "      <td>...</td>\n",
       "      <td>...</td>\n",
       "      <td>...</td>\n",
       "      <td>...</td>\n",
       "      <td>...</td>\n",
       "      <td>...</td>\n",
       "      <td>...</td>\n",
       "      <td>...</td>\n",
       "      <td>...</td>\n",
       "    </tr>\n",
       "    <tr>\n",
       "      <th>26293</th>\n",
       "      <td>26293</td>\n",
       "      <td>2018-12-31</td>\n",
       "      <td>Sweden</td>\n",
       "      <td>KaggleMart</td>\n",
       "      <td>Kaggle Hat</td>\n",
       "      <td>823</td>\n",
       "      <td>2018</td>\n",
       "      <td>12</td>\n",
       "      <td>winter</td>\n",
       "      <td>0</td>\n",
       "    </tr>\n",
       "    <tr>\n",
       "      <th>26294</th>\n",
       "      <td>26294</td>\n",
       "      <td>2018-12-31</td>\n",
       "      <td>Sweden</td>\n",
       "      <td>KaggleMart</td>\n",
       "      <td>Kaggle Sticker</td>\n",
       "      <td>250</td>\n",
       "      <td>2018</td>\n",
       "      <td>12</td>\n",
       "      <td>winter</td>\n",
       "      <td>0</td>\n",
       "    </tr>\n",
       "    <tr>\n",
       "      <th>26295</th>\n",
       "      <td>26295</td>\n",
       "      <td>2018-12-31</td>\n",
       "      <td>Sweden</td>\n",
       "      <td>KaggleRama</td>\n",
       "      <td>Kaggle Mug</td>\n",
       "      <td>1004</td>\n",
       "      <td>2018</td>\n",
       "      <td>12</td>\n",
       "      <td>winter</td>\n",
       "      <td>0</td>\n",
       "    </tr>\n",
       "    <tr>\n",
       "      <th>26296</th>\n",
       "      <td>26296</td>\n",
       "      <td>2018-12-31</td>\n",
       "      <td>Sweden</td>\n",
       "      <td>KaggleRama</td>\n",
       "      <td>Kaggle Hat</td>\n",
       "      <td>1441</td>\n",
       "      <td>2018</td>\n",
       "      <td>12</td>\n",
       "      <td>winter</td>\n",
       "      <td>0</td>\n",
       "    </tr>\n",
       "    <tr>\n",
       "      <th>26297</th>\n",
       "      <td>26297</td>\n",
       "      <td>2018-12-31</td>\n",
       "      <td>Sweden</td>\n",
       "      <td>KaggleRama</td>\n",
       "      <td>Kaggle Sticker</td>\n",
       "      <td>388</td>\n",
       "      <td>2018</td>\n",
       "      <td>12</td>\n",
       "      <td>winter</td>\n",
       "      <td>0</td>\n",
       "    </tr>\n",
       "  </tbody>\n",
       "</table>\n",
       "<p>26298 rows × 10 columns</p>\n",
       "</div>"
      ],
      "text/plain": [
       "       row_id       date  country       store         product  num_sold  year  \\\n",
       "0           0 2015-01-01  Finland  KaggleMart      Kaggle Mug       329  2015   \n",
       "1           1 2015-01-01  Finland  KaggleMart      Kaggle Hat       520  2015   \n",
       "2           2 2015-01-01  Finland  KaggleMart  Kaggle Sticker       146  2015   \n",
       "3           3 2015-01-01  Finland  KaggleRama      Kaggle Mug       572  2015   \n",
       "4           4 2015-01-01  Finland  KaggleRama      Kaggle Hat       911  2015   \n",
       "...       ...        ...      ...         ...             ...       ...   ...   \n",
       "26293   26293 2018-12-31   Sweden  KaggleMart      Kaggle Hat       823  2018   \n",
       "26294   26294 2018-12-31   Sweden  KaggleMart  Kaggle Sticker       250  2018   \n",
       "26295   26295 2018-12-31   Sweden  KaggleRama      Kaggle Mug      1004  2018   \n",
       "26296   26296 2018-12-31   Sweden  KaggleRama      Kaggle Hat      1441  2018   \n",
       "26297   26297 2018-12-31   Sweden  KaggleRama  Kaggle Sticker       388  2018   \n",
       "\n",
       "       month  season  weekday  \n",
       "0          1  winter        3  \n",
       "1          1  winter        3  \n",
       "2          1  winter        3  \n",
       "3          1  winter        3  \n",
       "4          1  winter        3  \n",
       "...      ...     ...      ...  \n",
       "26293     12  winter        0  \n",
       "26294     12  winter        0  \n",
       "26295     12  winter        0  \n",
       "26296     12  winter        0  \n",
       "26297     12  winter        0  \n",
       "\n",
       "[26298 rows x 10 columns]"
      ]
     },
     "execution_count": 137,
     "metadata": {},
     "output_type": "execute_result"
    }
   ],
   "source": [
    "train_df"
   ]
  },
  {
   "cell_type": "code",
   "execution_count": 138,
   "id": "bfd71b64",
   "metadata": {},
   "outputs": [],
   "source": [
    "def is_weekend(weekday):\n",
    "    if weekday in [5,6]:\n",
    "        return 1\n",
    "    else:\n",
    "        return 0"
   ]
  },
  {
   "cell_type": "code",
   "execution_count": 139,
   "id": "b5af8672",
   "metadata": {},
   "outputs": [],
   "source": [
    "train_df['is_weekend'] = train_df['weekday'].apply(is_weekend)\n",
    "test_df['is_weekend'] = test_df['weekday'].apply(is_weekend)"
   ]
  },
  {
   "cell_type": "code",
   "execution_count": 140,
   "id": "ea448c36",
   "metadata": {},
   "outputs": [
    {
     "data": {
      "text/plain": [
       "0    18774\n",
       "1     7524\n",
       "Name: is_weekend, dtype: int64"
      ]
     },
     "execution_count": 140,
     "metadata": {},
     "output_type": "execute_result"
    }
   ],
   "source": [
    "train_df['is_weekend'].value_counts()"
   ]
  },
  {
   "cell_type": "code",
   "execution_count": 141,
   "id": "e7684661",
   "metadata": {},
   "outputs": [
    {
     "data": {
      "image/png": "[encoded data removed]",
      "text/plain": [
       "<Figure size 864x720 with 6 Axes>"
      ]
     },
     "metadata": {
      "needs_background": "light"
     },
     "output_type": "display_data"
    }
   ],
   "source": [
    "fig, ax = plt.subplots(3, 2, figsize=(12,10))\n",
    "cols = ['year', 'month', 'weekday', 'is_weekend', 'season']\n",
    "for i in range(3):\n",
    "    for j in range(2):\n",
    "        if i == 2 and j == 1:\n",
    "            break\n",
    "        unique = len(train_df[cols[i*2+j]].unique())\n",
    "        palette = sns.color_palette(\"husl\", unique)\n",
    "        sns.barplot(x=cols[i*2+j], y='num_sold', data=train_df, ax=ax[i,j], palette=palette)\n",
    "       "
   ]
  },
  {
   "cell_type": "code",
   "execution_count": 142,
   "id": "2199e258",
   "metadata": {},
   "outputs": [],
   "source": [
    "train_df['season_cat'] = train_df['season'].astype('category').cat.codes\n",
    "test_df['season_cat'] = test_df['season'].astype('category').cat.codes"
   ]
  },
  {
   "cell_type": "markdown",
   "id": "c92cd5ad",
   "metadata": {},
   "source": [
    "## store"
   ]
  },
  {
   "cell_type": "code",
   "execution_count": 143,
   "id": "6532fe3e",
   "metadata": {},
   "outputs": [
    {
     "data": {
      "image/png": "[encoded data removed]",
      "text/plain": [
       "<Figure size 432x288 with 1 Axes>"
      ]
     },
     "metadata": {
      "needs_background": "light"
     },
     "output_type": "display_data"
    }
   ],
   "source": [
    "sns.barplot(x='store', y='num_sold', data=train_df, palette=sns.color_palette(\"husl\", 2))\n",
    "plt.show()"
   ]
  },
  {
   "cell_type": "code",
   "execution_count": 144,
   "id": "33faec31",
   "metadata": {},
   "outputs": [],
   "source": [
    "train_df = pd.get_dummies(train_df, columns=['store'], prefix='store')\n",
    "test_df = pd.get_dummies(test_df, columns=['store'], prefix='store')"
   ]
  },
  {
   "cell_type": "markdown",
   "id": "b652676e",
   "metadata": {},
   "source": [
    "## country"
   ]
  },
  {
   "cell_type": "code",
   "execution_count": 145,
   "id": "1f89d6c4",
   "metadata": {},
   "outputs": [
    {
     "data": {
      "image/png": "[encoded data removed]",
      "text/plain": [
       "<Figure size 432x288 with 1 Axes>"
      ]
     },
     "metadata": {
      "needs_background": "light"
     },
     "output_type": "display_data"
    }
   ],
   "source": [
    "sns.barplot(x='country', y='num_sold', data=train_df, palette=sns.color_palette(\"husl\", 3))\n",
    "plt.show()"
   ]
  },
  {
   "cell_type": "code",
   "execution_count": 146,
   "id": "3f483c86",
   "metadata": {},
   "outputs": [],
   "source": [
    "train_df = pd.get_dummies(train_df, columns=['country'], prefix='country')\n",
    "test_df = pd.get_dummies(test_df, columns=['country'], prefix='country')"
   ]
  },
  {
   "cell_type": "markdown",
   "id": "11736151",
   "metadata": {},
   "source": [
    "## product"
   ]
  },
  {
   "cell_type": "code",
   "execution_count": 148,
   "id": "051c0012",
   "metadata": {},
   "outputs": [
    {
     "data": {
      "image/png": "[encoded data removed]",
      "text/plain": [
       "<Figure size 432x288 with 1 Axes>"
      ]
     },
     "metadata": {
      "needs_background": "light"
     },
     "output_type": "display_data"
    }
   ],
   "source": [
    "sns.barplot(x='product', y='num_sold', data=train_df, palette=sns.color_palette(\"husl\", 3))\n",
    "plt.show()"
   ]
  },
  {
   "cell_type": "code",
   "execution_count": 149,
   "id": "fa6e0060",
   "metadata": {},
   "outputs": [],
   "source": [
    "train_df = pd.get_dummies(train_df, columns=['product'], prefix='product')\n",
    "test_df = pd.get_dummies(test_df, columns=['product'], prefix='product')"
   ]
  },
  {
   "cell_type": "code",
   "execution_count": 150,
   "id": "2e86476d",
   "metadata": {},
   "outputs": [
    {
     "data": {
      "text/html": [
       "<div>\n",
       "<style scoped>\n",
       "    .dataframe tbody tr th:only-of-type {\n",
       "        vertical-align: middle;\n",
       "    }\n",
       "\n",
       "    .dataframe tbody tr th {\n",
       "        vertical-align: top;\n",
       "    }\n",
       "\n",
       "    .dataframe thead th {\n",
       "        text-align: right;\n",
       "    }\n",
       "</style>\n",
       "<table border=\"1\" class=\"dataframe\">\n",
       "  <thead>\n",
       "    <tr style=\"text-align: right;\">\n",
       "      <th></th>\n",
       "      <th>row_id</th>\n",
       "      <th>date</th>\n",
       "      <th>num_sold</th>\n",
       "      <th>year</th>\n",
       "      <th>month</th>\n",
       "      <th>season</th>\n",
       "      <th>weekday</th>\n",
       "      <th>is_weekend</th>\n",
       "      <th>season_cat</th>\n",
       "      <th>store_KaggleMart</th>\n",
       "      <th>store_KaggleRama</th>\n",
       "      <th>country_Finland</th>\n",
       "      <th>country_Norway</th>\n",
       "      <th>country_Sweden</th>\n",
       "      <th>product_Kaggle Hat</th>\n",
       "      <th>product_Kaggle Mug</th>\n",
       "      <th>product_Kaggle Sticker</th>\n",
       "    </tr>\n",
       "  </thead>\n",
       "  <tbody>\n",
       "    <tr>\n",
       "      <th>0</th>\n",
       "      <td>0</td>\n",
       "      <td>2015-01-01</td>\n",
       "      <td>329</td>\n",
       "      <td>2015</td>\n",
       "      <td>1</td>\n",
       "      <td>winter</td>\n",
       "      <td>3</td>\n",
       "      <td>0</td>\n",
       "      <td>3</td>\n",
       "      <td>1</td>\n",
       "      <td>0</td>\n",
       "      <td>1</td>\n",
       "      <td>0</td>\n",
       "      <td>0</td>\n",
       "      <td>0</td>\n",
       "      <td>1</td>\n",
       "      <td>0</td>\n",
       "    </tr>\n",
       "    <tr>\n",
       "      <th>1</th>\n",
       "      <td>1</td>\n",
       "      <td>2015-01-01</td>\n",
       "      <td>520</td>\n",
       "      <td>2015</td>\n",
       "      <td>1</td>\n",
       "      <td>winter</td>\n",
       "      <td>3</td>\n",
       "      <td>0</td>\n",
       "      <td>3</td>\n",
       "      <td>1</td>\n",
       "      <td>0</td>\n",
       "      <td>1</td>\n",
       "      <td>0</td>\n",
       "      <td>0</td>\n",
       "      <td>1</td>\n",
       "      <td>0</td>\n",
       "      <td>0</td>\n",
       "    </tr>\n",
       "    <tr>\n",
       "      <th>2</th>\n",
       "      <td>2</td>\n",
       "      <td>2015-01-01</td>\n",
       "      <td>146</td>\n",
       "      <td>2015</td>\n",
       "      <td>1</td>\n",
       "      <td>winter</td>\n",
       "      <td>3</td>\n",
       "      <td>0</td>\n",
       "      <td>3</td>\n",
       "      <td>1</td>\n",
       "      <td>0</td>\n",
       "      <td>1</td>\n",
       "      <td>0</td>\n",
       "      <td>0</td>\n",
       "      <td>0</td>\n",
       "      <td>0</td>\n",
       "      <td>1</td>\n",
       "    </tr>\n",
       "    <tr>\n",
       "      <th>3</th>\n",
       "      <td>3</td>\n",
       "      <td>2015-01-01</td>\n",
       "      <td>572</td>\n",
       "      <td>2015</td>\n",
       "      <td>1</td>\n",
       "      <td>winter</td>\n",
       "      <td>3</td>\n",
       "      <td>0</td>\n",
       "      <td>3</td>\n",
       "      <td>0</td>\n",
       "      <td>1</td>\n",
       "      <td>1</td>\n",
       "      <td>0</td>\n",
       "      <td>0</td>\n",
       "      <td>0</td>\n",
       "      <td>1</td>\n",
       "      <td>0</td>\n",
       "    </tr>\n",
       "    <tr>\n",
       "      <th>4</th>\n",
       "      <td>4</td>\n",
       "      <td>2015-01-01</td>\n",
       "      <td>911</td>\n",
       "      <td>2015</td>\n",
       "      <td>1</td>\n",
       "      <td>winter</td>\n",
       "      <td>3</td>\n",
       "      <td>0</td>\n",
       "      <td>3</td>\n",
       "      <td>0</td>\n",
       "      <td>1</td>\n",
       "      <td>1</td>\n",
       "      <td>0</td>\n",
       "      <td>0</td>\n",
       "      <td>1</td>\n",
       "      <td>0</td>\n",
       "      <td>0</td>\n",
       "    </tr>\n",
       "  </tbody>\n",
       "</table>\n",
       "</div>"
      ],
      "text/plain": [
       "   row_id       date  num_sold  year  month  season  weekday  is_weekend  \\\n",
       "0       0 2015-01-01       329  2015      1  winter        3           0   \n",
       "1       1 2015-01-01       520  2015      1  winter        3           0   \n",
       "2       2 2015-01-01       146  2015      1  winter        3           0   \n",
       "3       3 2015-01-01       572  2015      1  winter        3           0   \n",
       "4       4 2015-01-01       911  2015      1  winter        3           0   \n",
       "\n",
       "   season_cat  store_KaggleMart  store_KaggleRama  country_Finland  \\\n",
       "0           3                 1                 0                1   \n",
       "1           3                 1                 0                1   \n",
       "2           3                 1                 0                1   \n",
       "3           3                 0                 1                1   \n",
       "4           3                 0                 1                1   \n",
       "\n",
       "   country_Norway  country_Sweden  product_Kaggle Hat  product_Kaggle Mug  \\\n",
       "0               0               0                   0                   1   \n",
       "1               0               0                   1                   0   \n",
       "2               0               0                   0                   0   \n",
       "3               0               0                   0                   1   \n",
       "4               0               0                   1                   0   \n",
       "\n",
       "   product_Kaggle Sticker  \n",
       "0                       0  \n",
       "1                       0  \n",
       "2                       1  \n",
       "3                       0  \n",
       "4                       0  "
      ]
     },
     "execution_count": 150,
     "metadata": {},
     "output_type": "execute_result"
    }
   ],
   "source": [
    "train_df.head()"
   ]
  },
  {
   "cell_type": "markdown",
   "id": "810daf27",
   "metadata": {},
   "source": [
    "## Model Selection"
   ]
  },
  {
   "cell_type": "code",
   "execution_count": 171,
   "id": "4ce9dd27",
   "metadata": {},
   "outputs": [
    {
     "data": {
      "text/html": [
       "<div>\n",
       "<style scoped>\n",
       "    .dataframe tbody tr th:only-of-type {\n",
       "        vertical-align: middle;\n",
       "    }\n",
       "\n",
       "    .dataframe tbody tr th {\n",
       "        vertical-align: top;\n",
       "    }\n",
       "\n",
       "    .dataframe thead th {\n",
       "        text-align: right;\n",
       "    }\n",
       "</style>\n",
       "<table border=\"1\" class=\"dataframe\">\n",
       "  <thead>\n",
       "    <tr style=\"text-align: right;\">\n",
       "      <th></th>\n",
       "      <th>num_sold</th>\n",
       "      <th>year</th>\n",
       "      <th>month</th>\n",
       "      <th>weekday</th>\n",
       "      <th>is_weekend</th>\n",
       "      <th>season_cat</th>\n",
       "      <th>store_KaggleMart</th>\n",
       "      <th>store_KaggleRama</th>\n",
       "      <th>country_Finland</th>\n",
       "      <th>country_Norway</th>\n",
       "      <th>country_Sweden</th>\n",
       "      <th>product_Kaggle Hat</th>\n",
       "      <th>product_Kaggle Mug</th>\n",
       "      <th>product_Kaggle Sticker</th>\n",
       "    </tr>\n",
       "  </thead>\n",
       "  <tbody>\n",
       "    <tr>\n",
       "      <th>0</th>\n",
       "      <td>329</td>\n",
       "      <td>2015</td>\n",
       "      <td>1</td>\n",
       "      <td>3</td>\n",
       "      <td>0</td>\n",
       "      <td>3</td>\n",
       "      <td>1</td>\n",
       "      <td>0</td>\n",
       "      <td>1</td>\n",
       "      <td>0</td>\n",
       "      <td>0</td>\n",
       "      <td>0</td>\n",
       "      <td>1</td>\n",
       "      <td>0</td>\n",
       "    </tr>\n",
       "    <tr>\n",
       "      <th>1</th>\n",
       "      <td>520</td>\n",
       "      <td>2015</td>\n",
       "      <td>1</td>\n",
       "      <td>3</td>\n",
       "      <td>0</td>\n",
       "      <td>3</td>\n",
       "      <td>1</td>\n",
       "      <td>0</td>\n",
       "      <td>1</td>\n",
       "      <td>0</td>\n",
       "      <td>0</td>\n",
       "      <td>1</td>\n",
       "      <td>0</td>\n",
       "      <td>0</td>\n",
       "    </tr>\n",
       "    <tr>\n",
       "      <th>2</th>\n",
       "      <td>146</td>\n",
       "      <td>2015</td>\n",
       "      <td>1</td>\n",
       "      <td>3</td>\n",
       "      <td>0</td>\n",
       "      <td>3</td>\n",
       "      <td>1</td>\n",
       "      <td>0</td>\n",
       "      <td>1</td>\n",
       "      <td>0</td>\n",
       "      <td>0</td>\n",
       "      <td>0</td>\n",
       "      <td>0</td>\n",
       "      <td>1</td>\n",
       "    </tr>\n",
       "    <tr>\n",
       "      <th>3</th>\n",
       "      <td>572</td>\n",
       "      <td>2015</td>\n",
       "      <td>1</td>\n",
       "      <td>3</td>\n",
       "      <td>0</td>\n",
       "      <td>3</td>\n",
       "      <td>0</td>\n",
       "      <td>1</td>\n",
       "      <td>1</td>\n",
       "      <td>0</td>\n",
       "      <td>0</td>\n",
       "      <td>0</td>\n",
       "      <td>1</td>\n",
       "      <td>0</td>\n",
       "    </tr>\n",
       "    <tr>\n",
       "      <th>4</th>\n",
       "      <td>911</td>\n",
       "      <td>2015</td>\n",
       "      <td>1</td>\n",
       "      <td>3</td>\n",
       "      <td>0</td>\n",
       "      <td>3</td>\n",
       "      <td>0</td>\n",
       "      <td>1</td>\n",
       "      <td>1</td>\n",
       "      <td>0</td>\n",
       "      <td>0</td>\n",
       "      <td>1</td>\n",
       "      <td>0</td>\n",
       "      <td>0</td>\n",
       "    </tr>\n",
       "    <tr>\n",
       "      <th>...</th>\n",
       "      <td>...</td>\n",
       "      <td>...</td>\n",
       "      <td>...</td>\n",
       "      <td>...</td>\n",
       "      <td>...</td>\n",
       "      <td>...</td>\n",
       "      <td>...</td>\n",
       "      <td>...</td>\n",
       "      <td>...</td>\n",
       "      <td>...</td>\n",
       "      <td>...</td>\n",
       "      <td>...</td>\n",
       "      <td>...</td>\n",
       "      <td>...</td>\n",
       "    </tr>\n",
       "    <tr>\n",
       "      <th>26293</th>\n",
       "      <td>823</td>\n",
       "      <td>2018</td>\n",
       "      <td>12</td>\n",
       "      <td>0</td>\n",
       "      <td>0</td>\n",
       "      <td>3</td>\n",
       "      <td>1</td>\n",
       "      <td>0</td>\n",
       "      <td>0</td>\n",
       "      <td>0</td>\n",
       "      <td>1</td>\n",
       "      <td>1</td>\n",
       "      <td>0</td>\n",
       "      <td>0</td>\n",
       "    </tr>\n",
       "    <tr>\n",
       "      <th>26294</th>\n",
       "      <td>250</td>\n",
       "      <td>2018</td>\n",
       "      <td>12</td>\n",
       "      <td>0</td>\n",
       "      <td>0</td>\n",
       "      <td>3</td>\n",
       "      <td>1</td>\n",
       "      <td>0</td>\n",
       "      <td>0</td>\n",
       "      <td>0</td>\n",
       "      <td>1</td>\n",
       "      <td>0</td>\n",
       "      <td>0</td>\n",
       "      <td>1</td>\n",
       "    </tr>\n",
       "    <tr>\n",
       "      <th>26295</th>\n",
       "      <td>1004</td>\n",
       "      <td>2018</td>\n",
       "      <td>12</td>\n",
       "      <td>0</td>\n",
       "      <td>0</td>\n",
       "      <td>3</td>\n",
       "      <td>0</td>\n",
       "      <td>1</td>\n",
       "      <td>0</td>\n",
       "      <td>0</td>\n",
       "      <td>1</td>\n",
       "      <td>0</td>\n",
       "      <td>1</td>\n",
       "      <td>0</td>\n",
       "    </tr>\n",
       "    <tr>\n",
       "      <th>26296</th>\n",
       "      <td>1441</td>\n",
       "      <td>2018</td>\n",
       "      <td>12</td>\n",
       "      <td>0</td>\n",
       "      <td>0</td>\n",
       "      <td>3</td>\n",
       "      <td>0</td>\n",
       "      <td>1</td>\n",
       "      <td>0</td>\n",
       "      <td>0</td>\n",
       "      <td>1</td>\n",
       "      <td>1</td>\n",
       "      <td>0</td>\n",
       "      <td>0</td>\n",
       "    </tr>\n",
       "    <tr>\n",
       "      <th>26297</th>\n",
       "      <td>388</td>\n",
       "      <td>2018</td>\n",
       "      <td>12</td>\n",
       "      <td>0</td>\n",
       "      <td>0</td>\n",
       "      <td>3</td>\n",
       "      <td>0</td>\n",
       "      <td>1</td>\n",
       "      <td>0</td>\n",
       "      <td>0</td>\n",
       "      <td>1</td>\n",
       "      <td>0</td>\n",
       "      <td>0</td>\n",
       "      <td>1</td>\n",
       "    </tr>\n",
       "  </tbody>\n",
       "</table>\n",
       "<p>26298 rows × 14 columns</p>\n",
       "</div>"
      ],
      "text/plain": [
       "       num_sold  year  month  weekday  is_weekend  season_cat  \\\n",
       "0           329  2015      1        3           0           3   \n",
       "1           520  2015      1        3           0           3   \n",
       "2           146  2015      1        3           0           3   \n",
       "3           572  2015      1        3           0           3   \n",
       "4           911  2015      1        3           0           3   \n",
       "...         ...   ...    ...      ...         ...         ...   \n",
       "26293       823  2018     12        0           0           3   \n",
       "26294       250  2018     12        0           0           3   \n",
       "26295      1004  2018     12        0           0           3   \n",
       "26296      1441  2018     12        0           0           3   \n",
       "26297       388  2018     12        0           0           3   \n",
       "\n",
       "       store_KaggleMart  store_KaggleRama  country_Finland  country_Norway  \\\n",
       "0                     1                 0                1               0   \n",
       "1                     1                 0                1               0   \n",
       "2                     1                 0                1               0   \n",
       "3                     0                 1                1               0   \n",
       "4                     0                 1                1               0   \n",
       "...                 ...               ...              ...             ...   \n",
       "26293                 1                 0                0               0   \n",
       "26294                 1                 0                0               0   \n",
       "26295                 0                 1                0               0   \n",
       "26296                 0                 1                0               0   \n",
       "26297                 0                 1                0               0   \n",
       "\n",
       "       country_Sweden  product_Kaggle Hat  product_Kaggle Mug  \\\n",
       "0                   0                   0                   1   \n",
       "1                   0                   1                   0   \n",
       "2                   0                   0                   0   \n",
       "3                   0                   0                   1   \n",
       "4                   0                   1                   0   \n",
       "...               ...                 ...                 ...   \n",
       "26293               1                   1                   0   \n",
       "26294               1                   0                   0   \n",
       "26295               1                   0                   1   \n",
       "26296               1                   1                   0   \n",
       "26297               1                   0                   0   \n",
       "\n",
       "       product_Kaggle Sticker  \n",
       "0                           0  \n",
       "1                           0  \n",
       "2                           1  \n",
       "3                           0  \n",
       "4                           0  \n",
       "...                       ...  \n",
       "26293                       0  \n",
       "26294                       1  \n",
       "26295                       0  \n",
       "26296                       0  \n",
       "26297                       1  \n",
       "\n",
       "[26298 rows x 14 columns]"
      ]
     },
     "execution_count": 171,
     "metadata": {},
     "output_type": "execute_result"
    }
   ],
   "source": [
    "new_train_df = train_df.drop(['row_id', 'season','date'], axis=1)\n",
    "new_test_df = test_df.drop(['row_id', 'season', 'date'], axis=1)\n",
    "new_train_df"
   ]
  },
  {
   "cell_type": "code",
   "execution_count": 166,
   "id": "ac04fe7d",
   "metadata": {},
   "outputs": [],
   "source": [
    "data = new_train_df.drop('num_sold', axis=1)\n",
    "target = new_train_df['num_sold']"
   ]
  },
  {
   "cell_type": "code",
   "execution_count": 211,
   "id": "09e248a0",
   "metadata": {},
   "outputs": [],
   "source": [
    "from sklearn.model_selection import KFold, cross_val_score, GridSearchCV\n",
    "from sklearn.ensemble import RandomForestRegressor, GradientBoostingRegressor\n",
    "from lightgbm import LGBMRegressor\n",
    "from xgboost import XGBRegressor\n",
    "from sklearn.linear_model import ElasticNet, Lasso, LinearRegression\n",
    "\n",
    "k_fold = KFold(n_splits=10, shuffle=True, random_state=0)"
   ]
  },
  {
   "cell_type": "code",
   "execution_count": 183,
   "id": "94d3fc46",
   "metadata": {},
   "outputs": [],
   "source": [
    "from sklearn.preprocessing import RobustScaler\n",
    "\n",
    "#데이터 스케일링\n",
    "rbst_scaler = RobustScaler() #이상치의 영향을 줄이기 위해 평균값 대신 중앙값을 사용하는 RobustScaler사용\n",
    "train_scaled = rbst_scaler.fit_transform(data)\n",
    "test_scaled = rbst_scaler.fit_transform(new_test_df)"
   ]
  },
  {
   "cell_type": "code",
   "execution_count": 184,
   "id": "3cf6b116",
   "metadata": {},
   "outputs": [
    {
     "data": {
      "text/plain": [
       "88.85687287501582"
      ]
     },
     "execution_count": 184,
     "metadata": {},
     "output_type": "execute_result"
    }
   ],
   "source": [
    "rf = RandomForestRegressor(random_state=0)\n",
    "mse= -cross_val_score(rf, train_scaled, target, cv=k_fold, scoring='neg_mean_squared_error', ).mean()\n",
    "rmse=np.sqrt(mse)\n",
    "rmse"
   ]
  },
  {
   "cell_type": "code",
   "execution_count": 181,
   "id": "7959ddf8",
   "metadata": {},
   "outputs": [
    {
     "data": {
      "text/plain": [
       "78.73607381826707"
      ]
     },
     "execution_count": 181,
     "metadata": {},
     "output_type": "execute_result"
    }
   ],
   "source": [
    "xgb = XGBRegressor(random_state=0)\n",
    "mse= -cross_val_score(xgb, train_scaled, target, cv=k_fold, scoring='neg_mean_squared_error', ).mean()\n",
    "rmse = np.sqrt(mse)\n",
    "rmse"
   ]
  },
  {
   "cell_type": "code",
   "execution_count": 187,
   "id": "05252905",
   "metadata": {},
   "outputs": [
    {
     "data": {
      "text/plain": [
       "125.60914059725678"
      ]
     },
     "execution_count": 187,
     "metadata": {},
     "output_type": "execute_result"
    }
   ],
   "source": [
    "lasso = Lasso(random_state=0)\n",
    "mse= -cross_val_score(lasso, train_scaled, target, cv=k_fold, scoring='neg_mean_squared_error', ).mean()\n",
    "rmse = np.sqrt(mse)\n",
    "rmse"
   ]
  },
  {
   "cell_type": "code",
   "execution_count": 188,
   "id": "6d7a33b6",
   "metadata": {},
   "outputs": [
    {
     "data": {
      "text/plain": [
       "185.06787667919858"
      ]
     },
     "execution_count": 188,
     "metadata": {},
     "output_type": "execute_result"
    }
   ],
   "source": [
    "elastic = ElasticNet(random_state=0)\n",
    "mse= -cross_val_score(elastic, train_scaled, target, cv=k_fold, scoring='neg_mean_squared_error', ).mean()\n",
    "rmse = np.sqrt(mse)\n",
    "rmse"
   ]
  },
  {
   "cell_type": "code",
   "execution_count": 196,
   "id": "722e1a93",
   "metadata": {},
   "outputs": [
    {
     "data": {
      "text/plain": [
       "75.26152590139367"
      ]
     },
     "execution_count": 196,
     "metadata": {},
     "output_type": "execute_result"
    }
   ],
   "source": [
    "lgbm = LGBMRegressor(random_state=0)\n",
    "mse= -cross_val_score(lgbm, train_scaled, target, cv=k_fold, scoring='neg_mean_squared_error', ).mean()\n",
    "rmse = np.sqrt(mse)\n",
    "rmse"
   ]
  },
  {
   "cell_type": "code",
   "execution_count": 212,
   "id": "a779390a",
   "metadata": {},
   "outputs": [
    {
     "data": {
      "text/plain": [
       "77.5842586761983"
      ]
     },
     "execution_count": 212,
     "metadata": {},
     "output_type": "execute_result"
    }
   ],
   "source": [
    "gbr = GradientBoostingRegressor(random_state=0)\n",
    "mse= -cross_val_score(gbr, train_scaled, target, cv=k_fold, scoring='neg_mean_squared_error', ).mean()\n",
    "rmse = np.sqrt(mse)\n",
    "rmse"
   ]
  },
  {
   "cell_type": "code",
   "execution_count": 189,
   "id": "35b51c1b",
   "metadata": {},
   "outputs": [],
   "source": [
    "xgb.fit(train_scaled, target)\n",
    "prediction = xgb.predict(test_scaled)"
   ]
  },
  {
   "cell_type": "code",
   "execution_count": 193,
   "id": "6cc1b321",
   "metadata": {},
   "outputs": [],
   "source": [
    "submission = pd.DataFrame()\n",
    "submission['row_id'] = test_df['row_id']\n",
    "submission['num_sold'] = prediction"
   ]
  },
  {
   "cell_type": "code",
   "execution_count": 195,
   "id": "d6d6be3c",
   "metadata": {},
   "outputs": [],
   "source": [
    "submission.to_csv('submission1.csv', index=False)"
   ]
  },
  {
   "cell_type": "code",
   "execution_count": 203,
   "id": "c5ec1806",
   "metadata": {},
   "outputs": [
    {
     "name": "stdout",
     "output_type": "stream",
     "text": [
      "Fitting 10 folds for each of 100 candidates, totalling 1000 fits\n"
     ]
    },
    {
     "data": {
      "text/plain": [
       "-5346.522088192435"
      ]
     },
     "execution_count": 203,
     "metadata": {},
     "output_type": "execute_result"
    }
   ],
   "source": [
    "#XGBoost 파라미터 튜닝\n",
    "XGB = XGBRegressor(objective='reg:squarederror')\n",
    "xgb_param_grid = {'learning_rate': [1,0.1,0.01,0.001],\n",
    "              'n_estimators': [50, 100, 200, 500, 1000],\n",
    "              'max_depth' : [1,3,5,10,50]}\n",
    "gsXGB = GridSearchCV(XGB, param_grid = xgb_param_grid, cv = k_fold, scoring='neg_mean_squared_error', verbose = 1)\n",
    "gsXGB.fit(train_scaled, target)\n",
    "XGB_best = gsXGB.best_estimator_\n",
    "\n",
    "gsXGB.best_score_"
   ]
  },
  {
   "cell_type": "code",
   "execution_count": 205,
   "id": "fe75a651",
   "metadata": {},
   "outputs": [
    {
     "data": {
      "text/plain": [
       "{'learning_rate': 0.1, 'max_depth': 3, 'n_estimators': 1000}"
      ]
     },
     "execution_count": 205,
     "metadata": {},
     "output_type": "execute_result"
    }
   ],
   "source": [
    "gsXGB.best_params_"
   ]
  },
  {
   "cell_type": "code",
   "execution_count": 207,
   "id": "032d2e56",
   "metadata": {},
   "outputs": [
    {
     "name": "stdout",
     "output_type": "stream",
     "text": [
      "Fitting 10 folds for each of 432 candidates, totalling 4320 fits\n"
     ]
    },
    {
     "data": {
      "text/plain": [
       "-5717.913584769754"
      ]
     },
     "execution_count": 207,
     "metadata": {},
     "output_type": "execute_result"
    }
   ],
   "source": [
    "#LGBM 파라미터 튜닝\n",
    "LGB = LGBMRegressor()\n",
    "lgb_param_grid = {\n",
    "    'num_leaves' : [1,5,10],\n",
    "    'learning_rate': [1,0.1,0.01,0.001],\n",
    "    'n_estimators': [50, 100, 200, 500, 1000,5000], \n",
    "    'max_depth': [15,20,25],\n",
    "    'num_leaves': [50, 100, 200],\n",
    "    'min_split_gain': [0.3, 0.4],\n",
    "}\n",
    "gsLGB = GridSearchCV(LGB, param_grid = lgb_param_grid, cv=k_fold, scoring = 'neg_mean_squared_error', verbose=1)\n",
    "gsLGB.fit(train_scaled, target)\n",
    "LGB_best = gsLGB.best_estimator_\n",
    "\n",
    "gsLGB.best_score_"
   ]
  },
  {
   "cell_type": "code",
   "execution_count": 209,
   "id": "a7e01e55",
   "metadata": {},
   "outputs": [
    {
     "data": {
      "text/plain": [
       "{'learning_rate': 0.01,\n",
       " 'max_depth': 15,\n",
       " 'min_split_gain': 0.3,\n",
       " 'n_estimators': 500,\n",
       " 'num_leaves': 50}"
      ]
     },
     "execution_count": 209,
     "metadata": {},
     "output_type": "execute_result"
    }
   ],
   "source": [
    "gsLGB.best_params_"
   ]
  },
  {
   "cell_type": "code",
   "execution_count": 213,
   "id": "d7318ff6",
   "metadata": {},
   "outputs": [
    {
     "name": "stdout",
     "output_type": "stream",
     "text": [
      "Fitting 10 folds for each of 72 candidates, totalling 720 fits\n"
     ]
    },
    {
     "data": {
      "text/plain": [
       "-5385.694100694289"
      ]
     },
     "execution_count": 213,
     "metadata": {},
     "output_type": "execute_result"
    }
   ],
   "source": [
    "#GradientBoosting 파라미터 튜닝\n",
    "gbr = GradientBoostingRegressor()\n",
    "gb_param_grid = {'n_estimators' : [100,200,300],\n",
    "              'learning_rate': [0.1, 0.05, 0.01],\n",
    "              'max_depth': [4, 8],\n",
    "              'min_samples_leaf': [100,150],\n",
    "              'max_features': [0.3, 0.1] \n",
    "              }\n",
    "gsGBR = GridSearchCV(gbr, param_grid = gb_param_grid, cv = k_fold, scoring = 'neg_mean_squared_error', verbose = 1)\n",
    "gsGBR.fit(train_scaled, target)\n",
    "GBR_best = gsGBR.best_estimator_\n",
    "\n",
    "gsGBR.best_score_"
   ]
  },
  {
   "cell_type": "code",
   "execution_count": 214,
   "id": "610769c6",
   "metadata": {},
   "outputs": [
    {
     "data": {
      "text/plain": [
       "{'learning_rate': 0.1,\n",
       " 'max_depth': 4,\n",
       " 'max_features': 0.3,\n",
       " 'min_samples_leaf': 150,\n",
       " 'n_estimators': 300}"
      ]
     },
     "execution_count": 214,
     "metadata": {},
     "output_type": "execute_result"
    }
   ],
   "source": [
    "gsGBR.best_params_"
   ]
  },
  {
   "cell_type": "code",
   "execution_count": 216,
   "id": "4138504c",
   "metadata": {},
   "outputs": [
    {
     "data": {
      "text/plain": [
       "XGBRegressor(base_score=0.5, booster='gbtree', colsample_bylevel=1,\n",
       "             colsample_bynode=1, colsample_bytree=1, enable_categorical=False,\n",
       "             gamma=0, gpu_id=-1, importance_type=None,\n",
       "             interaction_constraints='', learning_rate=0.1, max_delta_step=0,\n",
       "             max_depth=3, min_child_weight=1, missing=nan,\n",
       "             monotone_constraints='()', n_estimators=1000, n_jobs=6,\n",
       "             num_parallel_tree=1, predictor='auto', random_state=0, reg_alpha=0,\n",
       "             reg_lambda=1, scale_pos_weight=1, subsample=1, tree_method='exact',\n",
       "             validate_parameters=1, verbosity=None)"
      ]
     },
     "execution_count": 216,
     "metadata": {},
     "output_type": "execute_result"
    }
   ],
   "source": [
    "XGB = XGBRegressor(objective='reg:squarederror', learning_rate=0.1, max_depth=3, n_estimators=1000 )\n",
    "XGB.fit(train_scaled, target)"
   ]
  },
  {
   "cell_type": "code",
   "execution_count": 217,
   "id": "aeb3fbfc",
   "metadata": {},
   "outputs": [],
   "source": [
    "prediction = XGB.predict(test_scaled)\n",
    "submission = pd.DataFrame()\n",
    "submission['row_id'] = test_df['row_id']\n",
    "submission['num_sold'] = prediction\n",
    "submission.to_csv('submission2.csv', index=False)"
   ]
  },
  {
   "cell_type": "markdown",
   "id": "9ef6726b",
   "metadata": {},
   "source": [
    "## Stacking"
   ]
  },
  {
   "cell_type": "code",
   "execution_count": 220,
   "id": "e1f244ef",
   "metadata": {},
   "outputs": [],
   "source": [
    "from mlxtend.regressor import StackingRegressor\n",
    "from sklearn.linear_model import LogisticRegression"
   ]
  },
  {
   "cell_type": "code",
   "execution_count": 221,
   "id": "04ff6410",
   "metadata": {},
   "outputs": [],
   "source": [
    "params = {'meta_regressor__C': [0.1, 1.0, 10.0, 100.0], 'use_features_in_secondary' : [True, False]}\n",
    "rgs1 = XGB_best\n",
    "rgs2 = LGB_best\n",
    "rgs3 = GBR_best\n",
    "\n",
    "lr = LogisticRegression()\n",
    "st_re = StackingRegressor(regressors = [rgs1, rgs2, rgs3], meta_regressor = RandomForestRegressor())\n",
    "st_mod = st_re.fit(train_scaled, target)\n",
    "st_pred = st_mod.predict(test_scaled)"
   ]
  },
  {
   "cell_type": "code",
   "execution_count": 222,
   "id": "3b969089",
   "metadata": {},
   "outputs": [],
   "source": [
    "submission = pd.DataFrame()\n",
    "submission['row_id'] = test_df['row_id']\n",
    "submission['num_sold'] = st_pred\n",
    "submission.to_csv('submission3.csv', index=False)"
   ]
  }
 ],
 "metadata": {
  "kernelspec": {
   "display_name": "Python 3 (ipykernel)",
   "language": "python",
   "name": "python3"
  },
  "language_info": {
   "codemirror_mode": {
    "name": "ipython",
    "version": 3
   },
   "file_extension": ".py",
   "mimetype": "text/x-python",
   "name": "python",
   "nbconvert_exporter": "python",
   "pygments_lexer": "ipython3",
   "version": "3.9.4"
  }
 },
 "nbformat": 4,
 "nbformat_minor": 5
}
